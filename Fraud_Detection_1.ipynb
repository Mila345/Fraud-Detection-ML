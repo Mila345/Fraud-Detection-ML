{
 "cells": [
  {
   "cell_type": "markdown",
   "metadata": {
    "id": "RqLQ-hbyb5jH"
   },
   "source": [
    "# Fraud Detection in Electricity and Gas Consumption Challenge\n",
    "\n",
    "This is a simple starter notebook based on the tutorial prepared by Joy Wawira. Check out the article [here](https://zindi.africa/learn/fraud-detection-in-electricity-and-gas-consumption-challenge-tutorial) for a more detailed description of the steps taken.\n",
    "\n",
    "This notebook covers:\n",
    "- Downloading the data straight from Zindi and onto colab\n",
    "- Loading the data and carrying out simple EDA to understand the data and prepare for modelling \n",
    "- Preprocessing the data and feature engineering \n",
    "- Creating a simple LGBM model and predicting on the test set\n",
    "- Prepare submission file and save as csv\n",
    "- Some tips on how to improve model performance and your score"
   ]
  },
  {
   "cell_type": "markdown",
   "metadata": {
    "id": "e6LfbE6PJbmp"
   },
   "source": [
    "# Pre-Requisites"
   ]
  },
  {
   "cell_type": "code",
   "execution_count": 1,
   "metadata": {
    "id": "IYR_e0SMJnpa",
    "tags": []
   },
   "outputs": [],
   "source": [
    "DATA_DIR = '/data'\n",
    "\n",
    "TRAIN_DIR = f'{DATA_DIR}/train'\n",
    "TEST_DIR = f'{DATA_DIR}/test'\n",
    "\n",
    "OUTPUT_DIR = f'{DATA_DIR}/output'"
   ]
  },
  {
   "cell_type": "markdown",
   "metadata": {
    "id": "3qArEf-4JhbE"
   },
   "source": [
    "## Download and extract files"
   ]
  },
  {
   "cell_type": "code",
   "execution_count": 2,
   "metadata": {
    "id": "GblUChAfGsaY",
    "tags": []
   },
   "outputs": [],
   "source": [
    "import os.path\n",
    "from os import path\n",
    "\n",
    "for pth in [TRAIN_DIR, TEST_DIR, OUTPUT_DIR]:\n",
    "  if path.exists(pth) == False:\n",
    "    os.mkdir(pth)"
   ]
  },
  {
   "cell_type": "code",
   "execution_count": null,
   "metadata": {
    "id": "4GEpOaBQGvlB"
   },
   "outputs": [],
   "source": [
    "#only run this cell once, at the start\n",
    "import requests, os\n",
    "\n",
    "train_zip = \"train.zip\"\n",
    "test_zip = \"test.zip\"\n",
    "sample_sub = \"SampleSubmission.csv\""
   ]
  },
  {
   "cell_type": "code",
   "execution_count": null,
   "metadata": {
    "colab": {
     "base_uri": "https://localhost:8080/"
    },
    "id": "fcqJHBiuIVp8",
    "outputId": "538c087d-1c8e-41df-9457-2a2a315b181a"
   },
   "outputs": [],
   "source": [
    "!unzip \"/content/train/train.zip\" -d \"/content/train/\"\n",
    "!unzip \"/content/test/test.zip\" -d \"/content/test/\""
   ]
  },
  {
   "cell_type": "markdown",
   "metadata": {
    "id": "Jy_tdygDJm-k"
   },
   "source": [
    "# Data Prep"
   ]
  },
  {
   "cell_type": "markdown",
   "metadata": {
    "id": "GKfpS4UVJ4Wj"
   },
   "source": [
    "## Import Libraries"
   ]
  },
  {
   "cell_type": "code",
   "execution_count": 3,
   "metadata": {
    "id": "OJMD_I3EJWP4",
    "tags": []
   },
   "outputs": [],
   "source": [
    "import pandas as pd\n",
    "import matplotlib.pyplot as plt\n",
    "#import lightgbm\n",
    "#from lightgbm import LGBMClassifier\n",
    "\n",
    "import warnings\n",
    "warnings.simplefilter('ignore')\n",
    "\n",
    "# Modelling\n",
    "from sklearn.preprocessing import StandardScaler, OneHotEncoder\n",
    "from sklearn.preprocessing import MinMaxScaler, RobustScaler\n",
    "from sklearn.model_selection import train_test_split\n",
    "from sklearn.metrics import accuracy_score\n",
    "from sklearn.datasets import make_classification\n",
    "from sklearn.linear_model import LogisticRegression, SGDClassifier\n",
    "from sklearn.metrics import fbeta_score, make_scorer\n",
    "from sklearn.metrics import confusion_matrix\n",
    "from sklearn import metrics\n",
    "from sklearn.metrics import classification_report\n",
    "from sklearn.model_selection import GridSearchCV, RandomizedSearchCV\n",
    "from sklearn.linear_model import SGDClassifier #Stohastic gradient descent\n",
    "from sklearn.neighbors import KNeighborsClassifier\n",
    "from sklearn.model_selection import RepeatedStratifiedKFold\n",
    "from scipy.stats import loguniform\n",
    "from sklearn.pipeline import Pipeline\n",
    "from sklearn.compose import ColumnTransformer\n",
    "from sklearn.model_selection import cross_val_predict\n",
    "from sklearn.metrics import accuracy_score, recall_score, precision_score, f1_score, roc_auc_score\n",
    "from sklearn.impute import SimpleImputer, KNNImputer\n",
    "from numpy import loadtxt\n",
    "from xgboost import XGBClassifier\n",
    "from sklearn.model_selection import train_test_split\n",
    "from sklearn.metrics import accuracy_score\n",
    "from lightgbm import LGBMClassifier\n",
    "\n",
    "# Plot\n",
    "import matplotlib.pyplot as plt\n",
    "import seaborn as sns\n",
    "#import plotly.express as px\n",
    "from matplotlib.ticker import PercentFormatter\n",
    "plt.rcParams.update({ \"figure.figsize\" : (8, 5),\"axes.facecolor\" : \"white\", \"axes.edgecolor\":  \"black\"})\n",
    "plt.rcParams[\"figure.facecolor\"]= \"w\"\n",
    "pd.plotting.register_matplotlib_converters()\n",
    "pd.set_option('display.float_format', lambda x: '%.3f' % x)\n",
    "pd.options.display.float_format = \"{:,.2f}\".format\n",
    "import warnings\n",
    "warnings.filterwarnings('ignore')\n",
    "\n",
    "RSEED = 42"
   ]
  },
  {
   "cell_type": "code",
   "execution_count": 3,
   "metadata": {
    "tags": []
   },
   "outputs": [
    {
     "name": "stdout",
     "output_type": "stream",
     "text": [
      "Collecting lightgbm\n",
      "  Using cached lightgbm-4.3.0.tar.gz (1.7 MB)\n",
      "  Installing build dependencies ... \u001b[?25ldone\n",
      "\u001b[?25h  Getting requirements to build wheel ... \u001b[?25ldone\n",
      "\u001b[?25h  Installing backend dependencies ... \u001b[?25ldone\n",
      "\u001b[?25h  Preparing metadata (pyproject.toml) ... \u001b[?25ldone\n",
      "\u001b[?25hRequirement already satisfied: numpy in /Users/milamiletic/.pyenv/versions/3.11.3/lib/python3.11/site-packages (from lightgbm) (1.24.3)\n",
      "Requirement already satisfied: scipy in /Users/milamiletic/.pyenv/versions/3.11.3/lib/python3.11/site-packages (from lightgbm) (1.12.0)\n",
      "Building wheels for collected packages: lightgbm\n",
      "  Building wheel for lightgbm (pyproject.toml) ... \u001b[?25ldone\n",
      "\u001b[?25h  Created wheel for lightgbm: filename=lightgbm-4.3.0-py3-none-macosx_13_0_arm64.whl size=1350056 sha256=294fef199352e0e603f4aaec7c2861344b36c0cc4bde014204d01ce717a187e8\n",
      "  Stored in directory: /Users/milamiletic/Library/Caches/pip/wheels/f4/d1/f4/3cd66516e5a05b0879846879dfb06e5a087f453adb405a5999\n",
      "Successfully built lightgbm\n",
      "Installing collected packages: lightgbm\n",
      "Successfully installed lightgbm-4.3.0\n"
     ]
    }
   ],
   "source": [
    "!pip install lightgbm"
   ]
  },
  {
   "cell_type": "code",
   "execution_count": 4,
   "metadata": {
    "tags": []
   },
   "outputs": [],
   "source": [
    "from os import path\n",
    "import sys\n",
    "sys.path.append(path.abspath('../')) #replace this path with your own path\n",
    "from custom_python_functions.model_evaluation import (\n",
    "    train_crossval_predict_score,\n",
    "    predict_and_print_scores,\n",
    "    plot_confusion_matrix,\n",
    "    plot_distributions,\n",
    "    plot_correlation,\n",
    "    plot_roc_curves)"
   ]
  },
  {
   "cell_type": "markdown",
   "metadata": {
    "id": "exEGyf6vJ_4T"
   },
   "source": [
    "## Read the Data"
   ]
  },
  {
   "cell_type": "code",
   "execution_count": 5,
   "metadata": {
    "id": "I2oIx7IuKCJm",
    "tags": []
   },
   "outputs": [],
   "source": [
    "import pandas as pd\n",
    "\n",
    "client_train = pd.read_csv('data/train/client_train.csv', low_memory=False)\n",
    "invoice_train = pd.read_csv('data/train/invoice_train.csv', low_memory=False)\n",
    "\n",
    "client_test = pd.read_csv('data/test/client_test.csv', low_memory=False)\n",
    "invoice_test = pd.read_csv('data/test/invoice_test.csv', low_memory=False)\n",
    "sample_submission = pd.read_csv('data/SampleSubmission.csv', low_memory=False)"
   ]
  },
  {
   "cell_type": "markdown",
   "metadata": {},
   "source": [
    "Columns:\n",
    "\n",
    "- Client_id: Unique id for client\n",
    "- District: District where the client is\n",
    "- Client_catg: Category client belongs to\n",
    "- Region: Area where the client is\n",
    "- Creation_date: Date client joined\n",
    "- Target: fraud:1 , not fraud: 0\n",
    "\n",
    "- Tarif_type: Type of tax\n",
    "- Counter_statue: takes up to 5 values such as working fine, not working, on hold statue, ect\n",
    "- Counter_code:\n",
    "- Reading_remarque: notes that the STEG agent takes during his visit to the client (e.g: If the counter shows something wrong, the agent gives a bad score)\n",
    "- Counter_coefficient: An additional coefficient to be added when standard consumption is exceeded\n",
    "- Consommation_level_1: Consumption_level_1\n",
    "- Consommation_level_2: Consumption_level_2\n",
    "- Consommation_level_3: Consumption_level_3\n",
    "- Consommation_level_4: Consumption_level_4\n",
    "- Months_number: Month number\n",
    "- Counter_type: Type of counter"
   ]
  },
  {
   "cell_type": "markdown",
   "metadata": {
    "id": "cDRp9i5ZO9mz"
   },
   "source": [
    "## Data Understanding"
   ]
  },
  {
   "cell_type": "code",
   "execution_count": 6,
   "metadata": {
    "colab": {
     "base_uri": "https://localhost:8080/"
    },
    "id": "h4zQzvLjKZ6E",
    "outputId": "deb14c51-2f5d-40cd-aa35-771477e044e0",
    "tags": []
   },
   "outputs": [
    {
     "name": "stdout",
     "output_type": "stream",
     "text": [
      "(135493, 6) (4476749, 16) (58069, 5) (4476749, 16)\n"
     ]
    }
   ],
   "source": [
    "#compare size of the various datasets\n",
    "print(client_train.shape, invoice_train.shape, client_test.shape, invoice_train.shape)"
   ]
  },
  {
   "cell_type": "code",
   "execution_count": 7,
   "metadata": {
    "colab": {
     "base_uri": "https://localhost:8080/",
     "height": 270
    },
    "id": "Tw1On2leQsxU",
    "outputId": "4bbe6376-2007-4ea4-cd6f-e53e4c0bcb33",
    "tags": []
   },
   "outputs": [
    {
     "data": {
      "text/html": [
       "<div>\n",
       "<style scoped>\n",
       "    .dataframe tbody tr th:only-of-type {\n",
       "        vertical-align: middle;\n",
       "    }\n",
       "\n",
       "    .dataframe tbody tr th {\n",
       "        vertical-align: top;\n",
       "    }\n",
       "\n",
       "    .dataframe thead th {\n",
       "        text-align: right;\n",
       "    }\n",
       "</style>\n",
       "<table border=\"1\" class=\"dataframe\">\n",
       "  <thead>\n",
       "    <tr style=\"text-align: right;\">\n",
       "      <th></th>\n",
       "      <th>client_id</th>\n",
       "      <th>invoice_date</th>\n",
       "      <th>tarif_type</th>\n",
       "      <th>counter_number</th>\n",
       "      <th>counter_statue</th>\n",
       "      <th>counter_code</th>\n",
       "      <th>reading_remarque</th>\n",
       "      <th>counter_coefficient</th>\n",
       "      <th>consommation_level_1</th>\n",
       "      <th>consommation_level_2</th>\n",
       "      <th>consommation_level_3</th>\n",
       "      <th>consommation_level_4</th>\n",
       "      <th>old_index</th>\n",
       "      <th>new_index</th>\n",
       "      <th>months_number</th>\n",
       "      <th>counter_type</th>\n",
       "    </tr>\n",
       "  </thead>\n",
       "  <tbody>\n",
       "    <tr>\n",
       "      <th>0</th>\n",
       "      <td>train_Client_0</td>\n",
       "      <td>2014-03-24</td>\n",
       "      <td>11</td>\n",
       "      <td>1335667</td>\n",
       "      <td>0</td>\n",
       "      <td>203</td>\n",
       "      <td>8</td>\n",
       "      <td>1</td>\n",
       "      <td>82</td>\n",
       "      <td>0</td>\n",
       "      <td>0</td>\n",
       "      <td>0</td>\n",
       "      <td>14302</td>\n",
       "      <td>14384</td>\n",
       "      <td>4</td>\n",
       "      <td>ELEC</td>\n",
       "    </tr>\n",
       "    <tr>\n",
       "      <th>1</th>\n",
       "      <td>train_Client_0</td>\n",
       "      <td>2013-03-29</td>\n",
       "      <td>11</td>\n",
       "      <td>1335667</td>\n",
       "      <td>0</td>\n",
       "      <td>203</td>\n",
       "      <td>6</td>\n",
       "      <td>1</td>\n",
       "      <td>1200</td>\n",
       "      <td>184</td>\n",
       "      <td>0</td>\n",
       "      <td>0</td>\n",
       "      <td>12294</td>\n",
       "      <td>13678</td>\n",
       "      <td>4</td>\n",
       "      <td>ELEC</td>\n",
       "    </tr>\n",
       "    <tr>\n",
       "      <th>2</th>\n",
       "      <td>train_Client_0</td>\n",
       "      <td>2015-03-23</td>\n",
       "      <td>11</td>\n",
       "      <td>1335667</td>\n",
       "      <td>0</td>\n",
       "      <td>203</td>\n",
       "      <td>8</td>\n",
       "      <td>1</td>\n",
       "      <td>123</td>\n",
       "      <td>0</td>\n",
       "      <td>0</td>\n",
       "      <td>0</td>\n",
       "      <td>14624</td>\n",
       "      <td>14747</td>\n",
       "      <td>4</td>\n",
       "      <td>ELEC</td>\n",
       "    </tr>\n",
       "    <tr>\n",
       "      <th>3</th>\n",
       "      <td>train_Client_0</td>\n",
       "      <td>2015-07-13</td>\n",
       "      <td>11</td>\n",
       "      <td>1335667</td>\n",
       "      <td>0</td>\n",
       "      <td>207</td>\n",
       "      <td>8</td>\n",
       "      <td>1</td>\n",
       "      <td>102</td>\n",
       "      <td>0</td>\n",
       "      <td>0</td>\n",
       "      <td>0</td>\n",
       "      <td>14747</td>\n",
       "      <td>14849</td>\n",
       "      <td>4</td>\n",
       "      <td>ELEC</td>\n",
       "    </tr>\n",
       "    <tr>\n",
       "      <th>4</th>\n",
       "      <td>train_Client_0</td>\n",
       "      <td>2016-11-17</td>\n",
       "      <td>11</td>\n",
       "      <td>1335667</td>\n",
       "      <td>0</td>\n",
       "      <td>207</td>\n",
       "      <td>9</td>\n",
       "      <td>1</td>\n",
       "      <td>572</td>\n",
       "      <td>0</td>\n",
       "      <td>0</td>\n",
       "      <td>0</td>\n",
       "      <td>15066</td>\n",
       "      <td>15638</td>\n",
       "      <td>12</td>\n",
       "      <td>ELEC</td>\n",
       "    </tr>\n",
       "    <tr>\n",
       "      <th>5</th>\n",
       "      <td>train_Client_0</td>\n",
       "      <td>2017-07-17</td>\n",
       "      <td>11</td>\n",
       "      <td>1335667</td>\n",
       "      <td>0</td>\n",
       "      <td>207</td>\n",
       "      <td>9</td>\n",
       "      <td>1</td>\n",
       "      <td>314</td>\n",
       "      <td>0</td>\n",
       "      <td>0</td>\n",
       "      <td>0</td>\n",
       "      <td>15638</td>\n",
       "      <td>15952</td>\n",
       "      <td>8</td>\n",
       "      <td>ELEC</td>\n",
       "    </tr>\n",
       "    <tr>\n",
       "      <th>6</th>\n",
       "      <td>train_Client_0</td>\n",
       "      <td>2018-12-07</td>\n",
       "      <td>11</td>\n",
       "      <td>1335667</td>\n",
       "      <td>0</td>\n",
       "      <td>207</td>\n",
       "      <td>9</td>\n",
       "      <td>1</td>\n",
       "      <td>541</td>\n",
       "      <td>0</td>\n",
       "      <td>0</td>\n",
       "      <td>0</td>\n",
       "      <td>15952</td>\n",
       "      <td>16493</td>\n",
       "      <td>12</td>\n",
       "      <td>ELEC</td>\n",
       "    </tr>\n",
       "    <tr>\n",
       "      <th>7</th>\n",
       "      <td>train_Client_0</td>\n",
       "      <td>2019-03-19</td>\n",
       "      <td>11</td>\n",
       "      <td>1335667</td>\n",
       "      <td>0</td>\n",
       "      <td>207</td>\n",
       "      <td>9</td>\n",
       "      <td>1</td>\n",
       "      <td>585</td>\n",
       "      <td>0</td>\n",
       "      <td>0</td>\n",
       "      <td>0</td>\n",
       "      <td>16493</td>\n",
       "      <td>17078</td>\n",
       "      <td>8</td>\n",
       "      <td>ELEC</td>\n",
       "    </tr>\n",
       "    <tr>\n",
       "      <th>8</th>\n",
       "      <td>train_Client_0</td>\n",
       "      <td>2011-07-22</td>\n",
       "      <td>11</td>\n",
       "      <td>1335667</td>\n",
       "      <td>0</td>\n",
       "      <td>203</td>\n",
       "      <td>9</td>\n",
       "      <td>1</td>\n",
       "      <td>1200</td>\n",
       "      <td>186</td>\n",
       "      <td>0</td>\n",
       "      <td>0</td>\n",
       "      <td>7770</td>\n",
       "      <td>9156</td>\n",
       "      <td>4</td>\n",
       "      <td>ELEC</td>\n",
       "    </tr>\n",
       "    <tr>\n",
       "      <th>9</th>\n",
       "      <td>train_Client_0</td>\n",
       "      <td>2011-11-22</td>\n",
       "      <td>11</td>\n",
       "      <td>1335667</td>\n",
       "      <td>0</td>\n",
       "      <td>203</td>\n",
       "      <td>6</td>\n",
       "      <td>1</td>\n",
       "      <td>1082</td>\n",
       "      <td>0</td>\n",
       "      <td>0</td>\n",
       "      <td>0</td>\n",
       "      <td>9156</td>\n",
       "      <td>10238</td>\n",
       "      <td>4</td>\n",
       "      <td>ELEC</td>\n",
       "    </tr>\n",
       "  </tbody>\n",
       "</table>\n",
       "</div>"
      ],
      "text/plain": [
       "        client_id invoice_date  tarif_type  counter_number counter_statue   \n",
       "0  train_Client_0   2014-03-24          11         1335667              0  \\\n",
       "1  train_Client_0   2013-03-29          11         1335667              0   \n",
       "2  train_Client_0   2015-03-23          11         1335667              0   \n",
       "3  train_Client_0   2015-07-13          11         1335667              0   \n",
       "4  train_Client_0   2016-11-17          11         1335667              0   \n",
       "5  train_Client_0   2017-07-17          11         1335667              0   \n",
       "6  train_Client_0   2018-12-07          11         1335667              0   \n",
       "7  train_Client_0   2019-03-19          11         1335667              0   \n",
       "8  train_Client_0   2011-07-22          11         1335667              0   \n",
       "9  train_Client_0   2011-11-22          11         1335667              0   \n",
       "\n",
       "   counter_code  reading_remarque  counter_coefficient  consommation_level_1   \n",
       "0           203                 8                    1                    82  \\\n",
       "1           203                 6                    1                  1200   \n",
       "2           203                 8                    1                   123   \n",
       "3           207                 8                    1                   102   \n",
       "4           207                 9                    1                   572   \n",
       "5           207                 9                    1                   314   \n",
       "6           207                 9                    1                   541   \n",
       "7           207                 9                    1                   585   \n",
       "8           203                 9                    1                  1200   \n",
       "9           203                 6                    1                  1082   \n",
       "\n",
       "   consommation_level_2  consommation_level_3  consommation_level_4   \n",
       "0                     0                     0                     0  \\\n",
       "1                   184                     0                     0   \n",
       "2                     0                     0                     0   \n",
       "3                     0                     0                     0   \n",
       "4                     0                     0                     0   \n",
       "5                     0                     0                     0   \n",
       "6                     0                     0                     0   \n",
       "7                     0                     0                     0   \n",
       "8                   186                     0                     0   \n",
       "9                     0                     0                     0   \n",
       "\n",
       "   old_index  new_index  months_number counter_type  \n",
       "0      14302      14384              4         ELEC  \n",
       "1      12294      13678              4         ELEC  \n",
       "2      14624      14747              4         ELEC  \n",
       "3      14747      14849              4         ELEC  \n",
       "4      15066      15638             12         ELEC  \n",
       "5      15638      15952              8         ELEC  \n",
       "6      15952      16493             12         ELEC  \n",
       "7      16493      17078              8         ELEC  \n",
       "8       7770       9156              4         ELEC  \n",
       "9       9156      10238              4         ELEC  "
      ]
     },
     "execution_count": 7,
     "metadata": {},
     "output_type": "execute_result"
    }
   ],
   "source": [
    "#print top rows of dataset\n",
    "invoice_train.head(10)"
   ]
  },
  {
   "cell_type": "code",
   "execution_count": 8,
   "metadata": {
    "tags": []
   },
   "outputs": [
    {
     "data": {
      "text/html": [
       "<div>\n",
       "<style scoped>\n",
       "    .dataframe tbody tr th:only-of-type {\n",
       "        vertical-align: middle;\n",
       "    }\n",
       "\n",
       "    .dataframe tbody tr th {\n",
       "        vertical-align: top;\n",
       "    }\n",
       "\n",
       "    .dataframe thead th {\n",
       "        text-align: right;\n",
       "    }\n",
       "</style>\n",
       "<table border=\"1\" class=\"dataframe\">\n",
       "  <thead>\n",
       "    <tr style=\"text-align: right;\">\n",
       "      <th></th>\n",
       "      <th>disrict</th>\n",
       "      <th>client_id</th>\n",
       "      <th>client_catg</th>\n",
       "      <th>region</th>\n",
       "      <th>creation_date</th>\n",
       "      <th>target</th>\n",
       "    </tr>\n",
       "  </thead>\n",
       "  <tbody>\n",
       "    <tr>\n",
       "      <th>0</th>\n",
       "      <td>60</td>\n",
       "      <td>train_Client_0</td>\n",
       "      <td>11</td>\n",
       "      <td>101</td>\n",
       "      <td>31/12/1994</td>\n",
       "      <td>0.00</td>\n",
       "    </tr>\n",
       "    <tr>\n",
       "      <th>1</th>\n",
       "      <td>69</td>\n",
       "      <td>train_Client_1</td>\n",
       "      <td>11</td>\n",
       "      <td>107</td>\n",
       "      <td>29/05/2002</td>\n",
       "      <td>0.00</td>\n",
       "    </tr>\n",
       "    <tr>\n",
       "      <th>2</th>\n",
       "      <td>62</td>\n",
       "      <td>train_Client_10</td>\n",
       "      <td>11</td>\n",
       "      <td>301</td>\n",
       "      <td>13/03/1986</td>\n",
       "      <td>0.00</td>\n",
       "    </tr>\n",
       "    <tr>\n",
       "      <th>3</th>\n",
       "      <td>69</td>\n",
       "      <td>train_Client_100</td>\n",
       "      <td>11</td>\n",
       "      <td>105</td>\n",
       "      <td>11/07/1996</td>\n",
       "      <td>0.00</td>\n",
       "    </tr>\n",
       "    <tr>\n",
       "      <th>4</th>\n",
       "      <td>62</td>\n",
       "      <td>train_Client_1000</td>\n",
       "      <td>11</td>\n",
       "      <td>303</td>\n",
       "      <td>14/10/2014</td>\n",
       "      <td>0.00</td>\n",
       "    </tr>\n",
       "    <tr>\n",
       "      <th>5</th>\n",
       "      <td>69</td>\n",
       "      <td>train_Client_10000</td>\n",
       "      <td>11</td>\n",
       "      <td>103</td>\n",
       "      <td>29/09/1993</td>\n",
       "      <td>0.00</td>\n",
       "    </tr>\n",
       "    <tr>\n",
       "      <th>6</th>\n",
       "      <td>62</td>\n",
       "      <td>train_Client_100000</td>\n",
       "      <td>11</td>\n",
       "      <td>309</td>\n",
       "      <td>07/06/2012</td>\n",
       "      <td>0.00</td>\n",
       "    </tr>\n",
       "    <tr>\n",
       "      <th>7</th>\n",
       "      <td>60</td>\n",
       "      <td>train_Client_100001</td>\n",
       "      <td>11</td>\n",
       "      <td>101</td>\n",
       "      <td>12/04/2006</td>\n",
       "      <td>0.00</td>\n",
       "    </tr>\n",
       "    <tr>\n",
       "      <th>8</th>\n",
       "      <td>62</td>\n",
       "      <td>train_Client_100002</td>\n",
       "      <td>11</td>\n",
       "      <td>301</td>\n",
       "      <td>31/12/2006</td>\n",
       "      <td>0.00</td>\n",
       "    </tr>\n",
       "    <tr>\n",
       "      <th>9</th>\n",
       "      <td>60</td>\n",
       "      <td>train_Client_100003</td>\n",
       "      <td>11</td>\n",
       "      <td>101</td>\n",
       "      <td>25/10/2011</td>\n",
       "      <td>0.00</td>\n",
       "    </tr>\n",
       "  </tbody>\n",
       "</table>\n",
       "</div>"
      ],
      "text/plain": [
       "   disrict            client_id  client_catg  region creation_date  target\n",
       "0       60       train_Client_0           11     101    31/12/1994    0.00\n",
       "1       69       train_Client_1           11     107    29/05/2002    0.00\n",
       "2       62      train_Client_10           11     301    13/03/1986    0.00\n",
       "3       69     train_Client_100           11     105    11/07/1996    0.00\n",
       "4       62    train_Client_1000           11     303    14/10/2014    0.00\n",
       "5       69   train_Client_10000           11     103    29/09/1993    0.00\n",
       "6       62  train_Client_100000           11     309    07/06/2012    0.00\n",
       "7       60  train_Client_100001           11     101    12/04/2006    0.00\n",
       "8       62  train_Client_100002           11     301    31/12/2006    0.00\n",
       "9       60  train_Client_100003           11     101    25/10/2011    0.00"
      ]
     },
     "execution_count": 8,
     "metadata": {},
     "output_type": "execute_result"
    }
   ],
   "source": [
    "client_train.head(10)"
   ]
  },
  {
   "cell_type": "code",
   "execution_count": 9,
   "metadata": {
    "tags": []
   },
   "outputs": [
    {
     "data": {
      "text/html": [
       "<div>\n",
       "<style scoped>\n",
       "    .dataframe tbody tr th:only-of-type {\n",
       "        vertical-align: middle;\n",
       "    }\n",
       "\n",
       "    .dataframe tbody tr th {\n",
       "        vertical-align: top;\n",
       "    }\n",
       "\n",
       "    .dataframe thead th {\n",
       "        text-align: right;\n",
       "    }\n",
       "</style>\n",
       "<table border=\"1\" class=\"dataframe\">\n",
       "  <thead>\n",
       "    <tr style=\"text-align: right;\">\n",
       "      <th></th>\n",
       "      <th>disrict</th>\n",
       "      <th>client_id</th>\n",
       "      <th>client_catg</th>\n",
       "      <th>region</th>\n",
       "      <th>creation_date</th>\n",
       "    </tr>\n",
       "  </thead>\n",
       "  <tbody>\n",
       "    <tr>\n",
       "      <th>0</th>\n",
       "      <td>62</td>\n",
       "      <td>test_Client_0</td>\n",
       "      <td>11</td>\n",
       "      <td>307</td>\n",
       "      <td>28/05/2002</td>\n",
       "    </tr>\n",
       "    <tr>\n",
       "      <th>1</th>\n",
       "      <td>69</td>\n",
       "      <td>test_Client_1</td>\n",
       "      <td>11</td>\n",
       "      <td>103</td>\n",
       "      <td>06/08/2009</td>\n",
       "    </tr>\n",
       "    <tr>\n",
       "      <th>2</th>\n",
       "      <td>62</td>\n",
       "      <td>test_Client_10</td>\n",
       "      <td>11</td>\n",
       "      <td>310</td>\n",
       "      <td>07/04/2004</td>\n",
       "    </tr>\n",
       "    <tr>\n",
       "      <th>3</th>\n",
       "      <td>60</td>\n",
       "      <td>test_Client_100</td>\n",
       "      <td>11</td>\n",
       "      <td>101</td>\n",
       "      <td>08/10/1992</td>\n",
       "    </tr>\n",
       "    <tr>\n",
       "      <th>4</th>\n",
       "      <td>62</td>\n",
       "      <td>test_Client_1000</td>\n",
       "      <td>11</td>\n",
       "      <td>301</td>\n",
       "      <td>21/07/1977</td>\n",
       "    </tr>\n",
       "  </tbody>\n",
       "</table>\n",
       "</div>"
      ],
      "text/plain": [
       "   disrict         client_id  client_catg  region creation_date\n",
       "0       62     test_Client_0           11     307    28/05/2002\n",
       "1       69     test_Client_1           11     103    06/08/2009\n",
       "2       62    test_Client_10           11     310    07/04/2004\n",
       "3       60   test_Client_100           11     101    08/10/1992\n",
       "4       62  test_Client_1000           11     301    21/07/1977"
      ]
     },
     "execution_count": 9,
     "metadata": {},
     "output_type": "execute_result"
    }
   ],
   "source": [
    "client_test.head(5)"
   ]
  },
  {
   "cell_type": "code",
   "execution_count": 10,
   "metadata": {
    "colab": {
     "base_uri": "https://localhost:8080/",
     "height": 206
    },
    "id": "jUcrU9IYSMZJ",
    "outputId": "e70e5da0-7451-48ca-8c3a-643524f3139c",
    "tags": []
   },
   "outputs": [
    {
     "data": {
      "text/html": [
       "<div>\n",
       "<style scoped>\n",
       "    .dataframe tbody tr th:only-of-type {\n",
       "        vertical-align: middle;\n",
       "    }\n",
       "\n",
       "    .dataframe tbody tr th {\n",
       "        vertical-align: top;\n",
       "    }\n",
       "\n",
       "    .dataframe thead th {\n",
       "        text-align: right;\n",
       "    }\n",
       "</style>\n",
       "<table border=\"1\" class=\"dataframe\">\n",
       "  <thead>\n",
       "    <tr style=\"text-align: right;\">\n",
       "      <th></th>\n",
       "      <th>disrict</th>\n",
       "      <th>client_id</th>\n",
       "      <th>client_catg</th>\n",
       "      <th>region</th>\n",
       "      <th>creation_date</th>\n",
       "      <th>target</th>\n",
       "    </tr>\n",
       "  </thead>\n",
       "  <tbody>\n",
       "    <tr>\n",
       "      <th>0</th>\n",
       "      <td>60</td>\n",
       "      <td>train_Client_0</td>\n",
       "      <td>11</td>\n",
       "      <td>101</td>\n",
       "      <td>31/12/1994</td>\n",
       "      <td>0.00</td>\n",
       "    </tr>\n",
       "    <tr>\n",
       "      <th>1</th>\n",
       "      <td>69</td>\n",
       "      <td>train_Client_1</td>\n",
       "      <td>11</td>\n",
       "      <td>107</td>\n",
       "      <td>29/05/2002</td>\n",
       "      <td>0.00</td>\n",
       "    </tr>\n",
       "    <tr>\n",
       "      <th>2</th>\n",
       "      <td>62</td>\n",
       "      <td>train_Client_10</td>\n",
       "      <td>11</td>\n",
       "      <td>301</td>\n",
       "      <td>13/03/1986</td>\n",
       "      <td>0.00</td>\n",
       "    </tr>\n",
       "    <tr>\n",
       "      <th>3</th>\n",
       "      <td>69</td>\n",
       "      <td>train_Client_100</td>\n",
       "      <td>11</td>\n",
       "      <td>105</td>\n",
       "      <td>11/07/1996</td>\n",
       "      <td>0.00</td>\n",
       "    </tr>\n",
       "    <tr>\n",
       "      <th>4</th>\n",
       "      <td>62</td>\n",
       "      <td>train_Client_1000</td>\n",
       "      <td>11</td>\n",
       "      <td>303</td>\n",
       "      <td>14/10/2014</td>\n",
       "      <td>0.00</td>\n",
       "    </tr>\n",
       "    <tr>\n",
       "      <th>5</th>\n",
       "      <td>69</td>\n",
       "      <td>train_Client_10000</td>\n",
       "      <td>11</td>\n",
       "      <td>103</td>\n",
       "      <td>29/09/1993</td>\n",
       "      <td>0.00</td>\n",
       "    </tr>\n",
       "    <tr>\n",
       "      <th>6</th>\n",
       "      <td>62</td>\n",
       "      <td>train_Client_100000</td>\n",
       "      <td>11</td>\n",
       "      <td>309</td>\n",
       "      <td>07/06/2012</td>\n",
       "      <td>0.00</td>\n",
       "    </tr>\n",
       "    <tr>\n",
       "      <th>7</th>\n",
       "      <td>60</td>\n",
       "      <td>train_Client_100001</td>\n",
       "      <td>11</td>\n",
       "      <td>101</td>\n",
       "      <td>12/04/2006</td>\n",
       "      <td>0.00</td>\n",
       "    </tr>\n",
       "    <tr>\n",
       "      <th>8</th>\n",
       "      <td>62</td>\n",
       "      <td>train_Client_100002</td>\n",
       "      <td>11</td>\n",
       "      <td>301</td>\n",
       "      <td>31/12/2006</td>\n",
       "      <td>0.00</td>\n",
       "    </tr>\n",
       "    <tr>\n",
       "      <th>9</th>\n",
       "      <td>60</td>\n",
       "      <td>train_Client_100003</td>\n",
       "      <td>11</td>\n",
       "      <td>101</td>\n",
       "      <td>25/10/2011</td>\n",
       "      <td>0.00</td>\n",
       "    </tr>\n",
       "  </tbody>\n",
       "</table>\n",
       "</div>"
      ],
      "text/plain": [
       "   disrict            client_id  client_catg  region creation_date  target\n",
       "0       60       train_Client_0           11     101    31/12/1994    0.00\n",
       "1       69       train_Client_1           11     107    29/05/2002    0.00\n",
       "2       62      train_Client_10           11     301    13/03/1986    0.00\n",
       "3       69     train_Client_100           11     105    11/07/1996    0.00\n",
       "4       62    train_Client_1000           11     303    14/10/2014    0.00\n",
       "5       69   train_Client_10000           11     103    29/09/1993    0.00\n",
       "6       62  train_Client_100000           11     309    07/06/2012    0.00\n",
       "7       60  train_Client_100001           11     101    12/04/2006    0.00\n",
       "8       62  train_Client_100002           11     301    31/12/2006    0.00\n",
       "9       60  train_Client_100003           11     101    25/10/2011    0.00"
      ]
     },
     "execution_count": 10,
     "metadata": {},
     "output_type": "execute_result"
    }
   ],
   "source": [
    "#print top rows of dataset\n",
    "client_train.head(10)"
   ]
  },
  {
   "cell_type": "code",
   "execution_count": 11,
   "metadata": {
    "colab": {
     "base_uri": "https://localhost:8080/",
     "height": 300
    },
    "id": "fFBTeG8YSicC",
    "outputId": "551f42dc-8b1c-42a9-9a60-f6dc9279911b",
    "tags": []
   },
   "outputs": [
    {
     "data": {
      "text/html": [
       "<div>\n",
       "<style scoped>\n",
       "    .dataframe tbody tr th:only-of-type {\n",
       "        vertical-align: middle;\n",
       "    }\n",
       "\n",
       "    .dataframe tbody tr th {\n",
       "        vertical-align: top;\n",
       "    }\n",
       "\n",
       "    .dataframe thead th {\n",
       "        text-align: right;\n",
       "    }\n",
       "</style>\n",
       "<table border=\"1\" class=\"dataframe\">\n",
       "  <thead>\n",
       "    <tr style=\"text-align: right;\">\n",
       "      <th></th>\n",
       "      <th>tarif_type</th>\n",
       "      <th>counter_number</th>\n",
       "      <th>counter_code</th>\n",
       "      <th>reading_remarque</th>\n",
       "      <th>counter_coefficient</th>\n",
       "      <th>consommation_level_1</th>\n",
       "      <th>consommation_level_2</th>\n",
       "      <th>consommation_level_3</th>\n",
       "      <th>consommation_level_4</th>\n",
       "      <th>old_index</th>\n",
       "      <th>new_index</th>\n",
       "      <th>months_number</th>\n",
       "    </tr>\n",
       "  </thead>\n",
       "  <tbody>\n",
       "    <tr>\n",
       "      <th>count</th>\n",
       "      <td>4,476,749.00</td>\n",
       "      <td>4,476,749.00</td>\n",
       "      <td>4,476,749.00</td>\n",
       "      <td>4,476,749.00</td>\n",
       "      <td>4,476,749.00</td>\n",
       "      <td>4,476,749.00</td>\n",
       "      <td>4,476,749.00</td>\n",
       "      <td>4,476,749.00</td>\n",
       "      <td>4,476,749.00</td>\n",
       "      <td>4,476,749.00</td>\n",
       "      <td>4,476,749.00</td>\n",
       "      <td>4,476,749.00</td>\n",
       "    </tr>\n",
       "    <tr>\n",
       "      <th>mean</th>\n",
       "      <td>20.13</td>\n",
       "      <td>123,058,699,065.18</td>\n",
       "      <td>172.49</td>\n",
       "      <td>7.32</td>\n",
       "      <td>1.00</td>\n",
       "      <td>410.98</td>\n",
       "      <td>109.32</td>\n",
       "      <td>20.31</td>\n",
       "      <td>52.93</td>\n",
       "      <td>17,767.00</td>\n",
       "      <td>18,349.70</td>\n",
       "      <td>44.83</td>\n",
       "    </tr>\n",
       "    <tr>\n",
       "      <th>std</th>\n",
       "      <td>13.47</td>\n",
       "      <td>1,657,267,274,261.93</td>\n",
       "      <td>133.89</td>\n",
       "      <td>1.57</td>\n",
       "      <td>0.31</td>\n",
       "      <td>757.31</td>\n",
       "      <td>1,220.12</td>\n",
       "      <td>157.42</td>\n",
       "      <td>875.47</td>\n",
       "      <td>40,366.93</td>\n",
       "      <td>40,953.21</td>\n",
       "      <td>3,128.34</td>\n",
       "    </tr>\n",
       "    <tr>\n",
       "      <th>min</th>\n",
       "      <td>8.00</td>\n",
       "      <td>0.00</td>\n",
       "      <td>0.00</td>\n",
       "      <td>5.00</td>\n",
       "      <td>0.00</td>\n",
       "      <td>0.00</td>\n",
       "      <td>0.00</td>\n",
       "      <td>0.00</td>\n",
       "      <td>0.00</td>\n",
       "      <td>0.00</td>\n",
       "      <td>0.00</td>\n",
       "      <td>0.00</td>\n",
       "    </tr>\n",
       "    <tr>\n",
       "      <th>25%</th>\n",
       "      <td>11.00</td>\n",
       "      <td>121,108.00</td>\n",
       "      <td>5.00</td>\n",
       "      <td>6.00</td>\n",
       "      <td>1.00</td>\n",
       "      <td>79.00</td>\n",
       "      <td>0.00</td>\n",
       "      <td>0.00</td>\n",
       "      <td>0.00</td>\n",
       "      <td>1,791.00</td>\n",
       "      <td>2,056.00</td>\n",
       "      <td>4.00</td>\n",
       "    </tr>\n",
       "    <tr>\n",
       "      <th>50%</th>\n",
       "      <td>11.00</td>\n",
       "      <td>494,561.00</td>\n",
       "      <td>203.00</td>\n",
       "      <td>8.00</td>\n",
       "      <td>1.00</td>\n",
       "      <td>274.00</td>\n",
       "      <td>0.00</td>\n",
       "      <td>0.00</td>\n",
       "      <td>0.00</td>\n",
       "      <td>7,690.00</td>\n",
       "      <td>8,192.00</td>\n",
       "      <td>4.00</td>\n",
       "    </tr>\n",
       "    <tr>\n",
       "      <th>75%</th>\n",
       "      <td>40.00</td>\n",
       "      <td>1,115,161.00</td>\n",
       "      <td>207.00</td>\n",
       "      <td>9.00</td>\n",
       "      <td>1.00</td>\n",
       "      <td>600.00</td>\n",
       "      <td>0.00</td>\n",
       "      <td>0.00</td>\n",
       "      <td>0.00</td>\n",
       "      <td>21,660.00</td>\n",
       "      <td>22,343.00</td>\n",
       "      <td>4.00</td>\n",
       "    </tr>\n",
       "    <tr>\n",
       "      <th>max</th>\n",
       "      <td>45.00</td>\n",
       "      <td>27,981,145,458,733.00</td>\n",
       "      <td>600.00</td>\n",
       "      <td>413.00</td>\n",
       "      <td>50.00</td>\n",
       "      <td>999,910.00</td>\n",
       "      <td>999,073.00</td>\n",
       "      <td>64,492.00</td>\n",
       "      <td>547,946.00</td>\n",
       "      <td>2,800,280.00</td>\n",
       "      <td>2,870,972.00</td>\n",
       "      <td>636,624.00</td>\n",
       "    </tr>\n",
       "  </tbody>\n",
       "</table>\n",
       "</div>"
      ],
      "text/plain": [
       "        tarif_type        counter_number  counter_code  reading_remarque   \n",
       "count 4,476,749.00          4,476,749.00  4,476,749.00      4,476,749.00  \\\n",
       "mean         20.13    123,058,699,065.18        172.49              7.32   \n",
       "std          13.47  1,657,267,274,261.93        133.89              1.57   \n",
       "min           8.00                  0.00          0.00              5.00   \n",
       "25%          11.00            121,108.00          5.00              6.00   \n",
       "50%          11.00            494,561.00        203.00              8.00   \n",
       "75%          40.00          1,115,161.00        207.00              9.00   \n",
       "max          45.00 27,981,145,458,733.00        600.00            413.00   \n",
       "\n",
       "       counter_coefficient  consommation_level_1  consommation_level_2   \n",
       "count         4,476,749.00          4,476,749.00          4,476,749.00  \\\n",
       "mean                  1.00                410.98                109.32   \n",
       "std                   0.31                757.31              1,220.12   \n",
       "min                   0.00                  0.00                  0.00   \n",
       "25%                   1.00                 79.00                  0.00   \n",
       "50%                   1.00                274.00                  0.00   \n",
       "75%                   1.00                600.00                  0.00   \n",
       "max                  50.00            999,910.00            999,073.00   \n",
       "\n",
       "       consommation_level_3  consommation_level_4    old_index    new_index   \n",
       "count          4,476,749.00          4,476,749.00 4,476,749.00 4,476,749.00  \\\n",
       "mean                  20.31                 52.93    17,767.00    18,349.70   \n",
       "std                  157.42                875.47    40,366.93    40,953.21   \n",
       "min                    0.00                  0.00         0.00         0.00   \n",
       "25%                    0.00                  0.00     1,791.00     2,056.00   \n",
       "50%                    0.00                  0.00     7,690.00     8,192.00   \n",
       "75%                    0.00                  0.00    21,660.00    22,343.00   \n",
       "max               64,492.00            547,946.00 2,800,280.00 2,870,972.00   \n",
       "\n",
       "       months_number  \n",
       "count   4,476,749.00  \n",
       "mean           44.83  \n",
       "std         3,128.34  \n",
       "min             0.00  \n",
       "25%             4.00  \n",
       "50%             4.00  \n",
       "75%             4.00  \n",
       "max       636,624.00  "
      ]
     },
     "execution_count": 11,
     "metadata": {},
     "output_type": "execute_result"
    }
   ],
   "source": [
    "#Get a summary for all numerical columns\n",
    "invoice_train.describe()"
   ]
  },
  {
   "cell_type": "code",
   "execution_count": 12,
   "metadata": {
    "colab": {
     "base_uri": "https://localhost:8080/",
     "height": 300
    },
    "id": "egcBZ2ysSkji",
    "outputId": "37102972-554b-4063-ce3b-14dae74b3540",
    "tags": []
   },
   "outputs": [
    {
     "data": {
      "text/html": [
       "<div>\n",
       "<style scoped>\n",
       "    .dataframe tbody tr th:only-of-type {\n",
       "        vertical-align: middle;\n",
       "    }\n",
       "\n",
       "    .dataframe tbody tr th {\n",
       "        vertical-align: top;\n",
       "    }\n",
       "\n",
       "    .dataframe thead th {\n",
       "        text-align: right;\n",
       "    }\n",
       "</style>\n",
       "<table border=\"1\" class=\"dataframe\">\n",
       "  <thead>\n",
       "    <tr style=\"text-align: right;\">\n",
       "      <th></th>\n",
       "      <th>disrict</th>\n",
       "      <th>client_catg</th>\n",
       "      <th>region</th>\n",
       "      <th>target</th>\n",
       "    </tr>\n",
       "  </thead>\n",
       "  <tbody>\n",
       "    <tr>\n",
       "      <th>count</th>\n",
       "      <td>135,493.00</td>\n",
       "      <td>135,493.00</td>\n",
       "      <td>135,493.00</td>\n",
       "      <td>135,493.00</td>\n",
       "    </tr>\n",
       "    <tr>\n",
       "      <th>mean</th>\n",
       "      <td>63.51</td>\n",
       "      <td>11.51</td>\n",
       "      <td>206.16</td>\n",
       "      <td>0.06</td>\n",
       "    </tr>\n",
       "    <tr>\n",
       "      <th>std</th>\n",
       "      <td>3.35</td>\n",
       "      <td>4.42</td>\n",
       "      <td>104.21</td>\n",
       "      <td>0.23</td>\n",
       "    </tr>\n",
       "    <tr>\n",
       "      <th>min</th>\n",
       "      <td>60.00</td>\n",
       "      <td>11.00</td>\n",
       "      <td>101.00</td>\n",
       "      <td>0.00</td>\n",
       "    </tr>\n",
       "    <tr>\n",
       "      <th>25%</th>\n",
       "      <td>62.00</td>\n",
       "      <td>11.00</td>\n",
       "      <td>103.00</td>\n",
       "      <td>0.00</td>\n",
       "    </tr>\n",
       "    <tr>\n",
       "      <th>50%</th>\n",
       "      <td>62.00</td>\n",
       "      <td>11.00</td>\n",
       "      <td>107.00</td>\n",
       "      <td>0.00</td>\n",
       "    </tr>\n",
       "    <tr>\n",
       "      <th>75%</th>\n",
       "      <td>69.00</td>\n",
       "      <td>11.00</td>\n",
       "      <td>307.00</td>\n",
       "      <td>0.00</td>\n",
       "    </tr>\n",
       "    <tr>\n",
       "      <th>max</th>\n",
       "      <td>69.00</td>\n",
       "      <td>51.00</td>\n",
       "      <td>399.00</td>\n",
       "      <td>1.00</td>\n",
       "    </tr>\n",
       "  </tbody>\n",
       "</table>\n",
       "</div>"
      ],
      "text/plain": [
       "         disrict  client_catg     region     target\n",
       "count 135,493.00   135,493.00 135,493.00 135,493.00\n",
       "mean       63.51        11.51     206.16       0.06\n",
       "std         3.35         4.42     104.21       0.23\n",
       "min        60.00        11.00     101.00       0.00\n",
       "25%        62.00        11.00     103.00       0.00\n",
       "50%        62.00        11.00     107.00       0.00\n",
       "75%        69.00        11.00     307.00       0.00\n",
       "max        69.00        51.00     399.00       1.00"
      ]
     },
     "execution_count": 12,
     "metadata": {},
     "output_type": "execute_result"
    }
   ],
   "source": [
    "#Get a summary for all numerical columns\n",
    "client_train.describe()"
   ]
  },
  {
   "cell_type": "code",
   "execution_count": 13,
   "metadata": {
    "colab": {
     "base_uri": "https://localhost:8080/"
    },
    "id": "-8gQmkajSnXs",
    "outputId": "fef429ad-2fd5-46e3-9d3b-32def757324c",
    "tags": []
   },
   "outputs": [
    {
     "name": "stdout",
     "output_type": "stream",
     "text": [
      "<class 'pandas.core.frame.DataFrame'>\n",
      "RangeIndex: 4476749 entries, 0 to 4476748\n",
      "Data columns (total 16 columns):\n",
      " #   Column                Dtype \n",
      "---  ------                ----- \n",
      " 0   client_id             object\n",
      " 1   invoice_date          object\n",
      " 2   tarif_type            int64 \n",
      " 3   counter_number        int64 \n",
      " 4   counter_statue        object\n",
      " 5   counter_code          int64 \n",
      " 6   reading_remarque      int64 \n",
      " 7   counter_coefficient   int64 \n",
      " 8   consommation_level_1  int64 \n",
      " 9   consommation_level_2  int64 \n",
      " 10  consommation_level_3  int64 \n",
      " 11  consommation_level_4  int64 \n",
      " 12  old_index             int64 \n",
      " 13  new_index             int64 \n",
      " 14  months_number         int64 \n",
      " 15  counter_type          object\n",
      "dtypes: int64(12), object(4)\n",
      "memory usage: 546.5+ MB\n"
     ]
    }
   ],
   "source": [
    "#Get concise information of each column in dataset\n",
    "invoice_train.info()"
   ]
  },
  {
   "cell_type": "code",
   "execution_count": 14,
   "metadata": {
    "colab": {
     "base_uri": "https://localhost:8080/"
    },
    "id": "VII8aa8CSoed",
    "outputId": "330bd35b-fd37-422b-b718-c34d354661db",
    "tags": []
   },
   "outputs": [
    {
     "name": "stdout",
     "output_type": "stream",
     "text": [
      "<class 'pandas.core.frame.DataFrame'>\n",
      "RangeIndex: 135493 entries, 0 to 135492\n",
      "Data columns (total 6 columns):\n",
      " #   Column         Non-Null Count   Dtype  \n",
      "---  ------         --------------   -----  \n",
      " 0   disrict        135493 non-null  int64  \n",
      " 1   client_id      135493 non-null  object \n",
      " 2   client_catg    135493 non-null  int64  \n",
      " 3   region         135493 non-null  int64  \n",
      " 4   creation_date  135493 non-null  object \n",
      " 5   target         135493 non-null  float64\n",
      "dtypes: float64(1), int64(3), object(2)\n",
      "memory usage: 6.2+ MB\n"
     ]
    }
   ],
   "source": [
    "#Get concise information of each column in dataset\n",
    "client_train.info()"
   ]
  },
  {
   "cell_type": "code",
   "execution_count": 15,
   "metadata": {
    "colab": {
     "base_uri": "https://localhost:8080/"
    },
    "id": "iiJ3e_pFSOWg",
    "outputId": "d074cb2a-d009-471f-f124-466db367df68",
    "tags": []
   },
   "outputs": [
    {
     "name": "stdout",
     "output_type": "stream",
     "text": [
      "client_id - 135493\n",
      "invoice_date - 8275\n",
      "tarif_type - 17\n",
      "counter_number - 201893\n",
      "counter_statue - 12\n",
      "counter_code - 42\n",
      "reading_remarque - 8\n",
      "counter_coefficient - 16\n",
      "consommation_level_1 - 8295\n",
      "consommation_level_2 - 12576\n",
      "consommation_level_3 - 2253\n",
      "consommation_level_4 - 12075\n",
      "old_index - 155648\n",
      "new_index - 157980\n",
      "months_number - 1370\n",
      "counter_type - 2\n"
     ]
    }
   ],
   "source": [
    "#Getting unique values on the invoice train data\n",
    "for col in invoice_train.columns:\n",
    "    print(f\"{col} - {invoice_train[col].nunique()}\")"
   ]
  },
  {
   "cell_type": "code",
   "execution_count": 16,
   "metadata": {
    "colab": {
     "base_uri": "https://localhost:8080/"
    },
    "id": "uMC16gFETUAF",
    "outputId": "0e363f7b-35c4-45c2-c763-acf80585ef7c",
    "tags": []
   },
   "outputs": [
    {
     "name": "stdout",
     "output_type": "stream",
     "text": [
      "disrict - 4\n",
      "client_id - 135493\n",
      "client_catg - 3\n",
      "region - 25\n",
      "creation_date - 8088\n",
      "target - 2\n"
     ]
    }
   ],
   "source": [
    "#Getting unique values on the invoice train data\n",
    "for col in client_train.columns:\n",
    "    print(f\"{col} - {client_train[col].nunique()}\")"
   ]
  },
  {
   "cell_type": "code",
   "execution_count": 17,
   "metadata": {
    "colab": {
     "base_uri": "https://localhost:8080/"
    },
    "id": "h10LPXsfVHhu",
    "outputId": "332ac9e1-02e3-4a3a-a8d6-1c8d706b9601",
    "tags": []
   },
   "outputs": [
    {
     "data": {
      "text/plain": [
       "client_id               0\n",
       "invoice_date            0\n",
       "tarif_type              0\n",
       "counter_number          0\n",
       "counter_statue          0\n",
       "counter_code            0\n",
       "reading_remarque        0\n",
       "counter_coefficient     0\n",
       "consommation_level_1    0\n",
       "consommation_level_2    0\n",
       "consommation_level_3    0\n",
       "consommation_level_4    0\n",
       "old_index               0\n",
       "new_index               0\n",
       "months_number           0\n",
       "counter_type            0\n",
       "dtype: int64"
      ]
     },
     "execution_count": 17,
     "metadata": {},
     "output_type": "execute_result"
    }
   ],
   "source": [
    "#check for missing values\n",
    "invoice_train.isnull().sum()"
   ]
  },
  {
   "cell_type": "code",
   "execution_count": 18,
   "metadata": {
    "colab": {
     "base_uri": "https://localhost:8080/"
    },
    "id": "b3XyoiIbVO-b",
    "outputId": "9200e12f-66fd-43a4-edf4-daa1e1cfdd11",
    "tags": []
   },
   "outputs": [
    {
     "data": {
      "text/plain": [
       "disrict          0\n",
       "client_id        0\n",
       "client_catg      0\n",
       "region           0\n",
       "creation_date    0\n",
       "target           0\n",
       "dtype: int64"
      ]
     },
     "execution_count": 18,
     "metadata": {},
     "output_type": "execute_result"
    }
   ],
   "source": [
    "#check for missing values\n",
    "client_train.isnull().sum()"
   ]
  },
  {
   "cell_type": "markdown",
   "metadata": {
    "id": "i3oZLTnSVSOT"
   },
   "source": [
    "No missing values in train set"
   ]
  },
  {
   "cell_type": "code",
   "execution_count": 19,
   "metadata": {
    "colab": {
     "base_uri": "https://localhost:8080/",
     "height": 281
    },
    "id": "JOzSAlEWTR3j",
    "outputId": "97a46548-924e-44a4-9b85-e40d01979b99",
    "tags": []
   },
   "outputs": [
    {
     "data": {
      "image/png": "[encoded data removed]",
      "text/plain": [
       "<Figure size 800x500 with 1 Axes>"
      ]
     },
     "metadata": {},
     "output_type": "display_data"
    }
   ],
   "source": [
    "#Visualize fraudulent activities\n",
    "fraudactivities = client_train.groupby(['target'])['client_id'].count()\n",
    "plt.bar(x=fraudactivities.index, height=fraudactivities.values, tick_label = [0,1])\n",
    "plt.title('Fraud - Target Distribution')\n",
    "plt.show()"
   ]
  },
  {
   "cell_type": "markdown",
   "metadata": {
    "id": "fQb7RZf_Ufn9"
   },
   "source": [
    "Target is highly imbalanced with fewer cases of fraudulent activities"
   ]
  },
  {
   "cell_type": "code",
   "execution_count": 20,
   "metadata": {
    "colab": {
     "base_uri": "https://localhost:8080/",
     "height": 545
    },
    "id": "v8G8BPgMUrVW",
    "outputId": "886941f9-3a90-48c2-ddac-75728bd7b935",
    "tags": []
   },
   "outputs": [
    {
     "data": {
      "image/png": "[encoded data removed]",
      "text/plain": [
       "<Figure size 800x500 with 1 Axes>"
      ]
     },
     "metadata": {},
     "output_type": "display_data"
    },
    {
     "data": {
      "image/png": "[encoded data removed]",
      "text/plain": [
       "<Figure size 800x500 with 1 Axes>"
      ]
     },
     "metadata": {},
     "output_type": "display_data"
    }
   ],
   "source": [
    "#Visualize client distribution across districts and regions\n",
    "for col in ['disrict','region']:\n",
    "    region = client_train.groupby([col])['client_id'].count()\n",
    "    plt.bar(x=region.index, height=region.values)\n",
    "    plt.title(col+' distribution')\n",
    "    plt.show()"
   ]
  },
  {
   "cell_type": "markdown",
   "metadata": {
    "id": "0-LOrxdIU7-h"
   },
   "source": [
    "## Feature Engineering"
   ]
  },
  {
   "cell_type": "code",
   "execution_count": 21,
   "metadata": {
    "id": "aVypp4ahU9tq",
    "tags": []
   },
   "outputs": [],
   "source": [
    "#convert the column invoice_date to date time format on both the invoice train and invoice test\n",
    "for df in [invoice_train,invoice_test]:\n",
    "    df['invoice_date'] = pd.to_datetime(df['invoice_date'])"
   ]
  },
  {
   "cell_type": "code",
   "execution_count": 22,
   "metadata": {
    "id": "sW2W5i63VYyK",
    "tags": []
   },
   "outputs": [],
   "source": [
    "#encode labels in categorical column\n",
    "d={\"ELEC\":0,\"GAZ\":1}\n",
    "invoice_train['counter_type']=invoice_train['counter_type'].map(d)"
   ]
  },
  {
   "cell_type": "code",
   "execution_count": 23,
   "metadata": {
    "id": "NldYnn0GWHAk",
    "tags": []
   },
   "outputs": [],
   "source": [
    "#convert categorical columns to int for model\n",
    "client_train['client_catg'] = client_train['client_catg'].astype(int)\n",
    "client_train['disrict'] = client_train['disrict'].astype(int)"
   ]
  },
  {
   "cell_type": "code",
   "execution_count": 24,
   "metadata": {
    "id": "Bt7LJHhyXJji",
    "tags": []
   },
   "outputs": [],
   "source": [
    "def aggregate_by_client_id(invoice_data):\n",
    "    aggs = {} #define aggregation dictionary\n",
    "    aggs['consommation_level_1'] = ['mean']\n",
    "    aggs['consommation_level_2'] = ['mean']\n",
    "    aggs['consommation_level_3'] = ['mean']\n",
    "    aggs['consommation_level_4'] = ['mean']\n",
    "\n",
    "    agg_trans = invoice_data.groupby(['client_id']).agg(aggs) #invoice data is grouped by the client id and aggregated using the dict. aggs\n",
    "    agg_trans.columns = ['_'.join(col).strip() for col in agg_trans.columns.values] #new dataframe where each row represents a unique client_id and contains a mean of a consumption level specified\n",
    "    #above the columns of agg_trans are renamed. This renaming concatenates the original column names (which are multi-level after the aggregation operation) into single-level column names by joining them with an underscore\n",
    "    agg_trans.reset_index(inplace=True)\n",
    "\n",
    "    df = (invoice_data.groupby('client_id') \n",
    "            .size()\n",
    "            .reset_index(name='{}transactions_count'.format('1')))#we group the original invoice_data by client_id to count the number of transactions per client\n",
    "\n",
    "    return pd.merge(df, agg_trans, on='client_id', how='left')#we merge the transaction count df with the counsumption level averages df agg_trans on client_id column"
   ]
  },
  {
   "cell_type": "code",
   "execution_count": 25,
   "metadata": {
    "id": "8gUjxEmKWZjp",
    "tags": []
   },
   "outputs": [],
   "source": [
    "#group invoice data by client_id\n",
    "agg_train = aggregate_by_client_id(invoice_train)\n",
    "#this will again compute the mean values of consommation_level_* grouped by client_id, rename the columns to consommation_level_*_mean, count the number of transactions for each client in invoce_data\n",
    "#and merge these two sets of data (average consumption levels and transaction counts) into a single df"
   ]
  },
  {
   "cell_type": "code",
   "execution_count": 26,
   "metadata": {
    "colab": {
     "base_uri": "https://localhost:8080/",
     "height": 224
    },
    "id": "5cIpY1tGWrkw",
    "outputId": "c57de3d5-3efe-4e8a-9a0c-7362f05fca4c",
    "tags": []
   },
   "outputs": [
    {
     "name": "stdout",
     "output_type": "stream",
     "text": [
      "(135493, 6)\n"
     ]
    },
    {
     "data": {
      "text/html": [
       "<div>\n",
       "<style scoped>\n",
       "    .dataframe tbody tr th:only-of-type {\n",
       "        vertical-align: middle;\n",
       "    }\n",
       "\n",
       "    .dataframe tbody tr th {\n",
       "        vertical-align: top;\n",
       "    }\n",
       "\n",
       "    .dataframe thead th {\n",
       "        text-align: right;\n",
       "    }\n",
       "</style>\n",
       "<table border=\"1\" class=\"dataframe\">\n",
       "  <thead>\n",
       "    <tr style=\"text-align: right;\">\n",
       "      <th></th>\n",
       "      <th>client_id</th>\n",
       "      <th>1transactions_count</th>\n",
       "      <th>consommation_level_1_mean</th>\n",
       "      <th>consommation_level_2_mean</th>\n",
       "      <th>consommation_level_3_mean</th>\n",
       "      <th>consommation_level_4_mean</th>\n",
       "    </tr>\n",
       "  </thead>\n",
       "  <tbody>\n",
       "    <tr>\n",
       "      <th>0</th>\n",
       "      <td>train_Client_0</td>\n",
       "      <td>35</td>\n",
       "      <td>352.40</td>\n",
       "      <td>10.57</td>\n",
       "      <td>0.00</td>\n",
       "      <td>0.00</td>\n",
       "    </tr>\n",
       "    <tr>\n",
       "      <th>1</th>\n",
       "      <td>train_Client_1</td>\n",
       "      <td>37</td>\n",
       "      <td>557.54</td>\n",
       "      <td>0.00</td>\n",
       "      <td>0.00</td>\n",
       "      <td>0.00</td>\n",
       "    </tr>\n",
       "    <tr>\n",
       "      <th>2</th>\n",
       "      <td>train_Client_10</td>\n",
       "      <td>18</td>\n",
       "      <td>798.61</td>\n",
       "      <td>37.89</td>\n",
       "      <td>0.00</td>\n",
       "      <td>0.00</td>\n",
       "    </tr>\n",
       "    <tr>\n",
       "      <th>3</th>\n",
       "      <td>train_Client_100</td>\n",
       "      <td>20</td>\n",
       "      <td>1.20</td>\n",
       "      <td>0.00</td>\n",
       "      <td>0.00</td>\n",
       "      <td>0.00</td>\n",
       "    </tr>\n",
       "    <tr>\n",
       "      <th>4</th>\n",
       "      <td>train_Client_1000</td>\n",
       "      <td>14</td>\n",
       "      <td>663.71</td>\n",
       "      <td>104.86</td>\n",
       "      <td>117.36</td>\n",
       "      <td>36.71</td>\n",
       "    </tr>\n",
       "  </tbody>\n",
       "</table>\n",
       "</div>"
      ],
      "text/plain": [
       "           client_id  1transactions_count  consommation_level_1_mean   \n",
       "0     train_Client_0                   35                     352.40  \\\n",
       "1     train_Client_1                   37                     557.54   \n",
       "2    train_Client_10                   18                     798.61   \n",
       "3   train_Client_100                   20                       1.20   \n",
       "4  train_Client_1000                   14                     663.71   \n",
       "\n",
       "   consommation_level_2_mean  consommation_level_3_mean   \n",
       "0                      10.57                       0.00  \\\n",
       "1                       0.00                       0.00   \n",
       "2                      37.89                       0.00   \n",
       "3                       0.00                       0.00   \n",
       "4                     104.86                     117.36   \n",
       "\n",
       "   consommation_level_4_mean  \n",
       "0                       0.00  \n",
       "1                       0.00  \n",
       "2                       0.00  \n",
       "3                       0.00  \n",
       "4                      36.71  "
      ]
     },
     "execution_count": 26,
     "metadata": {},
     "output_type": "execute_result"
    }
   ],
   "source": [
    "print(agg_train.shape)\n",
    "agg_train.head()"
   ]
  },
  {
   "cell_type": "code",
   "execution_count": 27,
   "metadata": {
    "id": "beXOMOEMW97l",
    "tags": []
   },
   "outputs": [
    {
     "data": {
      "text/html": [
       "<div>\n",
       "<style scoped>\n",
       "    .dataframe tbody tr th:only-of-type {\n",
       "        vertical-align: middle;\n",
       "    }\n",
       "\n",
       "    .dataframe tbody tr th {\n",
       "        vertical-align: top;\n",
       "    }\n",
       "\n",
       "    .dataframe thead th {\n",
       "        text-align: right;\n",
       "    }\n",
       "</style>\n",
       "<table border=\"1\" class=\"dataframe\">\n",
       "  <thead>\n",
       "    <tr style=\"text-align: right;\">\n",
       "      <th></th>\n",
       "      <th>disrict</th>\n",
       "      <th>client_id</th>\n",
       "      <th>client_catg</th>\n",
       "      <th>region</th>\n",
       "      <th>creation_date</th>\n",
       "      <th>target</th>\n",
       "      <th>1transactions_count</th>\n",
       "      <th>consommation_level_1_mean</th>\n",
       "      <th>consommation_level_2_mean</th>\n",
       "      <th>consommation_level_3_mean</th>\n",
       "      <th>consommation_level_4_mean</th>\n",
       "    </tr>\n",
       "  </thead>\n",
       "  <tbody>\n",
       "    <tr>\n",
       "      <th>0</th>\n",
       "      <td>60</td>\n",
       "      <td>train_Client_0</td>\n",
       "      <td>11</td>\n",
       "      <td>101</td>\n",
       "      <td>31/12/1994</td>\n",
       "      <td>0.00</td>\n",
       "      <td>35</td>\n",
       "      <td>352.40</td>\n",
       "      <td>10.57</td>\n",
       "      <td>0.00</td>\n",
       "      <td>0.00</td>\n",
       "    </tr>\n",
       "    <tr>\n",
       "      <th>1</th>\n",
       "      <td>69</td>\n",
       "      <td>train_Client_1</td>\n",
       "      <td>11</td>\n",
       "      <td>107</td>\n",
       "      <td>29/05/2002</td>\n",
       "      <td>0.00</td>\n",
       "      <td>37</td>\n",
       "      <td>557.54</td>\n",
       "      <td>0.00</td>\n",
       "      <td>0.00</td>\n",
       "      <td>0.00</td>\n",
       "    </tr>\n",
       "    <tr>\n",
       "      <th>2</th>\n",
       "      <td>62</td>\n",
       "      <td>train_Client_10</td>\n",
       "      <td>11</td>\n",
       "      <td>301</td>\n",
       "      <td>13/03/1986</td>\n",
       "      <td>0.00</td>\n",
       "      <td>18</td>\n",
       "      <td>798.61</td>\n",
       "      <td>37.89</td>\n",
       "      <td>0.00</td>\n",
       "      <td>0.00</td>\n",
       "    </tr>\n",
       "    <tr>\n",
       "      <th>3</th>\n",
       "      <td>69</td>\n",
       "      <td>train_Client_100</td>\n",
       "      <td>11</td>\n",
       "      <td>105</td>\n",
       "      <td>11/07/1996</td>\n",
       "      <td>0.00</td>\n",
       "      <td>20</td>\n",
       "      <td>1.20</td>\n",
       "      <td>0.00</td>\n",
       "      <td>0.00</td>\n",
       "      <td>0.00</td>\n",
       "    </tr>\n",
       "    <tr>\n",
       "      <th>4</th>\n",
       "      <td>62</td>\n",
       "      <td>train_Client_1000</td>\n",
       "      <td>11</td>\n",
       "      <td>303</td>\n",
       "      <td>14/10/2014</td>\n",
       "      <td>0.00</td>\n",
       "      <td>14</td>\n",
       "      <td>663.71</td>\n",
       "      <td>104.86</td>\n",
       "      <td>117.36</td>\n",
       "      <td>36.71</td>\n",
       "    </tr>\n",
       "    <tr>\n",
       "      <th>5</th>\n",
       "      <td>69</td>\n",
       "      <td>train_Client_10000</td>\n",
       "      <td>11</td>\n",
       "      <td>103</td>\n",
       "      <td>29/09/1993</td>\n",
       "      <td>0.00</td>\n",
       "      <td>48</td>\n",
       "      <td>352.10</td>\n",
       "      <td>10.44</td>\n",
       "      <td>3.77</td>\n",
       "      <td>0.00</td>\n",
       "    </tr>\n",
       "    <tr>\n",
       "      <th>6</th>\n",
       "      <td>62</td>\n",
       "      <td>train_Client_100000</td>\n",
       "      <td>11</td>\n",
       "      <td>309</td>\n",
       "      <td>07/06/2012</td>\n",
       "      <td>0.00</td>\n",
       "      <td>40</td>\n",
       "      <td>280.02</td>\n",
       "      <td>6.55</td>\n",
       "      <td>0.00</td>\n",
       "      <td>0.00</td>\n",
       "    </tr>\n",
       "    <tr>\n",
       "      <th>7</th>\n",
       "      <td>60</td>\n",
       "      <td>train_Client_100001</td>\n",
       "      <td>11</td>\n",
       "      <td>101</td>\n",
       "      <td>12/04/2006</td>\n",
       "      <td>0.00</td>\n",
       "      <td>78</td>\n",
       "      <td>327.50</td>\n",
       "      <td>0.92</td>\n",
       "      <td>0.00</td>\n",
       "      <td>0.00</td>\n",
       "    </tr>\n",
       "    <tr>\n",
       "      <th>8</th>\n",
       "      <td>62</td>\n",
       "      <td>train_Client_100002</td>\n",
       "      <td>11</td>\n",
       "      <td>301</td>\n",
       "      <td>31/12/2006</td>\n",
       "      <td>0.00</td>\n",
       "      <td>2</td>\n",
       "      <td>112.50</td>\n",
       "      <td>0.00</td>\n",
       "      <td>0.00</td>\n",
       "      <td>0.00</td>\n",
       "    </tr>\n",
       "    <tr>\n",
       "      <th>9</th>\n",
       "      <td>60</td>\n",
       "      <td>train_Client_100003</td>\n",
       "      <td>11</td>\n",
       "      <td>101</td>\n",
       "      <td>25/10/2011</td>\n",
       "      <td>0.00</td>\n",
       "      <td>5</td>\n",
       "      <td>850.80</td>\n",
       "      <td>1,629.20</td>\n",
       "      <td>320.00</td>\n",
       "      <td>4,882.00</td>\n",
       "    </tr>\n",
       "  </tbody>\n",
       "</table>\n",
       "</div>"
      ],
      "text/plain": [
       "   disrict            client_id  client_catg  region creation_date  target   \n",
       "0       60       train_Client_0           11     101    31/12/1994    0.00  \\\n",
       "1       69       train_Client_1           11     107    29/05/2002    0.00   \n",
       "2       62      train_Client_10           11     301    13/03/1986    0.00   \n",
       "3       69     train_Client_100           11     105    11/07/1996    0.00   \n",
       "4       62    train_Client_1000           11     303    14/10/2014    0.00   \n",
       "5       69   train_Client_10000           11     103    29/09/1993    0.00   \n",
       "6       62  train_Client_100000           11     309    07/06/2012    0.00   \n",
       "7       60  train_Client_100001           11     101    12/04/2006    0.00   \n",
       "8       62  train_Client_100002           11     301    31/12/2006    0.00   \n",
       "9       60  train_Client_100003           11     101    25/10/2011    0.00   \n",
       "\n",
       "   1transactions_count  consommation_level_1_mean  consommation_level_2_mean   \n",
       "0                   35                     352.40                      10.57  \\\n",
       "1                   37                     557.54                       0.00   \n",
       "2                   18                     798.61                      37.89   \n",
       "3                   20                       1.20                       0.00   \n",
       "4                   14                     663.71                     104.86   \n",
       "5                   48                     352.10                      10.44   \n",
       "6                   40                     280.02                       6.55   \n",
       "7                   78                     327.50                       0.92   \n",
       "8                    2                     112.50                       0.00   \n",
       "9                    5                     850.80                   1,629.20   \n",
       "\n",
       "   consommation_level_3_mean  consommation_level_4_mean  \n",
       "0                       0.00                       0.00  \n",
       "1                       0.00                       0.00  \n",
       "2                       0.00                       0.00  \n",
       "3                       0.00                       0.00  \n",
       "4                     117.36                      36.71  \n",
       "5                       3.77                       0.00  \n",
       "6                       0.00                       0.00  \n",
       "7                       0.00                       0.00  \n",
       "8                       0.00                       0.00  \n",
       "9                     320.00                   4,882.00  "
      ]
     },
     "execution_count": 27,
     "metadata": {},
     "output_type": "execute_result"
    }
   ],
   "source": [
    "#merge aggregate data with client dataset\n",
    "train = pd.merge(client_train,agg_train, on='client_id', how='left')\n",
    "train.head(10)"
   ]
  },
  {
   "cell_type": "markdown",
   "metadata": {
    "id": "y6SFawOVXFDX",
    "tags": []
   },
   "source": [
    "## Train - Test Split"
   ]
  },
  {
   "cell_type": "code",
   "execution_count": 28,
   "metadata": {
    "id": "BwYBcKk8X3mr",
    "tags": []
   },
   "outputs": [],
   "source": [
    "#drop redundant columns\n",
    "sub_client_id = train['client_id']\n",
    "drop_columns = ['client_id', 'creation_date']\n",
    "\n",
    "for col in drop_columns:\n",
    "    if col in train.columns:\n",
    "        train.drop([col], axis=1, inplace=True)"
   ]
  },
  {
   "cell_type": "code",
   "execution_count": 29,
   "metadata": {
    "tags": []
   },
   "outputs": [],
   "source": [
    "y = train['target']\n",
    "X = train.drop('target', axis=1)\n",
    "\n",
    "X_train, X_test, y_train, y_test = train_test_split(X, y, test_size=0.2, random_state=42, stratify=y)"
   ]
  },
  {
   "cell_type": "code",
   "execution_count": 30,
   "metadata": {
    "colab": {
     "base_uri": "https://localhost:8080/"
    },
    "id": "dg0832jcXzkI",
    "outputId": "2c6ff557-0258-4310-d8f6-aad0627c9ddb",
    "tags": []
   },
   "outputs": [
    {
     "data": {
      "text/plain": [
       "((108394, 8), (27099, 8))"
      ]
     },
     "execution_count": 30,
     "metadata": {},
     "output_type": "execute_result"
    }
   ],
   "source": [
    "X_train.shape, X_test.shape"
   ]
  },
  {
   "cell_type": "markdown",
   "metadata": {},
   "source": [
    "## Baseline"
   ]
  },
  {
   "cell_type": "code",
   "execution_count": 31,
   "metadata": {
    "tags": []
   },
   "outputs": [
    {
     "name": "stdout",
     "output_type": "stream",
     "text": [
      "          Accuracy  Recall  Precision  F1-score\n",
      "Baseline      0.51    0.57       0.06      0.11\n"
     ]
    }
   ],
   "source": [
    "consumption_all = X_train.eval('consommation_level_1_mean + consommation_level_2_mean + consommation_level_3_mean + consommation_level_4_mean')\n",
    "median_consumption = consumption_all.median()\n",
    "\n",
    "# Generate binary predictions based on the median consumption\n",
    "y_train_pred = (consumption_all > median_consumption).astype(int)\n",
    "\n",
    "# For the test set, ensure to calculate the consumption sum using test set features\n",
    "consumption_test = X_test.eval('consommation_level_1_mean + consommation_level_2_mean + consommation_level_3_mean + consommation_level_4_mean')\n",
    "y_test_pred = (consumption_test > median_consumption).astype(int)\n",
    "\n",
    "# Calculate metrics\n",
    "metrics = {\n",
    "    \"Accuracy\": [accuracy_score(y_test, y_test_pred)],\n",
    "    \"Recall\": [recall_score(y_test, y_test_pred)],\n",
    "    \"Precision\": [precision_score(y_test, y_test_pred)],\n",
    "    \"F1-score\": [f1_score(y_test, y_test_pred)]\n",
    "}\n",
    "\n",
    "metrics_df = pd.DataFrame(metrics, index=[\"Baseline\"])\n",
    "print(metrics_df)"
   ]
  },
  {
   "cell_type": "markdown",
   "metadata": {
    "tags": []
   },
   "source": [
    "## LGBM Classifier"
   ]
  },
  {
   "cell_type": "code",
   "execution_count": 32,
   "metadata": {
    "tags": []
   },
   "outputs": [
    {
     "name": "stdout",
     "output_type": "stream",
     "text": [
      "[LightGBM] [Info] Number of positive: 6053, number of negative: 102341\n",
      "[LightGBM] [Info] Auto-choosing row-wise multi-threading, the overhead of testing was 0.006097 seconds.\n",
      "You can set `force_row_wise=true` to remove the overhead.\n",
      "And if memory is not enough, you can set `force_col_wise=true`.\n",
      "[LightGBM] [Info] Total Bins 1254\n",
      "[LightGBM] [Info] Number of data points in the train set: 108394, number of used features: 8\n",
      "[LightGBM] [Info] [binary:BoostFromScore]: pavg=0.055843 -> initscore=-2.827756\n",
      "[LightGBM] [Info] Start training from score -2.827756\n",
      "          Accuracy  Recall  Precision  F1-score\n",
      "Baseline      0.94    0.01       0.31      0.02\n",
      "Accuracy on training set: 0.95\n",
      "Accuracy on test set: 0.94\n",
      "----------------------------------------\n",
      "Recall on training set: 0.11\n",
      "Recall on test set: 0.01\n",
      "----------------------------------------\n",
      "Precision on training set: 1.0\n",
      "Precision on test set: 0.31\n",
      "----------------------------------------\n",
      "fbeta_score on training set: 0.2\n",
      "fbeta_score on test set: 0.02\n",
      "----------------------------------------\n",
      "roc_auc_score on trainig set:  0.9\n",
      "roc_auc_score on test set:  0.74\n",
      "----------------------------------------\n"
     ]
    },
    {
     "data": {
      "text/plain": [
       "(<Figure size 300x200 with 2 Axes>,\n",
       " <Axes: title={'center': 'Test Set'}, xlabel='Predicted label', ylabel='True label'>)"
      ]
     },
     "execution_count": 32,
     "metadata": {},
     "output_type": "execute_result"
    },
    {
     "data": {
      "image/png": "[encoded data removed]",
      "text/plain": [
       "<Figure size 300x200 with 2 Axes>"
      ]
     },
     "metadata": {},
     "output_type": "display_data"
    }
   ],
   "source": [
    "model_lgbmc = LGBMClassifier(boosting_type='gbdt', num_iterations=500)\n",
    "\n",
    "model_lgbmc.fit(X_train, y_train)\n",
    "\n",
    "y_train_pred = model_lgbmc.predict(X_train)\n",
    "y_test_pred = model_lgbmc.predict(X_test)\n",
    "\n",
    "metrics = {\n",
    "    \"Accuracy\": [accuracy_score(y_test, y_test_pred)],\n",
    "    \"Recall\": [recall_score(y_test, y_test_pred)],\n",
    "    \"Precision\": [precision_score(y_test, y_test_pred)],\n",
    "    \"F1-score\": [f1_score(y_test, y_test_pred)]\n",
    "}\n",
    "\n",
    "\n",
    "metrics_lgbmc = pd.DataFrame(metrics, index=[\"Baseline\"])\n",
    "print(metrics_lgbmc)\n",
    "\n",
    "predict_and_print_scores(model_lgbmc, X_train, y_train, X_test, y_test)"
   ]
  },
  {
   "cell_type": "markdown",
   "metadata": {},
   "source": [
    "### Cross validation LGBM"
   ]
  },
  {
   "cell_type": "code",
   "execution_count": null,
   "metadata": {
    "tags": []
   },
   "outputs": [],
   "source": [
    "#hyperparameters = {\n",
    "#    'max_depth': [5, 7, 10, 15, 20, -1],\n",
    "#    'num_leaves': [1, 5, 10, 30, 50],\n",
    "#    'n_estimators': [1, 5, 10, 20, 50, 100], \n",
    "#    'learning_rate': [0.001, 0.01, 0.1, 1, 10, 100],\n",
    "#    'min_child_samples': [5, 10, 20, 40]\n",
    "#}\n",
    "\n",
    "# Initicalize model\n",
    "#model_lgbmc_cv = LGBMClassifier(boosting_type='gbdt', objective='binary', num_iterations=1000, n_jobs=-1)\n",
    "\n",
    "# Train, cross-validate, predict, score\n",
    "#best_model_lgbmc_cv = train_crossval_predict_score(model_lgbmc_cv,\n",
    "#                                                   hyperparameters,    \n",
    "#                                                   X_train,\n",
    "#                                                   y_train,\n",
    "#                                                   X_test,\n",
    "#                                                   y_test,\n",
    "#                                                   cv=5,\n",
    "#                                                   scoring='f1',\n",
    "#                                                   verbose=0,\n",
    "#                                                   n_jobs=-1,\n",
    "#                                                   cross_val='random',\n",
    "#                                                   training=True,\n",
    "#                                                   test=True,\n",
    "#                                                   accuracy=True,\n",
    "#                                                   recall=True,\n",
    "#                                                   precision=True,\n",
    "#                                                   fbeta=[True, 1.0],\n",
    "#                                                   roc_auc=True,\n",
    "#                                                   matrix=True,\n",
    "#                                                   figsize=(3,2),\n",
    "#                                                   cmap='YlGn')"
   ]
  },
  {
   "cell_type": "code",
   "execution_count": null,
   "metadata": {},
   "outputs": [],
   "source": [
    "#Best params: {'num_leaves': 30, 'n_estimators': 1, 'min_child_samples': 20, 'max_depth': 5, 'learning_rate': 10, 'boosting_type': 'gbdt'}\n",
    "#Best params: {'num_leaves': 50, 'n_estimators': 5, 'min_child_samples': 10, 'max_depth': 7, 'learning_rate': 10}\n",
    "\n",
    "model_lgbmc_cv = LGBMClassifier(boosting_type='gbdt',\n",
    "                                objective='binary',\n",
    "                                num_iterations=1000,\n",
    "                                n_jobs=-1\n",
    "                                max_depth=7,\n",
    "                                num_leaves=50,\n",
    "                                n_estimators=5, \n",
    "                                learning_rate=10,\n",
    "                                min_child_samples=10\n",
    "                               )\n",
    "\n",
    "model_lgbmc_cv.fit(X_train, y_train)"
   ]
  },
  {
   "cell_type": "markdown",
   "metadata": {
    "id": "Msm0u0WXdQ2l"
   },
   "source": [
    "## Tips \n",
    "- Thorough EDA and incorporating domain knowledge\n",
    "- Re-grouping categorical features\n",
    "- More feature engineering(try utilizing some date-time features)\n",
    "- Target balancing - oversampling, undersampling, SMOTE, scale_pos_weight\n",
    "- Model ensembling\n",
    "- Train-test split or cross-validation\n"
   ]
  },
  {
   "cell_type": "markdown",
   "metadata": {
    "id": "fgvYxyLXeEuU"
   },
   "source": [
    "# ******************* GOOD LUCK!!! ***************************"
   ]
  }
 ],
 "metadata": {
  "colab": {
   "provenance": []
  },
  "kernelspec": {
   "display_name": "Python 3 (ipykernel)",
   "language": "python",
   "name": "python3"
  },
  "language_info": {
   "codemirror_mode": {
    "name": "ipython",
    "version": 3
   },
   "file_extension": ".py",
   "mimetype": "text/x-python",
   "name": "python",
   "nbconvert_exporter": "python",
   "pygments_lexer": "ipython3",
   "version": "3.11.3"
  }
 },
 "nbformat": 4,
 "nbformat_minor": 4
}
