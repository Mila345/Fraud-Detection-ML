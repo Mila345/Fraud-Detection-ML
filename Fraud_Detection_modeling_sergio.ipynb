{
 "cells": [
  {
   "cell_type": "markdown",
   "metadata": {
    "id": "RqLQ-hbyb5jH"
   },
   "source": [
    "# Fraud Detection in Electricity and Gas Consumption Challenge\n",
    "\n",
    "This is a simple starter notebook based on the tutorial prepared by Joy Wawira. Check out the article [here](https://zindi.africa/learn/fraud-detection-in-electricity-and-gas-consumption-challenge-tutorial) for a more detailed description of the steps taken.\n",
    "\n",
    "This notebook covers:\n",
    "- Downloading the data straight from Zindi and onto colab\n",
    "- Loading the data and carrying out simple EDA to understand the data and prepare for modelling \n",
    "- Preprocessing the data and feature engineering \n",
    "- Creating a simple LGBM model and predicting on the test set\n",
    "- Prepare submission file and save as csv\n",
    "- Some tips on how to improve model performance and your score"
   ]
  },
  {
   "cell_type": "markdown",
   "metadata": {
    "id": "e6LfbE6PJbmp"
   },
   "source": [
    "# Pre-Requisites"
   ]
  },
  {
   "cell_type": "code",
   "execution_count": 1,
   "metadata": {
    "id": "IYR_e0SMJnpa",
    "tags": []
   },
   "outputs": [],
   "source": [
    "DATA_DIR = '/data'\n",
    "\n",
    "TRAIN_DIR = f'{DATA_DIR}/train'\n",
    "TEST_DIR = f'{DATA_DIR}/test'\n",
    "\n",
    "OUTPUT_DIR = f'{DATA_DIR}/output'"
   ]
  },
  {
   "cell_type": "markdown",
   "metadata": {
    "id": "3qArEf-4JhbE"
   },
   "source": [
    "## Download and extract files"
   ]
  },
  {
   "cell_type": "code",
   "execution_count": 2,
   "metadata": {
    "id": "GblUChAfGsaY",
    "tags": []
   },
   "outputs": [],
   "source": [
    "import os.path\n",
    "from os import path\n",
    "\n",
    "for pth in [TRAIN_DIR, TEST_DIR, OUTPUT_DIR]:\n",
    "  if path.exists(pth) == False:\n",
    "    os.mkdir(pth)"
   ]
  },
  {
   "cell_type": "code",
   "execution_count": 3,
   "metadata": {
    "id": "4GEpOaBQGvlB"
   },
   "outputs": [],
   "source": [
    "#only run this cell once, at the start\n",
    "import requests, os\n",
    "\n",
    "train_zip = \"train.zip\"\n",
    "test_zip = \"test.zip\"\n",
    "sample_sub = \"SampleSubmission.csv\""
   ]
  },
  {
   "cell_type": "code",
   "execution_count": 4,
   "metadata": {
    "colab": {
     "base_uri": "https://localhost:8080/"
    },
    "id": "fcqJHBiuIVp8",
    "outputId": "538c087d-1c8e-41df-9457-2a2a315b181a"
   },
   "outputs": [],
   "source": [
    "#!unzip \"/content/train/train.zip\" -d \"/content/train/\"\n",
    "#!unzip \"/content/test/test.zip\" -d \"/content/test/\""
   ]
  },
  {
   "cell_type": "markdown",
   "metadata": {
    "id": "Jy_tdygDJm-k"
   },
   "source": [
    "# Data Prep"
   ]
  },
  {
   "cell_type": "markdown",
   "metadata": {
    "id": "GKfpS4UVJ4Wj"
   },
   "source": [
    "## Import Libraries"
   ]
  },
  {
   "cell_type": "code",
   "execution_count": 91,
   "metadata": {
    "id": "OJMD_I3EJWP4",
    "tags": []
   },
   "outputs": [],
   "source": [
    "import pandas as pd\n",
    "import matplotlib.pyplot as plt\n",
    "import math\n",
    "import numpy as np\n",
    "\n",
    "import warnings\n",
    "warnings.simplefilter('ignore')\n",
    "\n",
    "# Modelling\n",
    "from sklearn.preprocessing import StandardScaler, OneHotEncoder\n",
    "from sklearn.preprocessing import MinMaxScaler, RobustScaler\n",
    "from sklearn.model_selection import train_test_split\n",
    "from sklearn.metrics import accuracy_score\n",
    "from sklearn.datasets import make_classification\n",
    "from sklearn.linear_model import LogisticRegression, SGDClassifier\n",
    "from sklearn.metrics import fbeta_score, make_scorer\n",
    "from sklearn.metrics import confusion_matrix\n",
    "from sklearn import metrics\n",
    "from sklearn.metrics import classification_report\n",
    "from sklearn.model_selection import GridSearchCV, RandomizedSearchCV\n",
    "from sklearn.linear_model import SGDClassifier #Stohastic gradient descent\n",
    "from sklearn.neighbors import KNeighborsClassifier\n",
    "from sklearn.model_selection import RepeatedStratifiedKFold\n",
    "from scipy.stats import loguniform\n",
    "from sklearn.pipeline import Pipeline\n",
    "from sklearn.compose import ColumnTransformer\n",
    "from sklearn.model_selection import cross_val_predict\n",
    "from sklearn.metrics import accuracy_score, recall_score, precision_score, f1_score, fbeta_score, roc_auc_score, roc_curve\n",
    "from sklearn.impute import SimpleImputer, KNNImputer\n",
    "from numpy import loadtxt\n",
    "from xgboost import XGBClassifier\n",
    "from sklearn.model_selection import train_test_split\n",
    "from sklearn.metrics import accuracy_score\n",
    "from lightgbm import LGBMClassifier\n",
    "from imblearn.pipeline import Pipeline as ImbPipeline\n",
    "from imblearn.under_sampling import RandomUnderSampler\n",
    "from imblearn.over_sampling import RandomOverSampler, SMOTE\n",
    "from sklearn.ensemble import RandomForestClassifier, AdaBoostClassifier\n",
    "from sklearn.preprocessing import StandardScaler, MinMaxScaler, RobustScaler, PowerTransformer\n",
    "from sklearn.ensemble import AdaBoostClassifier, VotingClassifier\n",
    "\n",
    "# Plot\n",
    "import matplotlib.pyplot as plt\n",
    "import seaborn as sns\n",
    "#import plotly.express as px\n",
    "from matplotlib.ticker import PercentFormatter\n",
    "plt.rcParams.update({ \"figure.figsize\" : (8, 5),\"axes.facecolor\" : \"white\", \"axes.edgecolor\":  \"black\"})\n",
    "plt.rcParams[\"figure.facecolor\"]= \"w\"\n",
    "pd.plotting.register_matplotlib_converters()\n",
    "pd.set_option('display.float_format', lambda x: '%.3f' % x)\n",
    "pd.options.display.float_format = \"{:,.2f}\".format\n",
    "import warnings\n",
    "warnings.filterwarnings('ignore')\n",
    "\n",
    "RSEED = 42"
   ]
  },
  {
   "cell_type": "code",
   "execution_count": 6,
   "metadata": {
    "tags": []
   },
   "outputs": [],
   "source": [
    "#!pip install lightgbm"
   ]
  },
  {
   "cell_type": "code",
   "execution_count": 7,
   "metadata": {
    "tags": []
   },
   "outputs": [],
   "source": [
    "from os import path\n",
    "import sys\n",
    "sys.path.append(path.abspath('../')) #replace this path with your own path\n",
    "from custom_python_functions.model_evaluation import (\n",
    "    train_crossval_predict_score,\n",
    "    predict_and_print_scores,\n",
    "    plot_confusion_matrix,\n",
    "    plot_distributions,\n",
    "    plot_correlation,\n",
    "    plot_roc_curves,\n",
    "    find_roc_threshold_tpr,\n",
    "    find_roc_threshold_fpr,\n",
    "    find_roc_threshold_accuracy,\n",
    "    find_roc_threshold_f1)"
   ]
  },
  {
   "cell_type": "markdown",
   "metadata": {
    "id": "exEGyf6vJ_4T"
   },
   "source": [
    "## Read the Data"
   ]
  },
  {
   "cell_type": "code",
   "execution_count": 8,
   "metadata": {
    "id": "I2oIx7IuKCJm",
    "tags": []
   },
   "outputs": [],
   "source": [
    "import pandas as pd\n",
    "\n",
    "client = pd.read_csv('data/train/client_train.csv', low_memory=False)\n",
    "invoice = pd.read_csv('data/train/invoice_train.csv', low_memory=False)"
   ]
  },
  {
   "cell_type": "markdown",
   "metadata": {},
   "source": [
    "Columns:\n",
    "\n",
    "- Client_id: Unique id for client\n",
    "- District: District where the client is\n",
    "- Client_catg: Category client belongs to\n",
    "- Region: Area where the client is\n",
    "- Creation_date: Date client joined\n",
    "- Target: fraud:1 , not fraud: 0\n",
    "\n",
    "- Tarif_type: Type of tax\n",
    "- Counter_statue: takes up to 5 values such as working fine, not working, on hold statue, ect\n",
    "- Counter_code:\n",
    "- Reading_remarque: notes that the STEG agent takes during his visit to the client (e.g: If the counter shows something wrong, the agent gives a bad score)\n",
    "- Counter_coefficient: An additional coefficient to be added when standard consumption is exceeded\n",
    "- Consommation_level_1: Consumption_level_1\n",
    "- Consommation_level_2: Consumption_level_2\n",
    "- Consommation_level_3: Consumption_level_3\n",
    "- Consommation_level_4: Consumption_level_4\n",
    "- Months_number: Month number\n",
    "- Counter_type: Type of counter"
   ]
  },
  {
   "cell_type": "markdown",
   "metadata": {
    "id": "cDRp9i5ZO9mz"
   },
   "source": [
    "## Data Understanding"
   ]
  },
  {
   "cell_type": "code",
   "execution_count": 9,
   "metadata": {
    "colab": {
     "base_uri": "https://localhost:8080/"
    },
    "id": "h4zQzvLjKZ6E",
    "outputId": "deb14c51-2f5d-40cd-aa35-771477e044e0",
    "tags": []
   },
   "outputs": [
    {
     "name": "stdout",
     "output_type": "stream",
     "text": [
      "(135493, 6) (4476749, 16)\n"
     ]
    }
   ],
   "source": [
    "#compare size of the various datasets\n",
    "print(client.shape, invoice.shape)"
   ]
  },
  {
   "cell_type": "code",
   "execution_count": 10,
   "metadata": {
    "colab": {
     "base_uri": "https://localhost:8080/",
     "height": 270
    },
    "id": "Tw1On2leQsxU",
    "outputId": "4bbe6376-2007-4ea4-cd6f-e53e4c0bcb33",
    "tags": []
   },
   "outputs": [],
   "source": [
    "#print top rows of dataset\n",
    "#invoice.head()"
   ]
  },
  {
   "cell_type": "code",
   "execution_count": 11,
   "metadata": {
    "tags": []
   },
   "outputs": [],
   "source": [
    "#client.head(5)"
   ]
  },
  {
   "cell_type": "code",
   "execution_count": 12,
   "metadata": {
    "colab": {
     "base_uri": "https://localhost:8080/",
     "height": 300
    },
    "id": "fFBTeG8YSicC",
    "outputId": "551f42dc-8b1c-42a9-9a60-f6dc9279911b",
    "tags": []
   },
   "outputs": [],
   "source": [
    "#Get a summary for all numerical columns\n",
    "#invoice.describe()"
   ]
  },
  {
   "cell_type": "code",
   "execution_count": 13,
   "metadata": {
    "colab": {
     "base_uri": "https://localhost:8080/",
     "height": 300
    },
    "id": "egcBZ2ysSkji",
    "outputId": "37102972-554b-4063-ce3b-14dae74b3540",
    "tags": []
   },
   "outputs": [],
   "source": [
    "#Get a summary for all numerical columns\n",
    "#client.describe()"
   ]
  },
  {
   "cell_type": "code",
   "execution_count": 14,
   "metadata": {
    "colab": {
     "base_uri": "https://localhost:8080/"
    },
    "id": "-8gQmkajSnXs",
    "outputId": "fef429ad-2fd5-46e3-9d3b-32def757324c",
    "tags": []
   },
   "outputs": [],
   "source": [
    "#Get concise information of each column in dataset\n",
    "#invoice.info()"
   ]
  },
  {
   "cell_type": "code",
   "execution_count": 15,
   "metadata": {
    "colab": {
     "base_uri": "https://localhost:8080/"
    },
    "id": "VII8aa8CSoed",
    "outputId": "330bd35b-fd37-422b-b718-c34d354661db",
    "tags": []
   },
   "outputs": [],
   "source": [
    "#Get concise information of each column in dataset\n",
    "#client.info()"
   ]
  },
  {
   "cell_type": "code",
   "execution_count": 16,
   "metadata": {
    "colab": {
     "base_uri": "https://localhost:8080/"
    },
    "id": "iiJ3e_pFSOWg",
    "outputId": "d074cb2a-d009-471f-f124-466db367df68",
    "tags": []
   },
   "outputs": [
    {
     "name": "stdout",
     "output_type": "stream",
     "text": [
      "client_id - 135493\n",
      "invoice_date - 8275\n",
      "tarif_type - 17\n",
      "counter_number - 201893\n",
      "counter_statue - 12\n",
      "counter_code - 42\n",
      "reading_remarque - 8\n",
      "counter_coefficient - 16\n",
      "consommation_level_1 - 8295\n",
      "consommation_level_2 - 12576\n",
      "consommation_level_3 - 2253\n",
      "consommation_level_4 - 12075\n",
      "old_index - 155648\n",
      "new_index - 157980\n",
      "months_number - 1370\n",
      "counter_type - 2\n"
     ]
    }
   ],
   "source": [
    "#Getting unique values on the invoice train data\n",
    "for col in invoice.columns:\n",
    "    print(f\"{col} - {invoice[col].nunique()}\")"
   ]
  },
  {
   "cell_type": "code",
   "execution_count": 17,
   "metadata": {
    "colab": {
     "base_uri": "https://localhost:8080/"
    },
    "id": "uMC16gFETUAF",
    "outputId": "0e363f7b-35c4-45c2-c763-acf80585ef7c",
    "tags": []
   },
   "outputs": [
    {
     "name": "stdout",
     "output_type": "stream",
     "text": [
      "disrict - 4\n",
      "client_id - 135493\n",
      "client_catg - 3\n",
      "region - 25\n",
      "creation_date - 8088\n",
      "target - 2\n"
     ]
    }
   ],
   "source": [
    "#Getting unique values on the invoice train data\n",
    "for col in client.columns:\n",
    "    print(f\"{col} - {client[col].nunique()}\")"
   ]
  },
  {
   "cell_type": "code",
   "execution_count": 18,
   "metadata": {
    "colab": {
     "base_uri": "https://localhost:8080/"
    },
    "id": "h10LPXsfVHhu",
    "outputId": "332ac9e1-02e3-4a3a-a8d6-1c8d706b9601",
    "tags": []
   },
   "outputs": [],
   "source": [
    "#check for missing values\n",
    "#invoice.isnull().sum()"
   ]
  },
  {
   "cell_type": "code",
   "execution_count": 19,
   "metadata": {
    "colab": {
     "base_uri": "https://localhost:8080/"
    },
    "id": "b3XyoiIbVO-b",
    "outputId": "9200e12f-66fd-43a4-edf4-daa1e1cfdd11",
    "tags": []
   },
   "outputs": [],
   "source": [
    "#check for missing values\n",
    "#client.isnull().sum()"
   ]
  },
  {
   "cell_type": "markdown",
   "metadata": {
    "id": "i3oZLTnSVSOT"
   },
   "source": [
    "No missing values in train set"
   ]
  },
  {
   "cell_type": "code",
   "execution_count": 20,
   "metadata": {
    "colab": {
     "base_uri": "https://localhost:8080/",
     "height": 281
    },
    "id": "JOzSAlEWTR3j",
    "outputId": "97a46548-924e-44a4-9b85-e40d01979b99",
    "tags": []
   },
   "outputs": [
    {
     "data": {
      "image/png": "[encoded data removed]",
      "text/plain": [
       "<Figure size 800x500 with 1 Axes>"
      ]
     },
     "metadata": {},
     "output_type": "display_data"
    }
   ],
   "source": [
    "#Visualize fraudulent activities\n",
    "fraudactivities = client.groupby(['target'])['client_id'].count()\n",
    "plt.bar(x=fraudactivities.index, height=fraudactivities.values, tick_label = [0,1])\n",
    "plt.title('Fraud - Target Distribution')\n",
    "plt.show()"
   ]
  },
  {
   "cell_type": "markdown",
   "metadata": {
    "id": "fQb7RZf_Ufn9"
   },
   "source": [
    "Target is highly imbalanced with fewer cases of fraudulent activities"
   ]
  },
  {
   "cell_type": "code",
   "execution_count": 21,
   "metadata": {
    "colab": {
     "base_uri": "https://localhost:8080/",
     "height": 545
    },
    "id": "v8G8BPgMUrVW",
    "outputId": "886941f9-3a90-48c2-ddac-75728bd7b935",
    "tags": []
   },
   "outputs": [
    {
     "data": {
      "image/png": "[encoded data removed]",
      "text/plain": [
       "<Figure size 800x500 with 1 Axes>"
      ]
     },
     "metadata": {},
     "output_type": "display_data"
    },
    {
     "data": {
      "image/png": "[encoded data removed]",
      "text/plain": [
       "<Figure size 800x500 with 1 Axes>"
      ]
     },
     "metadata": {},
     "output_type": "display_data"
    }
   ],
   "source": [
    "#Visualize client distribution across districts and regions\n",
    "for col in ['disrict','region']:\n",
    "    region = client.groupby([col])['client_id'].count()\n",
    "    plt.bar(x=region.index, height=region.values)\n",
    "    plt.title(col+' distribution')\n",
    "    plt.show()"
   ]
  },
  {
   "cell_type": "markdown",
   "metadata": {
    "id": "0-LOrxdIU7-h"
   },
   "source": [
    "## Feature Engineering"
   ]
  },
  {
   "cell_type": "code",
   "execution_count": 22,
   "metadata": {
    "id": "aVypp4ahU9tq",
    "tags": []
   },
   "outputs": [],
   "source": [
    "#convert the column invoice_date to date time format on both the invoice train and invoice test\n",
    "#for df in [invoice_train,invoice_test]:\n",
    "#    df['invoice_date'] = pd.to_datetime(df['invoice_date'])"
   ]
  },
  {
   "cell_type": "code",
   "execution_count": 23,
   "metadata": {
    "id": "sW2W5i63VYyK",
    "tags": []
   },
   "outputs": [],
   "source": [
    "#encode labels in categorical column\n",
    "#d={\"ELEC\":0,\"GAZ\":1}\n",
    "#invoice_train['counter_type']=invoice_train['counter_type'].map(d)"
   ]
  },
  {
   "cell_type": "code",
   "execution_count": 24,
   "metadata": {
    "id": "NldYnn0GWHAk",
    "tags": []
   },
   "outputs": [],
   "source": [
    "#convert categorical columns to int for model\n",
    "client['client_catg'] = client['client_catg'].astype('int32')\n",
    "client['disrict'] = client['disrict'].astype('int32')"
   ]
  },
  {
   "cell_type": "code",
   "execution_count": 25,
   "metadata": {
    "id": "Bt7LJHhyXJji",
    "tags": []
   },
   "outputs": [],
   "source": [
    "def aggregate_by_client_id(invoice_data):\n",
    "    aggs = {} #define aggregation dictionary\n",
    "    aggs['consommation_level_1'] = ['mean']\n",
    "    aggs['consommation_level_2'] = ['mean']\n",
    "    aggs['consommation_level_3'] = ['mean']\n",
    "    aggs['consommation_level_4'] = ['mean']\n",
    "\n",
    "    agg_trans = invoice_data.groupby(['client_id']).agg(aggs) #invoice data is grouped by the client id and aggregated using the dict. aggs\n",
    "    agg_trans.columns = ['_'.join(col).strip() for col in agg_trans.columns.values] #new dataframe where each row represents a unique client_id and contains a mean of a consumption level specified\n",
    "    #above the columns of agg_trans are renamed. This renaming concatenates the original column names (which are multi-level after the aggregation operation) into single-level column names by joining them with an underscore\n",
    "    agg_trans.reset_index(inplace=True)\n",
    "\n",
    "    df = (invoice_data.groupby('client_id') \n",
    "            .size()\n",
    "            .reset_index(name='{}transactions_count'.format('1')))#we group the original invoice_data by client_id to count the number of transactions per client\n",
    "\n",
    "    return pd.merge(df, agg_trans, on='client_id', how='left')#we merge the transaction count df with the counsumption level averages df agg_trans on client_id column"
   ]
  },
  {
   "cell_type": "code",
   "execution_count": 26,
   "metadata": {
    "id": "8gUjxEmKWZjp",
    "tags": []
   },
   "outputs": [],
   "source": [
    "#group invoice data by client_id\n",
    "agg_train = aggregate_by_client_id(invoice)\n",
    "#this will again compute the mean values of consommation_level_* grouped by client_id, rename the columns to consommation_level_*_mean, count the number of transactions for each client in invoce_data\n",
    "#and merge these two sets of data (average consumption levels and transaction counts) into a single df"
   ]
  },
  {
   "cell_type": "code",
   "execution_count": 27,
   "metadata": {
    "colab": {
     "base_uri": "https://localhost:8080/",
     "height": 224
    },
    "id": "5cIpY1tGWrkw",
    "outputId": "c57de3d5-3efe-4e8a-9a0c-7362f05fca4c",
    "tags": []
   },
   "outputs": [
    {
     "name": "stdout",
     "output_type": "stream",
     "text": [
      "(135493, 6)\n"
     ]
    },
    {
     "data": {
      "text/html": [
       "<div>\n",
       "<style scoped>\n",
       "    .dataframe tbody tr th:only-of-type {\n",
       "        vertical-align: middle;\n",
       "    }\n",
       "\n",
       "    .dataframe tbody tr th {\n",
       "        vertical-align: top;\n",
       "    }\n",
       "\n",
       "    .dataframe thead th {\n",
       "        text-align: right;\n",
       "    }\n",
       "</style>\n",
       "<table border=\"1\" class=\"dataframe\">\n",
       "  <thead>\n",
       "    <tr style=\"text-align: right;\">\n",
       "      <th></th>\n",
       "      <th>client_id</th>\n",
       "      <th>1transactions_count</th>\n",
       "      <th>consommation_level_1_mean</th>\n",
       "      <th>consommation_level_2_mean</th>\n",
       "      <th>consommation_level_3_mean</th>\n",
       "      <th>consommation_level_4_mean</th>\n",
       "    </tr>\n",
       "  </thead>\n",
       "  <tbody>\n",
       "    <tr>\n",
       "      <th>0</th>\n",
       "      <td>train_Client_0</td>\n",
       "      <td>35</td>\n",
       "      <td>352.40</td>\n",
       "      <td>10.57</td>\n",
       "      <td>0.00</td>\n",
       "      <td>0.00</td>\n",
       "    </tr>\n",
       "    <tr>\n",
       "      <th>1</th>\n",
       "      <td>train_Client_1</td>\n",
       "      <td>37</td>\n",
       "      <td>557.54</td>\n",
       "      <td>0.00</td>\n",
       "      <td>0.00</td>\n",
       "      <td>0.00</td>\n",
       "    </tr>\n",
       "    <tr>\n",
       "      <th>2</th>\n",
       "      <td>train_Client_10</td>\n",
       "      <td>18</td>\n",
       "      <td>798.61</td>\n",
       "      <td>37.89</td>\n",
       "      <td>0.00</td>\n",
       "      <td>0.00</td>\n",
       "    </tr>\n",
       "    <tr>\n",
       "      <th>3</th>\n",
       "      <td>train_Client_100</td>\n",
       "      <td>20</td>\n",
       "      <td>1.20</td>\n",
       "      <td>0.00</td>\n",
       "      <td>0.00</td>\n",
       "      <td>0.00</td>\n",
       "    </tr>\n",
       "    <tr>\n",
       "      <th>4</th>\n",
       "      <td>train_Client_1000</td>\n",
       "      <td>14</td>\n",
       "      <td>663.71</td>\n",
       "      <td>104.86</td>\n",
       "      <td>117.36</td>\n",
       "      <td>36.71</td>\n",
       "    </tr>\n",
       "  </tbody>\n",
       "</table>\n",
       "</div>"
      ],
      "text/plain": [
       "           client_id  1transactions_count  consommation_level_1_mean   \n",
       "0     train_Client_0                   35                     352.40  \\\n",
       "1     train_Client_1                   37                     557.54   \n",
       "2    train_Client_10                   18                     798.61   \n",
       "3   train_Client_100                   20                       1.20   \n",
       "4  train_Client_1000                   14                     663.71   \n",
       "\n",
       "   consommation_level_2_mean  consommation_level_3_mean   \n",
       "0                      10.57                       0.00  \\\n",
       "1                       0.00                       0.00   \n",
       "2                      37.89                       0.00   \n",
       "3                       0.00                       0.00   \n",
       "4                     104.86                     117.36   \n",
       "\n",
       "   consommation_level_4_mean  \n",
       "0                       0.00  \n",
       "1                       0.00  \n",
       "2                       0.00  \n",
       "3                       0.00  \n",
       "4                      36.71  "
      ]
     },
     "execution_count": 27,
     "metadata": {},
     "output_type": "execute_result"
    }
   ],
   "source": [
    "print(agg_train.shape)\n",
    "agg_train.head()"
   ]
  },
  {
   "cell_type": "code",
   "execution_count": 28,
   "metadata": {
    "id": "beXOMOEMW97l",
    "tags": []
   },
   "outputs": [
    {
     "data": {
      "text/html": [
       "<div>\n",
       "<style scoped>\n",
       "    .dataframe tbody tr th:only-of-type {\n",
       "        vertical-align: middle;\n",
       "    }\n",
       "\n",
       "    .dataframe tbody tr th {\n",
       "        vertical-align: top;\n",
       "    }\n",
       "\n",
       "    .dataframe thead th {\n",
       "        text-align: right;\n",
       "    }\n",
       "</style>\n",
       "<table border=\"1\" class=\"dataframe\">\n",
       "  <thead>\n",
       "    <tr style=\"text-align: right;\">\n",
       "      <th></th>\n",
       "      <th>disrict</th>\n",
       "      <th>client_id</th>\n",
       "      <th>client_catg</th>\n",
       "      <th>region</th>\n",
       "      <th>creation_date</th>\n",
       "      <th>target</th>\n",
       "      <th>1transactions_count</th>\n",
       "      <th>consommation_level_1_mean</th>\n",
       "      <th>consommation_level_2_mean</th>\n",
       "      <th>consommation_level_3_mean</th>\n",
       "      <th>consommation_level_4_mean</th>\n",
       "    </tr>\n",
       "  </thead>\n",
       "  <tbody>\n",
       "    <tr>\n",
       "      <th>0</th>\n",
       "      <td>60</td>\n",
       "      <td>train_Client_0</td>\n",
       "      <td>11</td>\n",
       "      <td>101</td>\n",
       "      <td>31/12/1994</td>\n",
       "      <td>0.00</td>\n",
       "      <td>35</td>\n",
       "      <td>352.40</td>\n",
       "      <td>10.57</td>\n",
       "      <td>0.00</td>\n",
       "      <td>0.00</td>\n",
       "    </tr>\n",
       "    <tr>\n",
       "      <th>1</th>\n",
       "      <td>69</td>\n",
       "      <td>train_Client_1</td>\n",
       "      <td>11</td>\n",
       "      <td>107</td>\n",
       "      <td>29/05/2002</td>\n",
       "      <td>0.00</td>\n",
       "      <td>37</td>\n",
       "      <td>557.54</td>\n",
       "      <td>0.00</td>\n",
       "      <td>0.00</td>\n",
       "      <td>0.00</td>\n",
       "    </tr>\n",
       "    <tr>\n",
       "      <th>2</th>\n",
       "      <td>62</td>\n",
       "      <td>train_Client_10</td>\n",
       "      <td>11</td>\n",
       "      <td>301</td>\n",
       "      <td>13/03/1986</td>\n",
       "      <td>0.00</td>\n",
       "      <td>18</td>\n",
       "      <td>798.61</td>\n",
       "      <td>37.89</td>\n",
       "      <td>0.00</td>\n",
       "      <td>0.00</td>\n",
       "    </tr>\n",
       "    <tr>\n",
       "      <th>3</th>\n",
       "      <td>69</td>\n",
       "      <td>train_Client_100</td>\n",
       "      <td>11</td>\n",
       "      <td>105</td>\n",
       "      <td>11/07/1996</td>\n",
       "      <td>0.00</td>\n",
       "      <td>20</td>\n",
       "      <td>1.20</td>\n",
       "      <td>0.00</td>\n",
       "      <td>0.00</td>\n",
       "      <td>0.00</td>\n",
       "    </tr>\n",
       "    <tr>\n",
       "      <th>4</th>\n",
       "      <td>62</td>\n",
       "      <td>train_Client_1000</td>\n",
       "      <td>11</td>\n",
       "      <td>303</td>\n",
       "      <td>14/10/2014</td>\n",
       "      <td>0.00</td>\n",
       "      <td>14</td>\n",
       "      <td>663.71</td>\n",
       "      <td>104.86</td>\n",
       "      <td>117.36</td>\n",
       "      <td>36.71</td>\n",
       "    </tr>\n",
       "  </tbody>\n",
       "</table>\n",
       "</div>"
      ],
      "text/plain": [
       "   disrict          client_id  client_catg  region creation_date  target   \n",
       "0       60     train_Client_0           11     101    31/12/1994    0.00  \\\n",
       "1       69     train_Client_1           11     107    29/05/2002    0.00   \n",
       "2       62    train_Client_10           11     301    13/03/1986    0.00   \n",
       "3       69   train_Client_100           11     105    11/07/1996    0.00   \n",
       "4       62  train_Client_1000           11     303    14/10/2014    0.00   \n",
       "\n",
       "   1transactions_count  consommation_level_1_mean  consommation_level_2_mean   \n",
       "0                   35                     352.40                      10.57  \\\n",
       "1                   37                     557.54                       0.00   \n",
       "2                   18                     798.61                      37.89   \n",
       "3                   20                       1.20                       0.00   \n",
       "4                   14                     663.71                     104.86   \n",
       "\n",
       "   consommation_level_3_mean  consommation_level_4_mean  \n",
       "0                       0.00                       0.00  \n",
       "1                       0.00                       0.00  \n",
       "2                       0.00                       0.00  \n",
       "3                       0.00                       0.00  \n",
       "4                     117.36                      36.71  "
      ]
     },
     "execution_count": 28,
     "metadata": {},
     "output_type": "execute_result"
    }
   ],
   "source": [
    "#merge aggregate data with client dataset\n",
    "train = pd.merge(client,agg_train, on='client_id', how='left')\n",
    "train.head(5)"
   ]
  },
  {
   "cell_type": "markdown",
   "metadata": {
    "id": "y6SFawOVXFDX",
    "tags": []
   },
   "source": [
    "## Train - Test Split"
   ]
  },
  {
   "cell_type": "code",
   "execution_count": 29,
   "metadata": {
    "id": "BwYBcKk8X3mr",
    "tags": []
   },
   "outputs": [],
   "source": [
    "#drop redundant columns\n",
    "sub_client_id = train['client_id']\n",
    "drop_columns = ['client_id', 'creation_date']\n",
    "\n",
    "for col in drop_columns:\n",
    "    if col in train.columns:\n",
    "        train.drop([col], axis=1, inplace=True)"
   ]
  },
  {
   "cell_type": "code",
   "execution_count": 30,
   "metadata": {
    "tags": []
   },
   "outputs": [],
   "source": [
    "y_base = train['target']\n",
    "X_base = train.drop('target', axis=1)\n",
    "\n",
    "X_train_base, X_test_base, y_train_base, y_test_base = train_test_split(X_base, y_base, test_size=0.2, random_state=RSEED, stratify=y_base)"
   ]
  },
  {
   "cell_type": "code",
   "execution_count": 31,
   "metadata": {
    "colab": {
     "base_uri": "https://localhost:8080/"
    },
    "id": "dg0832jcXzkI",
    "outputId": "2c6ff557-0258-4310-d8f6-aad0627c9ddb",
    "tags": []
   },
   "outputs": [
    {
     "data": {
      "text/plain": [
       "((108394, 8), (27099, 8))"
      ]
     },
     "execution_count": 31,
     "metadata": {},
     "output_type": "execute_result"
    }
   ],
   "source": [
    "X_train_base.shape, X_test_base.shape"
   ]
  },
  {
   "cell_type": "markdown",
   "metadata": {},
   "source": [
    "## Baseline"
   ]
  },
  {
   "cell_type": "code",
   "execution_count": 32,
   "metadata": {
    "tags": []
   },
   "outputs": [
    {
     "name": "stdout",
     "output_type": "stream",
     "text": [
      "          Accuracy  Recall  Precision  F1-score\n",
      "Baseline      0.51    0.57       0.06      0.11\n"
     ]
    }
   ],
   "source": [
    "consumption_all = X_train_base.eval('consommation_level_1_mean + consommation_level_2_mean + consommation_level_3_mean + consommation_level_4_mean')\n",
    "median_consumption = consumption_all.median()\n",
    "\n",
    "# Generate binary predictions based on the median consumption\n",
    "y_train_naive_pred = (consumption_all > median_consumption).astype(int)\n",
    "\n",
    "# For the test set, ensure to calculate the consumption sum using test set features\n",
    "consumption_test = X_test_base.eval('consommation_level_1_mean + consommation_level_2_mean + consommation_level_3_mean + consommation_level_4_mean')\n",
    "y_test_naive_pred = (consumption_test > median_consumption).astype(int)\n",
    "\n",
    "# Calculate metrics\n",
    "metrics = {\n",
    "    \"Accuracy\": [accuracy_score(y_test_base, y_test_naive_pred)],\n",
    "    \"Recall\": [recall_score(y_test_base, y_test_naive_pred)],\n",
    "    \"Precision\": [precision_score(y_test_base, y_test_naive_pred)],\n",
    "    \"F1-score\": [f1_score(y_test_base, y_test_naive_pred)]\n",
    "}\n",
    "\n",
    "metrics_df = pd.DataFrame(metrics, index=[\"Baseline\"])\n",
    "print(metrics_df)"
   ]
  },
  {
   "cell_type": "markdown",
   "metadata": {
    "tags": []
   },
   "source": [
    "## LGBM Classifier - Baseline"
   ]
  },
  {
   "cell_type": "code",
   "execution_count": 33,
   "metadata": {
    "tags": []
   },
   "outputs": [
    {
     "name": "stdout",
     "output_type": "stream",
     "text": [
      "Accuracy on training set: 0.94\n",
      "Accuracy on test set: 0.94\n",
      "----------------------------------------\n",
      "Recall on training set: 0.02\n",
      "Recall on test set: 0.0\n",
      "----------------------------------------\n",
      "Precision on training set: 0.95\n",
      "Precision on test set: 0.6\n",
      "----------------------------------------\n",
      "fbeta_score on training set: 0.03\n",
      "fbeta_score on test set: 0.01\n",
      "----------------------------------------\n",
      "roc_auc_score on trainig set:  0.81\n",
      "roc_auc_score on test set:  0.76\n",
      "----------------------------------------\n"
     ]
    }
   ],
   "source": [
    "model_lgbmc_base = LGBMClassifier(boosting_type='gbdt', random_state=RSEED, n_jobs=-1, verbosity=-1)\n",
    "\n",
    "model_lgbmc_base.fit(X_train_base, y_train_base)\n",
    "\n",
    "predict_and_print_scores(model_lgbmc_base, X_train_base, y_train_base, X_test_base, y_test_base, matrix=False)"
   ]
  },
  {
   "cell_type": "code",
   "execution_count": 34,
   "metadata": {
    "tags": []
   },
   "outputs": [
    {
     "data": {
      "image/png": "[encoded data removed]",
      "text/plain": [
       "<Figure size 600x500 with 1 Axes>"
      ]
     },
     "metadata": {},
     "output_type": "display_data"
    },
    {
     "data": {
      "text/plain": [
       "(<Figure size 600x500 with 1 Axes>,\n",
       " <Axes: xlabel='False Positive Rate (1 - Specifity)', ylabel='True Positive Rate (Recall)'>)"
      ]
     },
     "execution_count": 34,
     "metadata": {},
     "output_type": "execute_result"
    }
   ],
   "source": [
    "# Evaluate your model\n",
    "model_dic={'lgbmc - base' : [model_lgbmc_base, 'r-']}\n",
    "plot_roc_curves(model_dic, X_test_base, y_test_base)"
   ]
  },
  {
   "cell_type": "markdown",
   "metadata": {},
   "source": [
    "## Feature engineering"
   ]
  },
  {
   "cell_type": "code",
   "execution_count": 35,
   "metadata": {
    "tags": []
   },
   "outputs": [],
   "source": [
    "#rename columns\n",
    "client.rename(columns={\n",
    "    'disrict': 'district',\n",
    "}, inplace=True)\n",
    "\n",
    "invoice.rename(columns={\n",
    "    'counter_statue': 'counter_status',\n",
    "    'reading_remarque': 'agent_remark',\n",
    "    # Add more columns as needed\n",
    "}, inplace=True)"
   ]
  },
  {
   "cell_type": "code",
   "execution_count": 36,
   "metadata": {
    "tags": []
   },
   "outputs": [],
   "source": [
    "# Convert to categories for eda viszualizations\n",
    "\n",
    "# List of columns to convert to categorical\n",
    "columns_to_convert = ['tarif_type', 'counter_code', 'months_number', 'counter_type']\n",
    "\n",
    "# Convert each column in invoice\n",
    "for column in columns_to_convert:\n",
    "    invoice[column] = invoice[column].astype('category')"
   ]
  },
  {
   "cell_type": "code",
   "execution_count": 37,
   "metadata": {
    "tags": []
   },
   "outputs": [],
   "source": [
    "# List of columns to convert to categorical\n",
    "columns_to_convert = ['client_id', 'region','district']\n",
    "\n",
    "# Convert each column in client\n",
    "for column in columns_to_convert:\n",
    "    client[column] = client[column].astype('category')"
   ]
  },
  {
   "cell_type": "code",
   "execution_count": 38,
   "metadata": {
    "tags": []
   },
   "outputs": [],
   "source": [
    "# convert columns to integer, ensuring support for NaN values\n",
    "columns_to_convert = ['target']\n",
    "\n",
    "# Convert each column in client to a pandas nullable integer type\n",
    "for column in columns_to_convert:\n",
    "    client[column] = client[column].astype('int32')"
   ]
  },
  {
   "cell_type": "code",
   "execution_count": 39,
   "metadata": {
    "tags": []
   },
   "outputs": [],
   "source": [
    "# change strings in counter_status to integers\n",
    "\n",
    "def convert_to_int(value):\n",
    "    # Check if the value is 'A' and return 500\n",
    "    if value == 'A':\n",
    "        return 500\n",
    "    # Try to convert numeric strings directly to int\n",
    "    try:\n",
    "        return int(value)\n",
    "    # If conversion fails (which shouldn't happen with the given conditions), return the value\n",
    "    except ValueError:\n",
    "        return value\n",
    "    \n",
    "invoice['counter_status'] = invoice['counter_status'].apply(convert_to_int)"
   ]
  },
  {
   "cell_type": "code",
   "execution_count": 40,
   "metadata": {
    "tags": []
   },
   "outputs": [],
   "source": [
    "# convert columns to integer, ensuring support for NaN values\n",
    "columns_to_convert = ['counter_status']\n",
    "\n",
    "# Convert each column in client to a pandas nullable integer type\n",
    "for column in columns_to_convert:\n",
    "    invoice[column] = invoice[column].astype('int32')"
   ]
  },
  {
   "cell_type": "code",
   "execution_count": 41,
   "metadata": {
    "tags": []
   },
   "outputs": [],
   "source": [
    "#Change date to datetime\n",
    "client['creation_date'] = pd.to_datetime(client['creation_date'])\n",
    "#Change date to datetime\n",
    "invoice['invoice_date'] = pd.to_datetime(invoice['invoice_date'])"
   ]
  },
  {
   "cell_type": "code",
   "execution_count": 42,
   "metadata": {
    "tags": []
   },
   "outputs": [],
   "source": [
    "# calculate total consumption per billing cycle per counter type\n",
    "\n",
    "invoice['total_consumption'] = invoice[['consommation_level_1', 'consommation_level_2', 'consommation_level_3', 'consommation_level_4']].sum(axis=1)"
   ]
  },
  {
   "cell_type": "code",
   "execution_count": 43,
   "metadata": {
    "tags": []
   },
   "outputs": [],
   "source": [
    "# Filter the DataFrame for rows where 'counter_type' is 'ELEC'\n",
    "invoice_elec = invoice[invoice['counter_type'] == 'ELEC']\n",
    "\n",
    "# Then, aggregate total_consumption by client_id and counter type (which is now only 'ELEC')\n",
    "aggregated_consumption_elec = invoice_elec.groupby('client_id')['total_consumption'].agg(\n",
    "    elec_total_consumption='sum',  # Aggregate the total\n",
    "    elec_min_consumption='min',\n",
    "    elec_max_consumption='max',\n",
    "    elec_mean_consumption='mean',\n",
    "    elec_std_consumption='std',\n",
    "    #elec_range_consumption=lambda x: x.max() - x.min()  # Calculate the range as max - min\n",
    ").reset_index()\n",
    "\n",
    "# Display the aggregated consumption for 'ELEC' counter type\n",
    "#aggregated_consumption_elec.head()"
   ]
  },
  {
   "cell_type": "code",
   "execution_count": 44,
   "metadata": {
    "tags": []
   },
   "outputs": [],
   "source": [
    "# Filter the DataFrame for rows where 'counter_type' is 'GAZ'\n",
    "invoice_gas = invoice[invoice['counter_type'] == 'GAZ']\n",
    "\n",
    "# Then, aggregate total_consumption by client_id and counter type (which is now only 'ELEC')\n",
    "aggregated_consumption_gas = invoice_gas.groupby('client_id')['total_consumption'].agg(\n",
    "    gas_total_consumption='sum',  # Aggregate the total\n",
    "    gas_min_consumption='min',\n",
    "    gas_max_consumption='max',\n",
    "    gas_mean_consumption='mean',\n",
    "    gas_std_consumption='std',\n",
    "    #gas_range_consumption=lambda x: x.max() - x.min()  # Calculate the range as max - min\n",
    ").reset_index()\n",
    "\n",
    "# Display the aggregated consumption for 'ELEC' counter type\n",
    "#aggregated_consumption_gas.head()"
   ]
  },
  {
   "cell_type": "code",
   "execution_count": 45,
   "metadata": {
    "tags": []
   },
   "outputs": [],
   "source": [
    "invoice['counter_status'] = invoice['counter_status'].replace(500, 6)\n",
    "\n",
    "invoice['counter_status'] = invoice['counter_status'].replace(769, 7)\n",
    "\n",
    "invoice['counter_status'] = invoice['counter_status'].replace(618, 8)\n",
    "\n",
    "invoice['counter_status'] = invoice['counter_status'].replace(269375, 9)\n",
    "\n",
    "invoice['counter_status'] = invoice['counter_status'].replace(46, 10)\n",
    "\n",
    "invoice['counter_status'] = invoice['counter_status'].replace(420, 11)"
   ]
  },
  {
   "cell_type": "code",
   "execution_count": 46,
   "metadata": {
    "tags": []
   },
   "outputs": [
    {
     "data": {
      "text/plain": [
       "array([ 0,  1,  5,  4,  3,  2,  7,  6,  8,  9, 10, 11])"
      ]
     },
     "execution_count": 46,
     "metadata": {},
     "output_type": "execute_result"
    }
   ],
   "source": [
    "invoice['counter_status'].unique()"
   ]
  },
  {
   "cell_type": "code",
   "execution_count": 47,
   "metadata": {
    "tags": []
   },
   "outputs": [],
   "source": [
    "aggregated_counter_status = invoice.groupby('client_id')['counter_status'].agg(\n",
    "    counter_status_min='min',\n",
    "    counter_status_max='max',\n",
    "    counter_status_mean='mean',\n",
    "    counter_status_std='std',\n",
    "    #counter_status_mode='most_frequent'\n",
    ").reset_index()\n",
    "\n",
    "#aggregated_counter_status"
   ]
  },
  {
   "cell_type": "code",
   "execution_count": 48,
   "metadata": {
    "tags": []
   },
   "outputs": [],
   "source": [
    "invoice['agent_remark'] = invoice['agent_remark'].replace(5, 1)\n",
    "invoice['agent_remark'] = invoice['agent_remark'].replace(6, 2)\n",
    "invoice['agent_remark'] = invoice['agent_remark'].replace(7, 3)\n",
    "invoice['agent_remark'] = invoice['agent_remark'].replace(8, 4)\n",
    "invoice['agent_remark'] = invoice['agent_remark'].replace(9, 5)\n",
    "invoice['agent_remark'] = invoice['agent_remark'].replace(203, 6)\n",
    "invoice['agent_remark'] = invoice['agent_remark'].replace(207, 7)\n",
    "invoice['agent_remark'] = invoice['agent_remark'].replace(413, 8)"
   ]
  },
  {
   "cell_type": "code",
   "execution_count": 49,
   "metadata": {
    "tags": []
   },
   "outputs": [],
   "source": [
    "aggregated_agent_remark = invoice.groupby('client_id')['agent_remark'].agg(\n",
    "    agent_remark_min='min',\n",
    "    agent_remark_max='max',\n",
    "    agent_remark_mean='mean',\n",
    "    agent_remark_std='std',\n",
    "    #agent_remark_mode='mode'\n",
    ").reset_index()\n",
    "#aggregated_agent_remark"
   ]
  },
  {
   "cell_type": "code",
   "execution_count": 50,
   "metadata": {
    "tags": []
   },
   "outputs": [],
   "source": [
    "aggregated_counter_coefficient = invoice.groupby('client_id')['counter_coefficient'].agg(\n",
    "    counter_coefficient_min='min',\n",
    "    counter_coefficient_max='max',\n",
    "    counter_coefficient_mean='mean',\n",
    "    counter_coefficient_std='std',\n",
    "   # counter_coefficient_remark_mode='mode'\n",
    ").reset_index()\n",
    "\n",
    "#aggregated_counter_coefficient"
   ]
  },
  {
   "cell_type": "code",
   "execution_count": 51,
   "metadata": {
    "tags": []
   },
   "outputs": [],
   "source": [
    "# add transaction counts per counter_type\n",
    "grouped_counts = invoice.groupby(['client_id', 'counter_type']).size().reset_index(name='count')\n",
    "\n",
    "transaction_counts = grouped_counts.pivot(index='client_id', columns='counter_type', values='count').reset_index()\n",
    "\n",
    "# Assuming 'ELEC' and 'GAS' are the two counter_type values you have\n",
    "transaction_counts.columns = ['client_id'] + transaction_counts.columns[1:].tolist()\n",
    "\n",
    "# Now rename the columns to specify elec and gas transactions explicitly\n",
    "transaction_counts = transaction_counts.rename(columns={\n",
    "    'ELEC': 'count_elec_transactions',\n",
    "    'GAZ': 'count_gas_transactions'\n",
    "})"
   ]
  },
  {
   "cell_type": "code",
   "execution_count": 52,
   "metadata": {
    "tags": []
   },
   "outputs": [
    {
     "data": {
      "text/html": [
       "<div>\n",
       "<style scoped>\n",
       "    .dataframe tbody tr th:only-of-type {\n",
       "        vertical-align: middle;\n",
       "    }\n",
       "\n",
       "    .dataframe tbody tr th {\n",
       "        vertical-align: top;\n",
       "    }\n",
       "\n",
       "    .dataframe thead th {\n",
       "        text-align: right;\n",
       "    }\n",
       "</style>\n",
       "<table border=\"1\" class=\"dataframe\">\n",
       "  <thead>\n",
       "    <tr style=\"text-align: right;\">\n",
       "      <th></th>\n",
       "      <th>client_id</th>\n",
       "      <th>elec_tarif</th>\n",
       "      <th>gaz_tarif</th>\n",
       "    </tr>\n",
       "  </thead>\n",
       "  <tbody>\n",
       "    <tr>\n",
       "      <th>0</th>\n",
       "      <td>train_Client_0</td>\n",
       "      <td>11</td>\n",
       "      <td>8</td>\n",
       "    </tr>\n",
       "    <tr>\n",
       "      <th>1</th>\n",
       "      <td>train_Client_1</td>\n",
       "      <td>11</td>\n",
       "      <td>8</td>\n",
       "    </tr>\n",
       "    <tr>\n",
       "      <th>2</th>\n",
       "      <td>train_Client_10</td>\n",
       "      <td>11</td>\n",
       "      <td>8</td>\n",
       "    </tr>\n",
       "    <tr>\n",
       "      <th>3</th>\n",
       "      <td>train_Client_100</td>\n",
       "      <td>11</td>\n",
       "      <td>8</td>\n",
       "    </tr>\n",
       "    <tr>\n",
       "      <th>4</th>\n",
       "      <td>train_Client_1000</td>\n",
       "      <td>11</td>\n",
       "      <td>8</td>\n",
       "    </tr>\n",
       "  </tbody>\n",
       "</table>\n",
       "</div>"
      ],
      "text/plain": [
       "           client_id elec_tarif gaz_tarif\n",
       "0     train_Client_0         11         8\n",
       "1     train_Client_1         11         8\n",
       "2    train_Client_10         11         8\n",
       "3   train_Client_100         11         8\n",
       "4  train_Client_1000         11         8"
      ]
     },
     "execution_count": 52,
     "metadata": {},
     "output_type": "execute_result"
    }
   ],
   "source": [
    "# group by the relevant columns and count the occurrences.\n",
    "tarif_freq = invoice.groupby(['client_id', 'counter_type', 'tarif_type']).size().reset_index(name='freq')\n",
    "\n",
    "# Identify the max frequency per client_id and counter_type\n",
    "max_freq = tarif_freq.groupby(['client_id', 'counter_type'])['freq'].transform(max) == tarif_freq['freq']\n",
    "\n",
    "# Apply the filter\n",
    "tarif_freq_max = tarif_freq[max_freq]\n",
    "\n",
    "# In case of ties, we'll keep the first occurrence\n",
    "tarif_freq_max = tarif_freq_max.drop_duplicates(subset=['client_id', 'counter_type'])\n",
    "\n",
    "# Pivot to get separate columns for ELEC and GAZ tarif_type\n",
    "tarif_pivot = tarif_freq_max.pivot(index='client_id', columns='counter_type', values='tarif_type').reset_index()\n",
    "\n",
    "# Rename columns to 'elec_tarif' and 'gaz_tarif'\n",
    "tarif_pivot.columns = ['client_id', 'elec_tarif', 'gaz_tarif']\n",
    "tarif_pivot.head()"
   ]
  },
  {
   "cell_type": "code",
   "execution_count": 53,
   "metadata": {
    "tags": []
   },
   "outputs": [],
   "source": [
    "# Sort invoice DataFrame by 'client_id', 'counter_type', and 'invoice_date'\n",
    "invoice_sorted = invoice.sort_values(['client_id', 'counter_type', 'invoice_date'])\n",
    "\n",
    "# Calculate the difference in days between invoice dates within each group of 'client_id' and 'counter_type'\n",
    "invoice_sorted['invoice_delta_time'] = invoice_sorted.groupby(['client_id', 'counter_type'])['invoice_date'].diff().dt.days\n",
    "\n",
    "# Create a new DataFrame focusing on the columns of interest\n",
    "date_eda = invoice_sorted[['client_id', 'counter_type', 'invoice_date', 'invoice_delta_time']].copy()\n",
    "\n",
    "# Sort this new DataFrame by 'client_id', 'counter_type', and 'invoice_date'\n",
    "date_eda_sorted = date_eda.sort_values(['client_id', 'counter_type', 'invoice_date'])"
   ]
  },
  {
   "cell_type": "code",
   "execution_count": 54,
   "metadata": {
    "tags": []
   },
   "outputs": [],
   "source": [
    "# Sort invoice DataFrame by 'client_id', 'counter_type', and 'invoice_date'\n",
    "invoice_sorted = invoice.sort_values(['client_id', 'counter_type', 'invoice_date'])\n",
    "\n",
    "# Calculate the difference in days between invoice dates within each group of 'client_id' and 'counter_type'\n",
    "invoice_sorted['invoice_delta_time'] = invoice_sorted.groupby(['client_id', 'counter_type'])['invoice_date'].diff().dt.days\n",
    "\n",
    "# Create a new DataFrame focusing on the columns of interest\n",
    "date_eda = invoice_sorted[['client_id', 'counter_type', 'invoice_date', 'invoice_delta_time']].copy()\n",
    "\n",
    "# Sort this new DataFrame by 'client_id', 'counter_type', and 'invoice_date'\n",
    "date_eda_sorted = date_eda.sort_values(['client_id', 'counter_type', 'invoice_date'])"
   ]
  },
  {
   "cell_type": "code",
   "execution_count": 55,
   "metadata": {
    "tags": []
   },
   "outputs": [],
   "source": [
    "# Filter the DataFrame for rows where 'counter_type' is 'ELEC'\n",
    "date_elec = date_eda_sorted[date_eda_sorted['counter_type'] == 'ELEC']\n",
    "\n",
    "# Group by both 'client_id' and 'counter_type', then calculate the aggregate statistics for 'invoice_delta_time'\n",
    "aggregated_elec_date_stats = date_elec.groupby(['client_id'])['invoice_delta_time'].agg(\n",
    "    elec_min_invoice_delta='min',\n",
    "    elec_max_invoice_delta='max',\n",
    "    elec_mean_invoice_delta='mean',\n",
    "    #elec_median_invoice_delta='median',\n",
    "    elec_std_invoice_delta='std'\n",
    ").reset_index()\n",
    "#aggregated_elec_date_stats"
   ]
  },
  {
   "cell_type": "code",
   "execution_count": 56,
   "metadata": {
    "tags": []
   },
   "outputs": [],
   "source": [
    "# Filter the DataFrame for rows where 'counter_type' is 'GAZ'\n",
    "date_gas = date_eda_sorted[date_eda_sorted['counter_type'] == 'GAZ']\n",
    "\n",
    "# Group by both 'client_id' and 'counter_type', then calculate the aggregate statistics for 'invoice_delta_time'\n",
    "aggregated_gas_date_stats = date_gas.groupby(['client_id'])['invoice_delta_time'].agg(\n",
    "    gas_min_invoice_delta='min',\n",
    "    gas_max_invoice_delta='max',\n",
    "    gas_mean_invoice_delta='mean',\n",
    "    #gas_median_invoice_delta='median',\n",
    "    gas_std_invoice_delta='std'\n",
    ").reset_index()"
   ]
  },
  {
   "cell_type": "code",
   "execution_count": 57,
   "metadata": {
    "tags": []
   },
   "outputs": [],
   "source": [
    "# List of columns you want to include in the new DataFrame\n",
    "columns_to_include = ['client_id', 'client_catg', 'region', 'creation_date', 'target']\n",
    "\n",
    "# Create a new DataFrame with the specified columns\n",
    "model_df = client[columns_to_include].copy()"
   ]
  },
  {
   "cell_type": "code",
   "execution_count": 58,
   "metadata": {
    "tags": []
   },
   "outputs": [],
   "source": [
    "model_df = model_df.merge(aggregated_counter_status[['client_id',\n",
    "                                                     'counter_status_min',\n",
    "                                                     'counter_status_max',\n",
    "                                                     'counter_status_mean',\n",
    "                                                     'counter_status_std']], on='client_id', how='left')\n",
    "\n",
    "model_df = model_df.merge(aggregated_agent_remark[['client_id',\n",
    "                                                   'agent_remark_min',\n",
    "                                                   'agent_remark_max',\n",
    "                                                   'agent_remark_mean',\n",
    "                                                   'agent_remark_std']], on='client_id', how='left')\n",
    "\n",
    "model_df = model_df.merge(aggregated_counter_coefficient[['client_id',\n",
    "                                                          'counter_coefficient_min',\n",
    "                                                          'counter_coefficient_max',\n",
    "                                                          'counter_coefficient_mean',\n",
    "                                                          'counter_coefficient_std']], on='client_id', how='left')\n",
    "\n",
    "model_df = model_df.merge(transaction_counts[['client_id', \n",
    "                                              'count_elec_transactions', \n",
    "                                              'count_gas_transactions']], on='client_id', how='left')\n",
    "\n",
    "model_df = model_df.merge(tarif_pivot[['client_id', 'elec_tarif', 'gaz_tarif']], on='client_id', how='left')"
   ]
  },
  {
   "cell_type": "code",
   "execution_count": 59,
   "metadata": {
    "tags": []
   },
   "outputs": [],
   "source": [
    "model_df = model_df.merge(aggregated_consumption_elec[['client_id',\n",
    "                                                       'elec_total_consumption',\n",
    "                                                       'elec_min_consumption',\n",
    "                                                       'elec_max_consumption',\n",
    "                                                       'elec_mean_consumption',\n",
    "                                                       'elec_std_consumption']], on='client_id', how='left')\n",
    "\n",
    "\n",
    "model_df = model_df.merge(aggregated_consumption_gas[['client_id',\n",
    "                                                      'gas_total_consumption',\n",
    "                                                      'gas_min_consumption',\n",
    "                                                      'gas_max_consumption',\n",
    "                                                      'gas_mean_consumption',\n",
    "                                                      'gas_std_consumption']], on='client_id', how='left')\n",
    "\n",
    "model_df = model_df.merge(aggregated_elec_date_stats[['client_id',\n",
    "                                                      'elec_min_invoice_delta',\n",
    "                                                      'elec_max_invoice_delta',\n",
    "                                                      'elec_mean_invoice_delta',\n",
    "                                                      'elec_std_invoice_delta']], on='client_id', how='left')\n",
    "\n",
    "model_df = model_df.merge(aggregated_gas_date_stats[['client_id',\n",
    "                                                     'gas_min_invoice_delta',\n",
    "                                                     'gas_max_invoice_delta',\n",
    "                                                     'gas_mean_invoice_delta',\n",
    "                                                     'gas_std_invoice_delta']], on='client_id', how='left')\n",
    "\n"
   ]
  },
  {
   "cell_type": "code",
   "execution_count": 60,
   "metadata": {
    "tags": []
   },
   "outputs": [],
   "source": [
    "#model_df.head()"
   ]
  },
  {
   "cell_type": "code",
   "execution_count": 61,
   "metadata": {
    "tags": []
   },
   "outputs": [],
   "source": [
    "model_df['coop_time'] = (2019 - model_df['creation_date'].dt.year)*12 - model_df['creation_date'].dt.month"
   ]
  },
  {
   "cell_type": "code",
   "execution_count": 62,
   "metadata": {
    "tags": []
   },
   "outputs": [],
   "source": [
    "#model_df.head(30)"
   ]
  },
  {
   "cell_type": "code",
   "execution_count": 63,
   "metadata": {
    "tags": []
   },
   "outputs": [],
   "source": [
    "columns_to_convert = ['client_catg', 'agent_remark_min', 'agent_remark_max', 'counter_coefficient_min', 'counter_coefficient_max', 'count_elec_transactions', 'count_gas_transactions', ]\n",
    "\n",
    "for column in columns_to_convert:\n",
    "    model_df[column] = model_df[column].astype('int32')"
   ]
  },
  {
   "cell_type": "code",
   "execution_count": 64,
   "metadata": {
    "tags": []
   },
   "outputs": [
    {
     "name": "stdout",
     "output_type": "stream",
     "text": [
      "<class 'pandas.core.frame.DataFrame'>\n",
      "RangeIndex: 135493 entries, 0 to 135492\n",
      "Data columns (total 40 columns):\n",
      " #   Column                    Non-Null Count   Dtype         \n",
      "---  ------                    --------------   -----         \n",
      " 0   client_id                 135493 non-null  object        \n",
      " 1   client_catg               135493 non-null  int32         \n",
      " 2   region                    135493 non-null  category      \n",
      " 3   creation_date             135493 non-null  datetime64[ns]\n",
      " 4   target                    135493 non-null  int32         \n",
      " 5   counter_status_min        135493 non-null  int32         \n",
      " 6   counter_status_max        135493 non-null  int32         \n",
      " 7   counter_status_mean       135493 non-null  float64       \n",
      " 8   counter_status_std        131281 non-null  float64       \n",
      " 9   agent_remark_min          135493 non-null  int32         \n",
      " 10  agent_remark_max          135493 non-null  int32         \n",
      " 11  agent_remark_mean         135493 non-null  float64       \n",
      " 12  agent_remark_std          131281 non-null  float64       \n",
      " 13  counter_coefficient_min   135493 non-null  int32         \n",
      " 14  counter_coefficient_max   135493 non-null  int32         \n",
      " 15  counter_coefficient_mean  135493 non-null  float64       \n",
      " 16  counter_coefficient_std   131281 non-null  float64       \n",
      " 17  count_elec_transactions   135493 non-null  int32         \n",
      " 18  count_gas_transactions    135493 non-null  int32         \n",
      " 19  elec_tarif                135493 non-null  category      \n",
      " 20  gaz_tarif                 135493 non-null  category      \n",
      " 21  elec_total_consumption    134815 non-null  float64       \n",
      " 22  elec_min_consumption      134815 non-null  float64       \n",
      " 23  elec_max_consumption      134815 non-null  float64       \n",
      " 24  elec_mean_consumption     134815 non-null  float64       \n",
      " 25  elec_std_consumption      129801 non-null  float64       \n",
      " 26  gas_total_consumption     62054 non-null   float64       \n",
      " 27  gas_min_consumption       62054 non-null   float64       \n",
      " 28  gas_max_consumption       62054 non-null   float64       \n",
      " 29  gas_mean_consumption      62054 non-null   float64       \n",
      " 30  gas_std_consumption       60407 non-null   float64       \n",
      " 31  elec_min_invoice_delta    129801 non-null  float64       \n",
      " 32  elec_max_invoice_delta    129801 non-null  float64       \n",
      " 33  elec_mean_invoice_delta   129801 non-null  float64       \n",
      " 34  elec_std_invoice_delta    124312 non-null  float64       \n",
      " 35  gas_min_invoice_delta     60407 non-null   float64       \n",
      " 36  gas_max_invoice_delta     60407 non-null   float64       \n",
      " 37  gas_mean_invoice_delta    60407 non-null   float64       \n",
      " 38  gas_std_invoice_delta     58971 non-null   float64       \n",
      " 39  coop_time                 135493 non-null  int32         \n",
      "dtypes: category(3), datetime64[ns](1), float64(24), int32(11), object(1)\n",
      "memory usage: 33.0+ MB\n"
     ]
    }
   ],
   "source": [
    "model_df.info()"
   ]
  },
  {
   "cell_type": "code",
   "execution_count": 65,
   "metadata": {
    "tags": []
   },
   "outputs": [],
   "source": [
    "#model_df.head()"
   ]
  },
  {
   "cell_type": "markdown",
   "metadata": {},
   "source": [
    "### Modeling "
   ]
  },
  {
   "cell_type": "code",
   "execution_count": 66,
   "metadata": {
    "tags": []
   },
   "outputs": [
    {
     "name": "stdout",
     "output_type": "stream",
     "text": [
      "<class 'pandas.core.frame.DataFrame'>\n",
      "RangeIndex: 135493 entries, 0 to 135492\n",
      "Data columns (total 38 columns):\n",
      " #   Column                    Non-Null Count   Dtype   \n",
      "---  ------                    --------------   -----   \n",
      " 0   client_catg               135493 non-null  int32   \n",
      " 1   region                    135493 non-null  category\n",
      " 2   target                    135493 non-null  int32   \n",
      " 3   counter_status_min        135493 non-null  int32   \n",
      " 4   counter_status_max        135493 non-null  int32   \n",
      " 5   counter_status_mean       135493 non-null  float64 \n",
      " 6   counter_status_std        131281 non-null  float64 \n",
      " 7   agent_remark_min          135493 non-null  int32   \n",
      " 8   agent_remark_max          135493 non-null  int32   \n",
      " 9   agent_remark_mean         135493 non-null  float64 \n",
      " 10  agent_remark_std          131281 non-null  float64 \n",
      " 11  counter_coefficient_min   135493 non-null  int32   \n",
      " 12  counter_coefficient_max   135493 non-null  int32   \n",
      " 13  counter_coefficient_mean  135493 non-null  float64 \n",
      " 14  counter_coefficient_std   131281 non-null  float64 \n",
      " 15  count_elec_transactions   135493 non-null  int32   \n",
      " 16  count_gas_transactions    135493 non-null  int32   \n",
      " 17  elec_tarif                135493 non-null  category\n",
      " 18  gaz_tarif                 135493 non-null  category\n",
      " 19  elec_total_consumption    134815 non-null  float64 \n",
      " 20  elec_min_consumption      134815 non-null  float64 \n",
      " 21  elec_max_consumption      134815 non-null  float64 \n",
      " 22  elec_mean_consumption     134815 non-null  float64 \n",
      " 23  elec_std_consumption      129801 non-null  float64 \n",
      " 24  gas_total_consumption     62054 non-null   float64 \n",
      " 25  gas_min_consumption       62054 non-null   float64 \n",
      " 26  gas_max_consumption       62054 non-null   float64 \n",
      " 27  gas_mean_consumption      62054 non-null   float64 \n",
      " 28  gas_std_consumption       60407 non-null   float64 \n",
      " 29  elec_min_invoice_delta    129801 non-null  float64 \n",
      " 30  elec_max_invoice_delta    129801 non-null  float64 \n",
      " 31  elec_mean_invoice_delta   129801 non-null  float64 \n",
      " 32  elec_std_invoice_delta    124312 non-null  float64 \n",
      " 33  gas_min_invoice_delta     60407 non-null   float64 \n",
      " 34  gas_max_invoice_delta     60407 non-null   float64 \n",
      " 35  gas_mean_invoice_delta    60407 non-null   float64 \n",
      " 36  gas_std_invoice_delta     58971 non-null   float64 \n",
      " 37  coop_time                 135493 non-null  int32   \n",
      "dtypes: category(3), float64(24), int32(11)\n",
      "memory usage: 30.9 MB\n"
     ]
    }
   ],
   "source": [
    "#drop redundant columns\n",
    "model_df_copy = model_df.copy()\n",
    "drop_columns = ['client_id', 'creation_date']\n",
    "\n",
    "for col in drop_columns:\n",
    "    if col in model_df_copy.columns:\n",
    "        model_df_copy.drop([col], axis=1, inplace=True)\n",
    "        \n",
    "model_df_copy.info()"
   ]
  },
  {
   "cell_type": "markdown",
   "metadata": {
    "tags": []
   },
   "source": [
    "### Train - Test Split "
   ]
  },
  {
   "cell_type": "code",
   "execution_count": 67,
   "metadata": {
    "tags": []
   },
   "outputs": [
    {
     "data": {
      "text/plain": [
       "((108394, 37), (27099, 37), (108394,), (27099,))"
      ]
     },
     "execution_count": 67,
     "metadata": {},
     "output_type": "execute_result"
    }
   ],
   "source": [
    "y = model_df_copy['target']\n",
    "X = model_df_copy.drop('target', axis=1)\n",
    "\n",
    "X_train, X_test, y_train, y_test = train_test_split(X, y, test_size=0.2, random_state=42, stratify=y)\n",
    "X_train.shape, X_test.shape, y_train.shape, y_test.shape"
   ]
  },
  {
   "cell_type": "markdown",
   "metadata": {},
   "source": [
    "## LGBM Classifier 1 (with Enhanced Features, OneHot)"
   ]
  },
  {
   "cell_type": "code",
   "execution_count": 68,
   "metadata": {
    "tags": []
   },
   "outputs": [
    {
     "name": "stdout",
     "output_type": "stream",
     "text": [
      "Accuracy on training set: 0.94\n",
      "Accuracy on test set: 0.93\n",
      "----------------------------------------\n",
      "Recall on training set: 0.24\n",
      "Recall on test set: 0.14\n",
      "----------------------------------------\n",
      "Precision on training set: 0.43\n",
      "Precision on test set: 0.28\n",
      "----------------------------------------\n",
      "fbeta_score on training set: 0.31\n",
      "fbeta_score on test set: 0.19\n",
      "----------------------------------------\n",
      "roc_auc_score on trainig set:  0.87\n",
      "roc_auc_score on test set:  0.78\n",
      "----------------------------------------\n"
     ]
    }
   ],
   "source": [
    "num_features = X_train.select_dtypes(include=['int64', 'float64']).columns\n",
    "cat_features = X_train.select_dtypes(include=['object', 'category']).columns\n",
    "class_ratio = math.sqrt((y_train == 0).sum() / (y_train == 1).sum())\n",
    "\n",
    "# preprocessing for numerical columns\n",
    "num_transformer = Pipeline(steps=[\n",
    "    ('imputer', SimpleImputer(strategy='constant', fill_value=0))\n",
    "    #('imputer', SimpleImputer(strategy='most_frequent'))\n",
    "    #('scaler', RobustScaler())\n",
    "])\n",
    "\n",
    "# preprocessing for categorical data\n",
    "cat_transformer = Pipeline(steps=[\n",
    "    ('imputer', SimpleImputer(strategy='constant', fill_value=0)),\n",
    "    ('onehot', OneHotEncoder(handle_unknown='ignore'))\n",
    "])\n",
    "\n",
    "# apply different preprocessing to num and cat features\n",
    "preprocessor = ColumnTransformer(\n",
    "    transformers=[\n",
    "        ('num', num_transformer, num_features),\n",
    "        ('cat', cat_transformer, cat_features)\n",
    "    ])\n",
    "\n",
    "model_lgbmc_1 = Pipeline([\n",
    "    ('prep', preprocessor),\n",
    "    #('undersample', RandomUnderSampler(sampling_strategy=0.5)),\n",
    "    ('lgbmc', LGBMClassifier(boosting_type='gbdt', random_state=RSEED, scale_pos_weight=class_ratio, n_jobs=-1, verbosity=-1))\n",
    "]) \n",
    "\n",
    "model_lgbmc_1.fit(X_train, y_train)\n",
    "\n",
    "predict_and_print_scores(model_lgbmc_1, X_train, y_train, X_test, y_test, matrix=False)"
   ]
  },
  {
   "cell_type": "markdown",
   "metadata": {
    "tags": []
   },
   "source": [
    "## LGBM Classifier 2 (with Enhanced Features)"
   ]
  },
  {
   "cell_type": "code",
   "execution_count": 69,
   "metadata": {
    "tags": []
   },
   "outputs": [
    {
     "name": "stdout",
     "output_type": "stream",
     "text": [
      "Accuracy on training set: 0.94\n",
      "Accuracy on test set: 0.93\n",
      "----------------------------------------\n",
      "Recall on training set: 0.25\n",
      "Recall on test set: 0.15\n",
      "----------------------------------------\n",
      "Precision on training set: 0.42\n",
      "Precision on test set: 0.28\n",
      "----------------------------------------\n",
      "fbeta_score on training set: 0.31\n",
      "fbeta_score on test set: 0.2\n",
      "----------------------------------------\n",
      "roc_auc_score on trainig set:  0.87\n",
      "roc_auc_score on test set:  0.78\n",
      "----------------------------------------\n"
     ]
    }
   ],
   "source": [
    "num_features = X_train.select_dtypes(include=['int64', 'float64']).columns\n",
    "cat_features = X_train.select_dtypes(include=['object', 'category']).columns\n",
    "class_ratio = math.sqrt((y_train == 0).sum() / (y_train == 1).sum())\n",
    "\n",
    "# preprocessing for numerical columns\n",
    "num_transformer = Pipeline(steps=[\n",
    "    ('imputer', SimpleImputer(strategy='constant', fill_value=0))\n",
    "    #('scaler', RobustScaler())\n",
    "])\n",
    "\n",
    "# preprocessing for categorical data\n",
    "cat_transformer = Pipeline(steps=[\n",
    "    ('imputer', SimpleImputer(strategy='constant', fill_value=0)),\n",
    "    #('onehot', OneHotEncoder(handle_unknown='ignore'))\n",
    "])\n",
    "\n",
    "# apply different preprocessing to num and cat features\n",
    "preprocessor = ColumnTransformer(\n",
    "    transformers=[\n",
    "        ('num', num_transformer, num_features),\n",
    "        ('cat', cat_transformer, cat_features)\n",
    "    ])\n",
    "\n",
    "model_lgbmc_2 = Pipeline([\n",
    "    ('prep', preprocessor),\n",
    "    ('lgbmc', LGBMClassifier(boosting_type='gbdt', random_state=RSEED, scale_pos_weight=class_ratio, n_jobs=-1, verbosity=-1))\n",
    "]) \n",
    "\n",
    "model_lgbmc_2.fit(X_train, y_train)\n",
    "\n",
    "predict_and_print_scores(model_lgbmc_2, X_train, y_train, X_test, y_test, matrix=False)\n",
    "\n",
    "# Get the LGBMClassifier step from the pipeline"
   ]
  },
  {
   "cell_type": "markdown",
   "metadata": {},
   "source": [
    "## LGBM Classifier 3 (with Enhanced Features and CV)"
   ]
  },
  {
   "cell_type": "code",
   "execution_count": 70,
   "metadata": {
    "tags": []
   },
   "outputs": [
    {
     "name": "stdout",
     "output_type": "stream",
     "text": [
      "Best params: {'lgbmc__num_leaves': 50, 'lgbmc__n_estimators': 20, 'lgbmc__max_depth': 10, 'lgbmc__learning_rate': 1}\n",
      "----------------------------------------\n",
      "Accuracy on training set: 0.62\n",
      "Accuracy on test set: 0.6\n",
      "----------------------------------------\n",
      "Recall on training set: 0.96\n",
      "Recall on test set: 0.71\n",
      "----------------------------------------\n",
      "Precision on training set: 0.12\n",
      "Precision on test set: 0.09\n",
      "----------------------------------------\n",
      "fbeta_score on training set: 0.22\n",
      "fbeta_score on test set: 0.16\n",
      "----------------------------------------\n",
      "roc_auc_score on trainig set:  0.86\n",
      "roc_auc_score on test set:  0.71\n",
      "----------------------------------------\n"
     ]
    },
    {
     "data": {
      "image/png": "[encoded data removed]",
      "text/plain": [
       "<Figure size 300x200 with 2 Axes>"
      ]
     },
     "metadata": {},
     "output_type": "display_data"
    }
   ],
   "source": [
    "num_features = X_train.select_dtypes(include=['int64', 'float64']).columns\n",
    "cat_features = X_train.select_dtypes(include=['object', 'category']).columns\n",
    "class_ratio = math.sqrt((y_train == 0).sum() / (y_train == 1).sum())\n",
    "\n",
    "# preprocessing for numerical columns\n",
    "num_transformer = Pipeline(steps=[\n",
    "    ('imputer', SimpleImputer(strategy='constant', fill_value=0))\n",
    "])\n",
    "\n",
    "# preprocessing for categorical data\n",
    "cat_transformer = Pipeline(steps=[\n",
    "    ('imputer', SimpleImputer(strategy='constant', fill_value=0)),\n",
    "    #('onehot', OneHotEncoder(handle_unknown='ignore'))\n",
    "])\n",
    "\n",
    "# apply different preprocessing to num and cat features\n",
    "preprocessor = ColumnTransformer(\n",
    "    transformers=[\n",
    "        ('num', num_transformer, num_features),\n",
    "        ('cat', cat_transformer, cat_features)\n",
    "    ])\n",
    "\n",
    "model_lgbmc_pipe = ImbPipeline([\n",
    "    ('prep', preprocessor),\n",
    "    ('undersample', RandomUnderSampler(sampling_strategy=0.5)),\n",
    "    ('lgbmc', LGBMClassifier(boosting_type='gbdt', random_state=RSEED, scale_pos_weight=class_ratio, n_jobs=-1, verbosity=-1))\n",
    "]) \n",
    "\n",
    "hyperparameters = {\n",
    "    'lgbmc__max_depth': [5, 7, 10, 50, 100],\n",
    "    'lgbmc__num_leaves': [1, 5, 10, 30, 50, 100, 200, 500],\n",
    "    'lgbmc__n_estimators': [5, 10, 20, 50, 100, 500, 1000, 1], \n",
    "    'lgbmc__learning_rate': [0.001, 0.01, 0.1, 1, 10, 100],\n",
    "    #'min_split_gain': [0.001, 0.005, 0.01],\n",
    "    #'feature_fraction': [0.1, 0.5, 1.0],\n",
    "    #'bagging_freq': [0.1, 1, 10]\n",
    "}\n",
    "\n",
    "import warnings\n",
    "warnings.filterwarnings('ignore', category=UserWarning, module='lightgbm')\n",
    "\n",
    "# Train, cross-validate, predict, score\n",
    "model_lgbmc_3, params_lgbmc_3, _, _ = train_crossval_predict_score(\n",
    "    model_lgbmc_pipe,\n",
    "    hyperparameters,    \n",
    "    X_train,\n",
    "    y_train,\n",
    "    X_test,\n",
    "    y_test,\n",
    "    cv=5,\n",
    "    scoring='f1',\n",
    "    verbose=0,\n",
    "    n_jobs=-1,\n",
    "    cross_val='random',\n",
    "    random_state=None,\n",
    "    training=True,\n",
    "    test=True,\n",
    "    accuracy=True,\n",
    "    recall=True,\n",
    "    precision=True,\n",
    "    fbeta=[True, 1.0],\n",
    "    roc_auc=True,\n",
    "    matrix=True,\n",
    "    figsize=(3,2),\n",
    "    cmap='YlGn')"
   ]
  },
  {
   "cell_type": "markdown",
   "metadata": {},
   "source": [
    "## XGB Boost"
   ]
  },
  {
   "cell_type": "code",
   "execution_count": 71,
   "metadata": {
    "tags": []
   },
   "outputs": [
    {
     "name": "stdout",
     "output_type": "stream",
     "text": [
      "Best params: {'xgbc__subsample': 0.5, 'xgbc__n_estimators': 10, 'xgbc__max_depth': 20, 'xgbc__learning_rate': 0.01, 'xgbc__colsample_bytree': 1.0}\n",
      "----------------------------------------\n",
      "Accuracy on training set: 0.92\n",
      "Accuracy on test set: 0.86\n",
      "----------------------------------------\n",
      "Recall on training set: 1.0\n",
      "Recall on test set: 0.34\n",
      "----------------------------------------\n",
      "Precision on training set: 0.43\n",
      "Precision on test set: 0.16\n",
      "----------------------------------------\n",
      "fbeta_score on training set: 0.6\n",
      "fbeta_score on test set: 0.22\n",
      "----------------------------------------\n",
      "roc_auc_score on trainig set:  0.99\n",
      "roc_auc_score on test set:  0.75\n",
      "----------------------------------------\n"
     ]
    },
    {
     "data": {
      "image/png": "[encoded data removed]",
      "text/plain": [
       "<Figure size 300x200 with 2 Axes>"
      ]
     },
     "metadata": {},
     "output_type": "display_data"
    }
   ],
   "source": [
    "#model_xgb = XGBClassifier(objective='binary:logistic', seed=RSEED, use_label_encoder=False, eval_metric='logloss')\n",
    "num_features = X_train.select_dtypes(include=['int64', 'float64']).columns\n",
    "cat_features = X_train.select_dtypes(include=['object', 'category']).columns\n",
    "\n",
    "# preprocessing for numerical columns\n",
    "num_transformer = Pipeline(steps=[\n",
    "    ('imputer', SimpleImputer(strategy='constant', fill_value=0))\n",
    "])\n",
    "\n",
    "# preprocessing for categorical data\n",
    "cat_transformer = Pipeline(steps=[\n",
    "    ('imputer', SimpleImputer(strategy='constant', fill_value=0)),\n",
    "    #('onehot', OneHotEncoder(handle_unknown='ignore'))\n",
    "])\n",
    "\n",
    "# apply different preprocessing to num and cat features\n",
    "preprocessor = ColumnTransformer(\n",
    "    transformers=[\n",
    "        ('num', num_transformer, num_features),\n",
    "        ('cat', cat_transformer, cat_features)\n",
    "    ])\n",
    "\n",
    "model_xgbc_pipe = ImbPipeline([\n",
    "    ('prep', preprocessor),\n",
    "    #('undersample', RandomUnderSampler(sampling_strategy=0.5)),\n",
    "    ('oversample', RandomOverSampler(sampling_strategy='minority')),\n",
    "    ('xgbc', XGBClassifier(n_jobs=-1))\n",
    "]) \n",
    "\n",
    "hyperparameters = {\n",
    "    'xgbc__n_estimators': [1, 5, 10, 20, 50, 100], \n",
    "    'xgbc__learning_rate': [0.001, 0.01, 0.1, 1, 10, 100],\n",
    "    'xgbc__max_depth': [3, 5, 7, 10, 20], \n",
    "    'xgbc__colsample_bytree': [0.5, 0.75, 1.0],  \n",
    "    'xgbc__subsample': [0.5, 0.75, 1.0] \n",
    "}\n",
    "\n",
    "#model_xgb = XGBClassifier()\n",
    "#model_xgb.fit(X_train, y_train)\n",
    "#predict_and_print_scores(model_xgb, X_train, y_train, X_test, y_test, training=False, matrix=False)\n",
    "\n",
    "import warnings\n",
    "warnings.filterwarnings('ignore', category=UserWarning, module='lightgbm')\n",
    "\n",
    "# Train, cross-validate, predict, score\n",
    "model_xgbc_1, params_xgbc_1, _, _ = train_crossval_predict_score(\n",
    "    model_xgbc_pipe,\n",
    "    hyperparameters,    \n",
    "    X_train,\n",
    "    y_train,\n",
    "    X_test,\n",
    "    y_test,\n",
    "    cv=5,\n",
    "    scoring='f1',\n",
    "    verbose=0,\n",
    "    n_jobs=-1,\n",
    "    cross_val='random',\n",
    "    random_state=None,\n",
    "    training=True,\n",
    "    test=True,\n",
    "    accuracy=True,\n",
    "    recall=True,\n",
    "    precision=True,\n",
    "    fbeta=[True, 1.0],\n",
    "    roc_auc=True,\n",
    "    matrix=True,\n",
    "    figsize=(3,2),\n",
    "    cmap='YlGn')\n",
    "\n",
    "\n",
    "#model_xgbc_1.fit(X_train, y_train)\n",
    "#predict_and_print_scores(model_xgbc_1, X_train, y_train, X_test, y_test, matrix=False)"
   ]
  },
  {
   "cell_type": "code",
   "execution_count": 72,
   "metadata": {},
   "outputs": [],
   "source": [
    "## ADA Boost"
   ]
  },
  {
   "cell_type": "code",
   "execution_count": 73,
   "metadata": {
    "tags": []
   },
   "outputs": [
    {
     "name": "stdout",
     "output_type": "stream",
     "text": [
      "Accuracy on training set: 0.64\n",
      "Accuracy on test set: 0.64\n",
      "----------------------------------------\n",
      "Recall on training set: 0.76\n",
      "Recall on test set: 0.73\n",
      "----------------------------------------\n",
      "Precision on training set: 0.11\n",
      "Precision on test set: 0.11\n",
      "----------------------------------------\n",
      "fbeta_score on training set: 0.19\n",
      "fbeta_score on test set: 0.19\n",
      "----------------------------------------\n",
      "roc_auc_score on trainig set:  0.77\n",
      "roc_auc_score on test set:  0.76\n",
      "----------------------------------------\n"
     ]
    }
   ],
   "source": [
    "#model_xgb = XGBClassifier(objective='binary:logistic', seed=RSEED, use_label_encoder=False, eval_metric='logloss')\n",
    "num_features = X_train.select_dtypes(include=['int64', 'float64']).columns\n",
    "cat_features = X_train.select_dtypes(include=['object', 'category']).columns\n",
    "\n",
    "# preprocessing for numerical columns\n",
    "num_transformer = Pipeline(steps=[\n",
    "    ('imputer', SimpleImputer(strategy='constant', fill_value=0))\n",
    "])\n",
    "\n",
    "# preprocessing for categorical data\n",
    "cat_transformer = Pipeline(steps=[\n",
    "    ('imputer', SimpleImputer(strategy='constant', fill_value=0)),\n",
    "    #('onehot', OneHotEncoder(handle_unknown='ignore'))\n",
    "])\n",
    "\n",
    "# apply different preprocessing to num and cat features\n",
    "preprocessor = ColumnTransformer(\n",
    "    transformers=[\n",
    "        ('num', num_transformer, num_features),\n",
    "        ('cat', cat_transformer, cat_features)\n",
    "    ])\n",
    "\n",
    "model_ada_pipe = ImbPipeline([\n",
    "    ('prep', preprocessor),\n",
    "    #('undersample', RandomUnderSampler(sampling_strategy=0.5)),\n",
    "    ('oversample', RandomOverSampler(sampling_strategy='minority')),\n",
    "    ('ada', AdaBoostClassifier(random_state=RSEED))\n",
    "]) \n",
    "\n",
    "model_ada_pipe.fit(X_train, y_train)\n",
    "predict_and_print_scores(model_ada_pipe, X_train, y_train, X_test, y_test, matrix=False)"
   ]
  },
  {
   "cell_type": "code",
   "execution_count": 74,
   "metadata": {},
   "outputs": [],
   "source": [
    "## Random Forest"
   ]
  },
  {
   "cell_type": "code",
   "execution_count": 75,
   "metadata": {
    "tags": []
   },
   "outputs": [
    {
     "name": "stdout",
     "output_type": "stream",
     "text": [
      "Best params: {'rf__n_estimators': 300, 'rf__min_samples_split': 30, 'rf__max_features': 10, 'rf__max_depth': 7}\n",
      "----------------------------------------\n",
      "Accuracy on training set: 0.87\n",
      "Accuracy on test set: 0.86\n",
      "----------------------------------------\n",
      "Recall on training set: 0.4\n",
      "Recall on test set: 0.37\n",
      "----------------------------------------\n",
      "Precision on training set: 0.18\n",
      "Precision on test set: 0.17\n",
      "----------------------------------------\n",
      "fbeta_score on training set: 0.25\n",
      "fbeta_score on test set: 0.23\n",
      "----------------------------------------\n",
      "roc_auc_score on trainig set:  0.79\n",
      "roc_auc_score on test set:  0.76\n",
      "----------------------------------------\n"
     ]
    },
    {
     "data": {
      "image/png": "[encoded data removed]",
      "text/plain": [
       "<Figure size 300x200 with 2 Axes>"
      ]
     },
     "metadata": {},
     "output_type": "display_data"
    }
   ],
   "source": [
    "num_features = X_train.select_dtypes(include=['int64', 'float64']).columns\n",
    "cat_features = X_train.select_dtypes(include=['object', 'category']).columns\n",
    "\n",
    "# preprocessing for numerical columns\n",
    "num_transformer = Pipeline(steps=[\n",
    "    ('imputer', SimpleImputer(strategy='constant', fill_value=0))\n",
    "])\n",
    "\n",
    "# preprocessing for categorical data\n",
    "cat_transformer = Pipeline(steps=[\n",
    "    ('imputer', SimpleImputer(strategy='constant', fill_value=0)),\n",
    "    #('onehot', OneHotEncoder(handle_unknown='ignore'))\n",
    "])\n",
    "\n",
    "# apply different preprocessing to num and cat features\n",
    "preprocessor = ColumnTransformer(\n",
    "    transformers=[\n",
    "        ('num', num_transformer, num_features),\n",
    "        ('cat', cat_transformer, cat_features)\n",
    "    ])\n",
    "\n",
    "model_rf_pipe = ImbPipeline([\n",
    "    ('prep', preprocessor),\n",
    "    ('undersample', RandomUnderSampler(sampling_strategy=0.5)),\n",
    "    #('oversample', RandomOverSampler(sampling_strategy='minority')),\n",
    "    ('rf', RandomForestClassifier(random_state=RSEED, max_features = 'sqrt', n_jobs=-1, verbose = 0))\n",
    "])\n",
    "\n",
    "hyperparameters = {\n",
    "    'rf__n_estimators': [300], \n",
    "    'rf__max_depth': [3, 5, 7], \n",
    "    'rf__min_samples_split': [10, 20, 30],\n",
    "    'rf__max_features': ['sqrt', 10]\n",
    "}\n",
    "\n",
    "import warnings\n",
    "warnings.filterwarnings('ignore', category=UserWarning, module='lightgbm')\n",
    "\n",
    "# Train, cross-validate, predict, score\n",
    "model_rf_1, params_rf_1, _, _ = train_crossval_predict_score(\n",
    "    model_rf_pipe,\n",
    "    hyperparameters,    \n",
    "    X_train,\n",
    "    y_train,\n",
    "    X_test,\n",
    "    y_test,\n",
    "    cv=5,\n",
    "    scoring='f1',\n",
    "    verbose=0,\n",
    "    n_jobs=-1,\n",
    "    cross_val='random',\n",
    "    random_state=None,\n",
    "    training=True,\n",
    "    test=True,\n",
    "    accuracy=True,\n",
    "    recall=True,\n",
    "    precision=True,\n",
    "    fbeta=[True, 1.0],\n",
    "    roc_auc=True,\n",
    "    matrix=True,\n",
    "    figsize=(3,2),\n",
    "    cmap='YlGn')\n",
    "\n",
    "#model_rf_pipe.fit(X_train, y_train)\n",
    "#predict_and_print_scores(model_rf_pipe, X_train, y_train, X_test, y_test, training=False, matrix=False)"
   ]
  },
  {
   "cell_type": "code",
   "execution_count": null,
   "metadata": {},
   "outputs": [],
   "source": []
  },
  {
   "cell_type": "code",
   "execution_count": 94,
   "metadata": {
    "tags": []
   },
   "outputs": [
    {
     "data": {
      "text/html": [
       "<style>#sk-container-id-1 {color: black;background-color: white;}#sk-container-id-1 pre{padding: 0;}#sk-container-id-1 div.sk-toggleable {background-color: white;}#sk-container-id-1 label.sk-toggleable__label {cursor: pointer;display: block;width: 100%;margin-bottom: 0;padding: 0.3em;box-sizing: border-box;text-align: center;}#sk-container-id-1 label.sk-toggleable__label-arrow:before {content: \"▸\";float: left;margin-right: 0.25em;color: #696969;}#sk-container-id-1 label.sk-toggleable__label-arrow:hover:before {color: black;}#sk-container-id-1 div.sk-estimator:hover label.sk-toggleable__label-arrow:before {color: black;}#sk-container-id-1 div.sk-toggleable__content {max-height: 0;max-width: 0;overflow: hidden;text-align: left;background-color: #f0f8ff;}#sk-container-id-1 div.sk-toggleable__content pre {margin: 0.2em;color: black;border-radius: 0.25em;background-color: #f0f8ff;}#sk-container-id-1 input.sk-toggleable__control:checked~div.sk-toggleable__content {max-height: 200px;max-width: 100%;overflow: auto;}#sk-container-id-1 input.sk-toggleable__control:checked~label.sk-toggleable__label-arrow:before {content: \"▾\";}#sk-container-id-1 div.sk-estimator input.sk-toggleable__control:checked~label.sk-toggleable__label {background-color: #d4ebff;}#sk-container-id-1 div.sk-label input.sk-toggleable__control:checked~label.sk-toggleable__label {background-color: #d4ebff;}#sk-container-id-1 input.sk-hidden--visually {border: 0;clip: rect(1px 1px 1px 1px);clip: rect(1px, 1px, 1px, 1px);height: 1px;margin: -1px;overflow: hidden;padding: 0;position: absolute;width: 1px;}#sk-container-id-1 div.sk-estimator {font-family: monospace;background-color: #f0f8ff;border: 1px dotted black;border-radius: 0.25em;box-sizing: border-box;margin-bottom: 0.5em;}#sk-container-id-1 div.sk-estimator:hover {background-color: #d4ebff;}#sk-container-id-1 div.sk-parallel-item::after {content: \"\";width: 100%;border-bottom: 1px solid gray;flex-grow: 1;}#sk-container-id-1 div.sk-label:hover label.sk-toggleable__label {background-color: #d4ebff;}#sk-container-id-1 div.sk-serial::before {content: \"\";position: absolute;border-left: 1px solid gray;box-sizing: border-box;top: 0;bottom: 0;left: 50%;z-index: 0;}#sk-container-id-1 div.sk-serial {display: flex;flex-direction: column;align-items: center;background-color: white;padding-right: 0.2em;padding-left: 0.2em;position: relative;}#sk-container-id-1 div.sk-item {position: relative;z-index: 1;}#sk-container-id-1 div.sk-parallel {display: flex;align-items: stretch;justify-content: center;background-color: white;position: relative;}#sk-container-id-1 div.sk-item::before, #sk-container-id-1 div.sk-parallel-item::before {content: \"\";position: absolute;border-left: 1px solid gray;box-sizing: border-box;top: 0;bottom: 0;left: 50%;z-index: -1;}#sk-container-id-1 div.sk-parallel-item {display: flex;flex-direction: column;z-index: 1;position: relative;background-color: white;}#sk-container-id-1 div.sk-parallel-item:first-child::after {align-self: flex-end;width: 50%;}#sk-container-id-1 div.sk-parallel-item:last-child::after {align-self: flex-start;width: 50%;}#sk-container-id-1 div.sk-parallel-item:only-child::after {width: 0;}#sk-container-id-1 div.sk-dashed-wrapped {border: 1px dashed gray;margin: 0 0.4em 0.5em 0.4em;box-sizing: border-box;padding-bottom: 0.4em;background-color: white;}#sk-container-id-1 div.sk-label label {font-family: monospace;font-weight: bold;display: inline-block;line-height: 1.2em;}#sk-container-id-1 div.sk-label-container {text-align: center;}#sk-container-id-1 div.sk-container {/* jupyter's `normalize.less` sets `[hidden] { display: none; }` but bootstrap.min.css set `[hidden] { display: none !important; }` so we also need the `!important` here to be able to override the default hidden behavior on the sphinx rendered scikit-learn.org. See: https://github.com/scikit-learn/scikit-learn/issues/21755 */display: inline-block !important;position: relative;}#sk-container-id-1 div.sk-text-repr-fallback {display: none;}</style><div id=\"sk-container-id-1\" class=\"sk-top-container\"><div class=\"sk-text-repr-fallback\"><pre>VotingClassifier(estimators=[(&#x27;lgbmc&#x27;,\n",
       "                              Pipeline(steps=[(&#x27;prep&#x27;,\n",
       "                                               ColumnTransformer(transformers=[(&#x27;num&#x27;,\n",
       "                                                                                Pipeline(steps=[(&#x27;imputer&#x27;,\n",
       "                                                                                                 SimpleImputer(fill_value=0,\n",
       "                                                                                                               strategy=&#x27;constant&#x27;))]),\n",
       "                                                                                Index([&#x27;counter_status_mean&#x27;, &#x27;counter_status_std&#x27;, &#x27;agent_remark_mean&#x27;,\n",
       "       &#x27;agent_remark_std&#x27;, &#x27;counter_coefficient_mean&#x27;,\n",
       "       &#x27;counter_coefficient_std&#x27;, &#x27;elec_total_consumption&#x27;,\n",
       "       &#x27;ele...\n",
       "      dtype=&#x27;object&#x27;)),\n",
       "                                                                               (&#x27;cat&#x27;,\n",
       "                                                                                Pipeline(steps=[(&#x27;imputer&#x27;,\n",
       "                                                                                                 SimpleImputer(fill_value=0,\n",
       "                                                                                                               strategy=&#x27;constant&#x27;))]),\n",
       "                                                                                Index([&#x27;region&#x27;, &#x27;elec_tarif&#x27;, &#x27;gaz_tarif&#x27;], dtype=&#x27;object&#x27;))])),\n",
       "                                              (&#x27;undersample&#x27;,\n",
       "                                               RandomUnderSampler(sampling_strategy=0.5)),\n",
       "                                              (&#x27;rf&#x27;,\n",
       "                                               RandomForestClassifier(max_depth=7,\n",
       "                                                                      max_features=10,\n",
       "                                                                      min_samples_split=30,\n",
       "                                                                      n_estimators=300,\n",
       "                                                                      n_jobs=-1,\n",
       "                                                                      random_state=42))]))],\n",
       "                 voting=&#x27;soft&#x27;)</pre><b>In a Jupyter environment, please rerun this cell to show the HTML representation or trust the notebook. <br />On GitHub, the HTML representation is unable to render, please try loading this page with nbviewer.org.</b></div><div class=\"sk-container\" hidden><div class=\"sk-item sk-dashed-wrapped\"><div class=\"sk-label-container\"><div class=\"sk-label sk-toggleable\"><input class=\"sk-toggleable__control sk-hidden--visually\" id=\"sk-estimator-id-1\" type=\"checkbox\" ><label for=\"sk-estimator-id-1\" class=\"sk-toggleable__label sk-toggleable__label-arrow\">VotingClassifier</label><div class=\"sk-toggleable__content\"><pre>VotingClassifier(estimators=[(&#x27;lgbmc&#x27;,\n",
       "                              Pipeline(steps=[(&#x27;prep&#x27;,\n",
       "                                               ColumnTransformer(transformers=[(&#x27;num&#x27;,\n",
       "                                                                                Pipeline(steps=[(&#x27;imputer&#x27;,\n",
       "                                                                                                 SimpleImputer(fill_value=0,\n",
       "                                                                                                               strategy=&#x27;constant&#x27;))]),\n",
       "                                                                                Index([&#x27;counter_status_mean&#x27;, &#x27;counter_status_std&#x27;, &#x27;agent_remark_mean&#x27;,\n",
       "       &#x27;agent_remark_std&#x27;, &#x27;counter_coefficient_mean&#x27;,\n",
       "       &#x27;counter_coefficient_std&#x27;, &#x27;elec_total_consumption&#x27;,\n",
       "       &#x27;ele...\n",
       "      dtype=&#x27;object&#x27;)),\n",
       "                                                                               (&#x27;cat&#x27;,\n",
       "                                                                                Pipeline(steps=[(&#x27;imputer&#x27;,\n",
       "                                                                                                 SimpleImputer(fill_value=0,\n",
       "                                                                                                               strategy=&#x27;constant&#x27;))]),\n",
       "                                                                                Index([&#x27;region&#x27;, &#x27;elec_tarif&#x27;, &#x27;gaz_tarif&#x27;], dtype=&#x27;object&#x27;))])),\n",
       "                                              (&#x27;undersample&#x27;,\n",
       "                                               RandomUnderSampler(sampling_strategy=0.5)),\n",
       "                                              (&#x27;rf&#x27;,\n",
       "                                               RandomForestClassifier(max_depth=7,\n",
       "                                                                      max_features=10,\n",
       "                                                                      min_samples_split=30,\n",
       "                                                                      n_estimators=300,\n",
       "                                                                      n_jobs=-1,\n",
       "                                                                      random_state=42))]))],\n",
       "                 voting=&#x27;soft&#x27;)</pre></div></div></div><div class=\"sk-parallel\"><div class=\"sk-parallel-item\"><div class=\"sk-item\"><div class=\"sk-label-container\"><div class=\"sk-label sk-toggleable\"><label>lgbmc</label></div></div><div class=\"sk-serial\"><div class=\"sk-item\"><div class=\"sk-serial\"><div class=\"sk-item sk-dashed-wrapped\"><div class=\"sk-label-container\"><div class=\"sk-label sk-toggleable\"><input class=\"sk-toggleable__control sk-hidden--visually\" id=\"sk-estimator-id-2\" type=\"checkbox\" ><label for=\"sk-estimator-id-2\" class=\"sk-toggleable__label sk-toggleable__label-arrow\">prep: ColumnTransformer</label><div class=\"sk-toggleable__content\"><pre>ColumnTransformer(transformers=[(&#x27;num&#x27;,\n",
       "                                 Pipeline(steps=[(&#x27;imputer&#x27;,\n",
       "                                                  SimpleImputer(fill_value=0,\n",
       "                                                                strategy=&#x27;constant&#x27;))]),\n",
       "                                 Index([&#x27;counter_status_mean&#x27;, &#x27;counter_status_std&#x27;, &#x27;agent_remark_mean&#x27;,\n",
       "       &#x27;agent_remark_std&#x27;, &#x27;counter_coefficient_mean&#x27;,\n",
       "       &#x27;counter_coefficient_std&#x27;, &#x27;elec_total_consumption&#x27;,\n",
       "       &#x27;elec_min_consumption&#x27;, &#x27;elec_max_consumption&#x27;, &#x27;elec_mean_consumpti...\n",
       "       &#x27;elec_min_invoice_delta&#x27;, &#x27;elec_max_invoice_delta&#x27;,\n",
       "       &#x27;elec_mean_invoice_delta&#x27;, &#x27;elec_std_invoice_delta&#x27;,\n",
       "       &#x27;gas_min_invoice_delta&#x27;, &#x27;gas_max_invoice_delta&#x27;,\n",
       "       &#x27;gas_mean_invoice_delta&#x27;, &#x27;gas_std_invoice_delta&#x27;],\n",
       "      dtype=&#x27;object&#x27;)),\n",
       "                                (&#x27;cat&#x27;,\n",
       "                                 Pipeline(steps=[(&#x27;imputer&#x27;,\n",
       "                                                  SimpleImputer(fill_value=0,\n",
       "                                                                strategy=&#x27;constant&#x27;))]),\n",
       "                                 Index([&#x27;region&#x27;, &#x27;elec_tarif&#x27;, &#x27;gaz_tarif&#x27;], dtype=&#x27;object&#x27;))])</pre></div></div></div><div class=\"sk-parallel\"><div class=\"sk-parallel-item\"><div class=\"sk-item\"><div class=\"sk-label-container\"><div class=\"sk-label sk-toggleable\"><input class=\"sk-toggleable__control sk-hidden--visually\" id=\"sk-estimator-id-3\" type=\"checkbox\" ><label for=\"sk-estimator-id-3\" class=\"sk-toggleable__label sk-toggleable__label-arrow\">num</label><div class=\"sk-toggleable__content\"><pre>Index([&#x27;counter_status_mean&#x27;, &#x27;counter_status_std&#x27;, &#x27;agent_remark_mean&#x27;,\n",
       "       &#x27;agent_remark_std&#x27;, &#x27;counter_coefficient_mean&#x27;,\n",
       "       &#x27;counter_coefficient_std&#x27;, &#x27;elec_total_consumption&#x27;,\n",
       "       &#x27;elec_min_consumption&#x27;, &#x27;elec_max_consumption&#x27;, &#x27;elec_mean_consumption&#x27;,\n",
       "       &#x27;elec_std_consumption&#x27;, &#x27;gas_total_consumption&#x27;, &#x27;gas_min_consumption&#x27;,\n",
       "       &#x27;gas_max_consumption&#x27;, &#x27;gas_mean_consumption&#x27;, &#x27;gas_std_consumption&#x27;,\n",
       "       &#x27;elec_min_invoice_delta&#x27;, &#x27;elec_max_invoice_delta&#x27;,\n",
       "       &#x27;elec_mean_invoice_delta&#x27;, &#x27;elec_std_invoice_delta&#x27;,\n",
       "       &#x27;gas_min_invoice_delta&#x27;, &#x27;gas_max_invoice_delta&#x27;,\n",
       "       &#x27;gas_mean_invoice_delta&#x27;, &#x27;gas_std_invoice_delta&#x27;],\n",
       "      dtype=&#x27;object&#x27;)</pre></div></div></div><div class=\"sk-serial\"><div class=\"sk-item\"><div class=\"sk-serial\"><div class=\"sk-item\"><div class=\"sk-estimator sk-toggleable\"><input class=\"sk-toggleable__control sk-hidden--visually\" id=\"sk-estimator-id-4\" type=\"checkbox\" ><label for=\"sk-estimator-id-4\" class=\"sk-toggleable__label sk-toggleable__label-arrow\">SimpleImputer</label><div class=\"sk-toggleable__content\"><pre>SimpleImputer(fill_value=0, strategy=&#x27;constant&#x27;)</pre></div></div></div></div></div></div></div></div><div class=\"sk-parallel-item\"><div class=\"sk-item\"><div class=\"sk-label-container\"><div class=\"sk-label sk-toggleable\"><input class=\"sk-toggleable__control sk-hidden--visually\" id=\"sk-estimator-id-5\" type=\"checkbox\" ><label for=\"sk-estimator-id-5\" class=\"sk-toggleable__label sk-toggleable__label-arrow\">cat</label><div class=\"sk-toggleable__content\"><pre>Index([&#x27;region&#x27;, &#x27;elec_tarif&#x27;, &#x27;gaz_tarif&#x27;], dtype=&#x27;object&#x27;)</pre></div></div></div><div class=\"sk-serial\"><div class=\"sk-item\"><div class=\"sk-serial\"><div class=\"sk-item\"><div class=\"sk-estimator sk-toggleable\"><input class=\"sk-toggleable__control sk-hidden--visually\" id=\"sk-estimator-id-6\" type=\"checkbox\" ><label for=\"sk-estimator-id-6\" class=\"sk-toggleable__label sk-toggleable__label-arrow\">SimpleImputer</label><div class=\"sk-toggleable__content\"><pre>SimpleImputer(fill_value=0, strategy=&#x27;constant&#x27;)</pre></div></div></div></div></div></div></div></div></div></div><div class=\"sk-item\"><div class=\"sk-estimator sk-toggleable\"><input class=\"sk-toggleable__control sk-hidden--visually\" id=\"sk-estimator-id-7\" type=\"checkbox\" ><label for=\"sk-estimator-id-7\" class=\"sk-toggleable__label sk-toggleable__label-arrow\">LGBMClassifier</label><div class=\"sk-toggleable__content\"><pre>LGBMClassifier(n_jobs=-1, random_state=42, scale_pos_weight=4.111871093831228,\n",
       "               verbosity=-1)</pre></div></div></div></div></div></div></div></div><div class=\"sk-parallel-item\"><div class=\"sk-item\"><div class=\"sk-label-container\"><div class=\"sk-label sk-toggleable\"><label>xgbc</label></div></div><div class=\"sk-serial\"><div class=\"sk-item\"><div class=\"sk-serial\"><div class=\"sk-item sk-dashed-wrapped\"><div class=\"sk-label-container\"><div class=\"sk-label sk-toggleable\"><input class=\"sk-toggleable__control sk-hidden--visually\" id=\"sk-estimator-id-8\" type=\"checkbox\" ><label for=\"sk-estimator-id-8\" class=\"sk-toggleable__label sk-toggleable__label-arrow\">prep: ColumnTransformer</label><div class=\"sk-toggleable__content\"><pre>ColumnTransformer(transformers=[(&#x27;num&#x27;,\n",
       "                                 Pipeline(steps=[(&#x27;imputer&#x27;,\n",
       "                                                  SimpleImputer(fill_value=0,\n",
       "                                                                strategy=&#x27;constant&#x27;))]),\n",
       "                                 Index([&#x27;counter_status_mean&#x27;, &#x27;counter_status_std&#x27;, &#x27;agent_remark_mean&#x27;,\n",
       "       &#x27;agent_remark_std&#x27;, &#x27;counter_coefficient_mean&#x27;,\n",
       "       &#x27;counter_coefficient_std&#x27;, &#x27;elec_total_consumption&#x27;,\n",
       "       &#x27;elec_min_consumption&#x27;, &#x27;elec_max_consumption&#x27;, &#x27;elec_mean_consumpti...\n",
       "       &#x27;elec_min_invoice_delta&#x27;, &#x27;elec_max_invoice_delta&#x27;,\n",
       "       &#x27;elec_mean_invoice_delta&#x27;, &#x27;elec_std_invoice_delta&#x27;,\n",
       "       &#x27;gas_min_invoice_delta&#x27;, &#x27;gas_max_invoice_delta&#x27;,\n",
       "       &#x27;gas_mean_invoice_delta&#x27;, &#x27;gas_std_invoice_delta&#x27;],\n",
       "      dtype=&#x27;object&#x27;)),\n",
       "                                (&#x27;cat&#x27;,\n",
       "                                 Pipeline(steps=[(&#x27;imputer&#x27;,\n",
       "                                                  SimpleImputer(fill_value=0,\n",
       "                                                                strategy=&#x27;constant&#x27;))]),\n",
       "                                 Index([&#x27;region&#x27;, &#x27;elec_tarif&#x27;, &#x27;gaz_tarif&#x27;], dtype=&#x27;object&#x27;))])</pre></div></div></div><div class=\"sk-parallel\"><div class=\"sk-parallel-item\"><div class=\"sk-item\"><div class=\"sk-label-container\"><div class=\"sk-label sk-toggleable\"><input class=\"sk-toggleable__control sk-hidden--visually\" id=\"sk-estimator-id-9\" type=\"checkbox\" ><label for=\"sk-estimator-id-9\" class=\"sk-toggleable__label sk-toggleable__label-arrow\">num</label><div class=\"sk-toggleable__content\"><pre>Index([&#x27;counter_status_mean&#x27;, &#x27;counter_status_std&#x27;, &#x27;agent_remark_mean&#x27;,\n",
       "       &#x27;agent_remark_std&#x27;, &#x27;counter_coefficient_mean&#x27;,\n",
       "       &#x27;counter_coefficient_std&#x27;, &#x27;elec_total_consumption&#x27;,\n",
       "       &#x27;elec_min_consumption&#x27;, &#x27;elec_max_consumption&#x27;, &#x27;elec_mean_consumption&#x27;,\n",
       "       &#x27;elec_std_consumption&#x27;, &#x27;gas_total_consumption&#x27;, &#x27;gas_min_consumption&#x27;,\n",
       "       &#x27;gas_max_consumption&#x27;, &#x27;gas_mean_consumption&#x27;, &#x27;gas_std_consumption&#x27;,\n",
       "       &#x27;elec_min_invoice_delta&#x27;, &#x27;elec_max_invoice_delta&#x27;,\n",
       "       &#x27;elec_mean_invoice_delta&#x27;, &#x27;elec_std_invoice_delta&#x27;,\n",
       "       &#x27;gas_min_invoice_delta&#x27;, &#x27;gas_max_invoice_delta&#x27;,\n",
       "       &#x27;gas_mean_invoice_delta&#x27;, &#x27;gas_std_invoice_delta&#x27;],\n",
       "      dtype=&#x27;object&#x27;)</pre></div></div></div><div class=\"sk-serial\"><div class=\"sk-item\"><div class=\"sk-serial\"><div class=\"sk-item\"><div class=\"sk-estimator sk-toggleable\"><input class=\"sk-toggleable__control sk-hidden--visually\" id=\"sk-estimator-id-10\" type=\"checkbox\" ><label for=\"sk-estimator-id-10\" class=\"sk-toggleable__label sk-toggleable__label-arrow\">SimpleImputer</label><div class=\"sk-toggleable__content\"><pre>SimpleImputer(fill_value=0, strategy=&#x27;constant&#x27;)</pre></div></div></div></div></div></div></div></div><div class=\"sk-parallel-item\"><div class=\"sk-item\"><div class=\"sk-label-container\"><div class=\"sk-label sk-toggleable\"><input class=\"sk-toggleable__control sk-hidden--visually\" id=\"sk-estimator-id-11\" type=\"checkbox\" ><label for=\"sk-estimator-id-11\" class=\"sk-toggleable__label sk-toggleable__label-arrow\">cat</label><div class=\"sk-toggleable__content\"><pre>Index([&#x27;region&#x27;, &#x27;elec_tarif&#x27;, &#x27;gaz_tarif&#x27;], dtype=&#x27;object&#x27;)</pre></div></div></div><div class=\"sk-serial\"><div class=\"sk-item\"><div class=\"sk-serial\"><div class=\"sk-item\"><div class=\"sk-estimator sk-toggleable\"><input class=\"sk-toggleable__control sk-hidden--visually\" id=\"sk-estimator-id-12\" type=\"checkbox\" ><label for=\"sk-estimator-id-12\" class=\"sk-toggleable__label sk-toggleable__label-arrow\">SimpleImputer</label><div class=\"sk-toggleable__content\"><pre>SimpleImputer(fill_value=0, strategy=&#x27;constant&#x27;)</pre></div></div></div></div></div></div></div></div></div></div><div class=\"sk-item\"><div class=\"sk-estimator sk-toggleable\"><input class=\"sk-toggleable__control sk-hidden--visually\" id=\"sk-estimator-id-13\" type=\"checkbox\" ><label for=\"sk-estimator-id-13\" class=\"sk-toggleable__label sk-toggleable__label-arrow\">RandomOverSampler</label><div class=\"sk-toggleable__content\"><pre>RandomOverSampler(sampling_strategy=&#x27;minority&#x27;)</pre></div></div></div><div class=\"sk-item\"><div class=\"sk-estimator sk-toggleable\"><input class=\"sk-toggleable__control sk-hidden--visually\" id=\"sk-estimator-id-14\" type=\"checkbox\" ><label for=\"sk-estimator-id-14\" class=\"sk-toggleable__label sk-toggleable__label-arrow\">XGBClassifier</label><div class=\"sk-toggleable__content\"><pre>XGBClassifier(base_score=None, booster=None, callbacks=None,\n",
       "              colsample_bylevel=None, colsample_bynode=None,\n",
       "              colsample_bytree=1.0, device=None, early_stopping_rounds=None,\n",
       "              enable_categorical=False, eval_metric=None, feature_types=None,\n",
       "              gamma=None, grow_policy=None, importance_type=None,\n",
       "              interaction_constraints=None, learning_rate=0.01, max_bin=None,\n",
       "              max_cat_threshold=None, max_cat_to_onehot=None,\n",
       "              max_delta_step=None, max_depth=20, max_leaves=None,\n",
       "              min_child_weight=None, missing=nan, monotone_constraints=None,\n",
       "              multi_strategy=None, n_estimators=10, n_jobs=-1,\n",
       "              num_parallel_tree=None, random_state=None, ...)</pre></div></div></div></div></div></div></div></div><div class=\"sk-parallel-item\"><div class=\"sk-item\"><div class=\"sk-label-container\"><div class=\"sk-label sk-toggleable\"><label>ada</label></div></div><div class=\"sk-serial\"><div class=\"sk-item\"><div class=\"sk-serial\"><div class=\"sk-item sk-dashed-wrapped\"><div class=\"sk-label-container\"><div class=\"sk-label sk-toggleable\"><input class=\"sk-toggleable__control sk-hidden--visually\" id=\"sk-estimator-id-15\" type=\"checkbox\" ><label for=\"sk-estimator-id-15\" class=\"sk-toggleable__label sk-toggleable__label-arrow\">prep: ColumnTransformer</label><div class=\"sk-toggleable__content\"><pre>ColumnTransformer(transformers=[(&#x27;num&#x27;,\n",
       "                                 Pipeline(steps=[(&#x27;imputer&#x27;,\n",
       "                                                  SimpleImputer(fill_value=0,\n",
       "                                                                strategy=&#x27;constant&#x27;))]),\n",
       "                                 Index([&#x27;counter_status_mean&#x27;, &#x27;counter_status_std&#x27;, &#x27;agent_remark_mean&#x27;,\n",
       "       &#x27;agent_remark_std&#x27;, &#x27;counter_coefficient_mean&#x27;,\n",
       "       &#x27;counter_coefficient_std&#x27;, &#x27;elec_total_consumption&#x27;,\n",
       "       &#x27;elec_min_consumption&#x27;, &#x27;elec_max_consumption&#x27;, &#x27;elec_mean_consumpti...\n",
       "       &#x27;elec_min_invoice_delta&#x27;, &#x27;elec_max_invoice_delta&#x27;,\n",
       "       &#x27;elec_mean_invoice_delta&#x27;, &#x27;elec_std_invoice_delta&#x27;,\n",
       "       &#x27;gas_min_invoice_delta&#x27;, &#x27;gas_max_invoice_delta&#x27;,\n",
       "       &#x27;gas_mean_invoice_delta&#x27;, &#x27;gas_std_invoice_delta&#x27;],\n",
       "      dtype=&#x27;object&#x27;)),\n",
       "                                (&#x27;cat&#x27;,\n",
       "                                 Pipeline(steps=[(&#x27;imputer&#x27;,\n",
       "                                                  SimpleImputer(fill_value=0,\n",
       "                                                                strategy=&#x27;constant&#x27;))]),\n",
       "                                 Index([&#x27;region&#x27;, &#x27;elec_tarif&#x27;, &#x27;gaz_tarif&#x27;], dtype=&#x27;object&#x27;))])</pre></div></div></div><div class=\"sk-parallel\"><div class=\"sk-parallel-item\"><div class=\"sk-item\"><div class=\"sk-label-container\"><div class=\"sk-label sk-toggleable\"><input class=\"sk-toggleable__control sk-hidden--visually\" id=\"sk-estimator-id-16\" type=\"checkbox\" ><label for=\"sk-estimator-id-16\" class=\"sk-toggleable__label sk-toggleable__label-arrow\">num</label><div class=\"sk-toggleable__content\"><pre>Index([&#x27;counter_status_mean&#x27;, &#x27;counter_status_std&#x27;, &#x27;agent_remark_mean&#x27;,\n",
       "       &#x27;agent_remark_std&#x27;, &#x27;counter_coefficient_mean&#x27;,\n",
       "       &#x27;counter_coefficient_std&#x27;, &#x27;elec_total_consumption&#x27;,\n",
       "       &#x27;elec_min_consumption&#x27;, &#x27;elec_max_consumption&#x27;, &#x27;elec_mean_consumption&#x27;,\n",
       "       &#x27;elec_std_consumption&#x27;, &#x27;gas_total_consumption&#x27;, &#x27;gas_min_consumption&#x27;,\n",
       "       &#x27;gas_max_consumption&#x27;, &#x27;gas_mean_consumption&#x27;, &#x27;gas_std_consumption&#x27;,\n",
       "       &#x27;elec_min_invoice_delta&#x27;, &#x27;elec_max_invoice_delta&#x27;,\n",
       "       &#x27;elec_mean_invoice_delta&#x27;, &#x27;elec_std_invoice_delta&#x27;,\n",
       "       &#x27;gas_min_invoice_delta&#x27;, &#x27;gas_max_invoice_delta&#x27;,\n",
       "       &#x27;gas_mean_invoice_delta&#x27;, &#x27;gas_std_invoice_delta&#x27;],\n",
       "      dtype=&#x27;object&#x27;)</pre></div></div></div><div class=\"sk-serial\"><div class=\"sk-item\"><div class=\"sk-serial\"><div class=\"sk-item\"><div class=\"sk-estimator sk-toggleable\"><input class=\"sk-toggleable__control sk-hidden--visually\" id=\"sk-estimator-id-17\" type=\"checkbox\" ><label for=\"sk-estimator-id-17\" class=\"sk-toggleable__label sk-toggleable__label-arrow\">SimpleImputer</label><div class=\"sk-toggleable__content\"><pre>SimpleImputer(fill_value=0, strategy=&#x27;constant&#x27;)</pre></div></div></div></div></div></div></div></div><div class=\"sk-parallel-item\"><div class=\"sk-item\"><div class=\"sk-label-container\"><div class=\"sk-label sk-toggleable\"><input class=\"sk-toggleable__control sk-hidden--visually\" id=\"sk-estimator-id-18\" type=\"checkbox\" ><label for=\"sk-estimator-id-18\" class=\"sk-toggleable__label sk-toggleable__label-arrow\">cat</label><div class=\"sk-toggleable__content\"><pre>Index([&#x27;region&#x27;, &#x27;elec_tarif&#x27;, &#x27;gaz_tarif&#x27;], dtype=&#x27;object&#x27;)</pre></div></div></div><div class=\"sk-serial\"><div class=\"sk-item\"><div class=\"sk-serial\"><div class=\"sk-item\"><div class=\"sk-estimator sk-toggleable\"><input class=\"sk-toggleable__control sk-hidden--visually\" id=\"sk-estimator-id-19\" type=\"checkbox\" ><label for=\"sk-estimator-id-19\" class=\"sk-toggleable__label sk-toggleable__label-arrow\">SimpleImputer</label><div class=\"sk-toggleable__content\"><pre>SimpleImputer(fill_value=0, strategy=&#x27;constant&#x27;)</pre></div></div></div></div></div></div></div></div></div></div><div class=\"sk-item\"><div class=\"sk-estimator sk-toggleable\"><input class=\"sk-toggleable__control sk-hidden--visually\" id=\"sk-estimator-id-20\" type=\"checkbox\" ><label for=\"sk-estimator-id-20\" class=\"sk-toggleable__label sk-toggleable__label-arrow\">RandomOverSampler</label><div class=\"sk-toggleable__content\"><pre>RandomOverSampler(sampling_strategy=&#x27;minority&#x27;)</pre></div></div></div><div class=\"sk-item\"><div class=\"sk-estimator sk-toggleable\"><input class=\"sk-toggleable__control sk-hidden--visually\" id=\"sk-estimator-id-21\" type=\"checkbox\" ><label for=\"sk-estimator-id-21\" class=\"sk-toggleable__label sk-toggleable__label-arrow\">AdaBoostClassifier</label><div class=\"sk-toggleable__content\"><pre>AdaBoostClassifier(random_state=42)</pre></div></div></div></div></div></div></div></div><div class=\"sk-parallel-item\"><div class=\"sk-item\"><div class=\"sk-label-container\"><div class=\"sk-label sk-toggleable\"><label>rf</label></div></div><div class=\"sk-serial\"><div class=\"sk-item\"><div class=\"sk-serial\"><div class=\"sk-item sk-dashed-wrapped\"><div class=\"sk-label-container\"><div class=\"sk-label sk-toggleable\"><input class=\"sk-toggleable__control sk-hidden--visually\" id=\"sk-estimator-id-22\" type=\"checkbox\" ><label for=\"sk-estimator-id-22\" class=\"sk-toggleable__label sk-toggleable__label-arrow\">prep: ColumnTransformer</label><div class=\"sk-toggleable__content\"><pre>ColumnTransformer(transformers=[(&#x27;num&#x27;,\n",
       "                                 Pipeline(steps=[(&#x27;imputer&#x27;,\n",
       "                                                  SimpleImputer(fill_value=0,\n",
       "                                                                strategy=&#x27;constant&#x27;))]),\n",
       "                                 Index([&#x27;counter_status_mean&#x27;, &#x27;counter_status_std&#x27;, &#x27;agent_remark_mean&#x27;,\n",
       "       &#x27;agent_remark_std&#x27;, &#x27;counter_coefficient_mean&#x27;,\n",
       "       &#x27;counter_coefficient_std&#x27;, &#x27;elec_total_consumption&#x27;,\n",
       "       &#x27;elec_min_consumption&#x27;, &#x27;elec_max_consumption&#x27;, &#x27;elec_mean_consumpti...\n",
       "       &#x27;elec_min_invoice_delta&#x27;, &#x27;elec_max_invoice_delta&#x27;,\n",
       "       &#x27;elec_mean_invoice_delta&#x27;, &#x27;elec_std_invoice_delta&#x27;,\n",
       "       &#x27;gas_min_invoice_delta&#x27;, &#x27;gas_max_invoice_delta&#x27;,\n",
       "       &#x27;gas_mean_invoice_delta&#x27;, &#x27;gas_std_invoice_delta&#x27;],\n",
       "      dtype=&#x27;object&#x27;)),\n",
       "                                (&#x27;cat&#x27;,\n",
       "                                 Pipeline(steps=[(&#x27;imputer&#x27;,\n",
       "                                                  SimpleImputer(fill_value=0,\n",
       "                                                                strategy=&#x27;constant&#x27;))]),\n",
       "                                 Index([&#x27;region&#x27;, &#x27;elec_tarif&#x27;, &#x27;gaz_tarif&#x27;], dtype=&#x27;object&#x27;))])</pre></div></div></div><div class=\"sk-parallel\"><div class=\"sk-parallel-item\"><div class=\"sk-item\"><div class=\"sk-label-container\"><div class=\"sk-label sk-toggleable\"><input class=\"sk-toggleable__control sk-hidden--visually\" id=\"sk-estimator-id-23\" type=\"checkbox\" ><label for=\"sk-estimator-id-23\" class=\"sk-toggleable__label sk-toggleable__label-arrow\">num</label><div class=\"sk-toggleable__content\"><pre>Index([&#x27;counter_status_mean&#x27;, &#x27;counter_status_std&#x27;, &#x27;agent_remark_mean&#x27;,\n",
       "       &#x27;agent_remark_std&#x27;, &#x27;counter_coefficient_mean&#x27;,\n",
       "       &#x27;counter_coefficient_std&#x27;, &#x27;elec_total_consumption&#x27;,\n",
       "       &#x27;elec_min_consumption&#x27;, &#x27;elec_max_consumption&#x27;, &#x27;elec_mean_consumption&#x27;,\n",
       "       &#x27;elec_std_consumption&#x27;, &#x27;gas_total_consumption&#x27;, &#x27;gas_min_consumption&#x27;,\n",
       "       &#x27;gas_max_consumption&#x27;, &#x27;gas_mean_consumption&#x27;, &#x27;gas_std_consumption&#x27;,\n",
       "       &#x27;elec_min_invoice_delta&#x27;, &#x27;elec_max_invoice_delta&#x27;,\n",
       "       &#x27;elec_mean_invoice_delta&#x27;, &#x27;elec_std_invoice_delta&#x27;,\n",
       "       &#x27;gas_min_invoice_delta&#x27;, &#x27;gas_max_invoice_delta&#x27;,\n",
       "       &#x27;gas_mean_invoice_delta&#x27;, &#x27;gas_std_invoice_delta&#x27;],\n",
       "      dtype=&#x27;object&#x27;)</pre></div></div></div><div class=\"sk-serial\"><div class=\"sk-item\"><div class=\"sk-serial\"><div class=\"sk-item\"><div class=\"sk-estimator sk-toggleable\"><input class=\"sk-toggleable__control sk-hidden--visually\" id=\"sk-estimator-id-24\" type=\"checkbox\" ><label for=\"sk-estimator-id-24\" class=\"sk-toggleable__label sk-toggleable__label-arrow\">SimpleImputer</label><div class=\"sk-toggleable__content\"><pre>SimpleImputer(fill_value=0, strategy=&#x27;constant&#x27;)</pre></div></div></div></div></div></div></div></div><div class=\"sk-parallel-item\"><div class=\"sk-item\"><div class=\"sk-label-container\"><div class=\"sk-label sk-toggleable\"><input class=\"sk-toggleable__control sk-hidden--visually\" id=\"sk-estimator-id-25\" type=\"checkbox\" ><label for=\"sk-estimator-id-25\" class=\"sk-toggleable__label sk-toggleable__label-arrow\">cat</label><div class=\"sk-toggleable__content\"><pre>Index([&#x27;region&#x27;, &#x27;elec_tarif&#x27;, &#x27;gaz_tarif&#x27;], dtype=&#x27;object&#x27;)</pre></div></div></div><div class=\"sk-serial\"><div class=\"sk-item\"><div class=\"sk-serial\"><div class=\"sk-item\"><div class=\"sk-estimator sk-toggleable\"><input class=\"sk-toggleable__control sk-hidden--visually\" id=\"sk-estimator-id-26\" type=\"checkbox\" ><label for=\"sk-estimator-id-26\" class=\"sk-toggleable__label sk-toggleable__label-arrow\">SimpleImputer</label><div class=\"sk-toggleable__content\"><pre>SimpleImputer(fill_value=0, strategy=&#x27;constant&#x27;)</pre></div></div></div></div></div></div></div></div></div></div><div class=\"sk-item\"><div class=\"sk-estimator sk-toggleable\"><input class=\"sk-toggleable__control sk-hidden--visually\" id=\"sk-estimator-id-27\" type=\"checkbox\" ><label for=\"sk-estimator-id-27\" class=\"sk-toggleable__label sk-toggleable__label-arrow\">RandomUnderSampler</label><div class=\"sk-toggleable__content\"><pre>RandomUnderSampler(sampling_strategy=0.5)</pre></div></div></div><div class=\"sk-item\"><div class=\"sk-estimator sk-toggleable\"><input class=\"sk-toggleable__control sk-hidden--visually\" id=\"sk-estimator-id-28\" type=\"checkbox\" ><label for=\"sk-estimator-id-28\" class=\"sk-toggleable__label sk-toggleable__label-arrow\">RandomForestClassifier</label><div class=\"sk-toggleable__content\"><pre>RandomForestClassifier(max_depth=7, max_features=10, min_samples_split=30,\n",
       "                       n_estimators=300, n_jobs=-1, random_state=42)</pre></div></div></div></div></div></div></div></div></div></div></div></div>"
      ],
      "text/plain": [
       "VotingClassifier(estimators=[('lgbmc',\n",
       "                              Pipeline(steps=[('prep',\n",
       "                                               ColumnTransformer(transformers=[('num',\n",
       "                                                                                Pipeline(steps=[('imputer',\n",
       "                                                                                                 SimpleImputer(fill_value=0,\n",
       "                                                                                                               strategy='constant'))]),\n",
       "                                                                                Index(['counter_status_mean', 'counter_status_std', 'agent_remark_mean',\n",
       "       'agent_remark_std', 'counter_coefficient_mean',\n",
       "       'counter_coefficient_std', 'elec_total_consumption',\n",
       "       'ele...\n",
       "      dtype='object')),\n",
       "                                                                               ('cat',\n",
       "                                                                                Pipeline(steps=[('imputer',\n",
       "                                                                                                 SimpleImputer(fill_value=0,\n",
       "                                                                                                               strategy='constant'))]),\n",
       "                                                                                Index(['region', 'elec_tarif', 'gaz_tarif'], dtype='object'))])),\n",
       "                                              ('undersample',\n",
       "                                               RandomUnderSampler(sampling_strategy=0.5)),\n",
       "                                              ('rf',\n",
       "                                               RandomForestClassifier(max_depth=7,\n",
       "                                                                      max_features=10,\n",
       "                                                                      min_samples_split=30,\n",
       "                                                                      n_estimators=300,\n",
       "                                                                      n_jobs=-1,\n",
       "                                                                      random_state=42))]))],\n",
       "                 voting='soft')"
      ]
     },
     "execution_count": 94,
     "metadata": {},
     "output_type": "execute_result"
    }
   ],
   "source": [
    "#model1 = LogisticRegression(random_state = RSEED)\n",
    "#model2 =  KNeighborsClassifier()\n",
    "#model3 = DecisionTreeClassifier(random_state = RSEED)\n",
    "\n",
    "model_ensemble = VotingClassifier(estimators = [('lgbmc', model_lgbmc_2), ('xgbc', model_xgbc_1), ('ada', model_ada_pipe), ('rf', model_rf_1)], voting = 'soft')\n",
    "model_ensemble.fit(X_train, y_train)\n",
    "#predict_and_print_scores(model_ensemble, X_train, y_train, X_test, y_test, matrix=False)"
   ]
  },
  {
   "cell_type": "code",
   "execution_count": null,
   "metadata": {},
   "outputs": [],
   "source": []
  },
  {
   "cell_type": "code",
   "execution_count": 95,
   "metadata": {
    "tags": []
   },
   "outputs": [
    {
     "data": {
      "image/png": "[encoded data removed]",
      "text/plain": [
       "<Figure size 600x500 with 1 Axes>"
      ]
     },
     "metadata": {},
     "output_type": "display_data"
    }
   ],
   "source": [
    "fpr_base, tpr_base, thresholds_base = roc_curve(y_test_base, model_lgbmc_base.predict_proba(X_test_base)[:,1])\n",
    "fpr_lgbmc1, tpr_lgbmc1, thresholds_lgbmc1 = roc_curve(y_test, model_lgbmc_1.predict_proba(X_test)[:,1])\n",
    "fpr_lgbmc2, tpr_lgbmc2, thresholds_lgbmc2 = roc_curve(y_test, model_lgbmc_2.predict_proba(X_test)[:,1])\n",
    "fpr_lgbmc3, tpr_lgbmc3, thresholds_lgbmc3 = roc_curve(y_test, model_lgbmc_3.predict_proba(X_test)[:,1])\n",
    "fpr_xgbc1, tpr_xgbc1, thresholds_xgbc1 = roc_curve(y_test, model_xgbc_1.predict_proba(X_test)[:,1])\n",
    "fpr_ada_pipe, tpr_ada_pipe, thresholds_pipe = roc_curve(y_test, model_ada_pipe.predict_proba(X_test)[:,1])\n",
    "fpr_rf_1, tpr_rf_1, thresholds_rf_1 = roc_curve(y_test, model_rf_1.predict_proba(X_test)[:,1])\n",
    "fpr_ensem, tpr_ensem, thresholds_ensem = roc_curve(y_test, model_ensemble.predict_proba(X_test)[:,1])\n",
    "\n",
    "fig = plt.figure(figsize=(6,5))\n",
    "ax = fig.add_subplot()\n",
    "plt.plot(fpr_base, tpr_base,'r-',label = 'lgbmc - base')\n",
    "plt.plot(fpr_lgbmc1, tpr_lgbmc1,'g-', label= 'lgbmc1 - onehot')\n",
    "plt.plot(fpr_lgbmc2, tpr_lgbmc2,'b-', label= 'lgbmc2 - no onehot')\n",
    "plt.plot(fpr_lgbmc3, tpr_lgbmc3,'m-', label= 'lgbmc3 - no onehot - cv')\n",
    "plt.plot(fpr_xgbc1, tpr_xgbc1,'y-', label= 'xgbc1 - cv')\n",
    "plt.plot(fpr_ada_pipe, tpr_ada_pipe,'c-', label= 'adaboost')\n",
    "plt.plot(fpr_rf_1, tpr_rf_1,'r--', label= 'rf - cv')\n",
    "plt.plot(fpr_ensem, tpr_ensem, 'k-', label = 'ensemble')\n",
    "\n",
    "plt.plot([0,1],[0,1],'k:',label='random')\n",
    "plt.plot([0,0,1,1],[0,1,1,1],'k--',label='perfect')\n",
    "plt.legend(title='Best Models')\n",
    "plt.xlabel('False Positive Rate (1 - Specifity)')\n",
    "plt.ylabel('True Positive Rate (Recall)')\n",
    "plt.grid()"
   ]
  },
  {
   "cell_type": "code",
   "execution_count": 79,
   "metadata": {
    "tags": []
   },
   "outputs": [
    {
     "name": "stdout",
     "output_type": "stream",
     "text": [
      "Best threshold: 0.35\n",
      "Best f1 score: 0.2516750418760469\n"
     ]
    }
   ],
   "source": [
    "thr, score = find_roc_threshold_f1(model_lgbmc_2, X_test, y_test)\n",
    "print(f\"Best threshold: {thr}\")\n",
    "print(f\"Best f1 score: {score}\")"
   ]
  },
  {
   "cell_type": "code",
   "execution_count": 84,
   "metadata": {
    "tags": []
   },
   "outputs": [
    {
     "name": "stdout",
     "output_type": "stream",
     "text": [
      "Threshold for tpr of 0.1563014322391852\n",
      "False positive rate: 0.3865785976706011\n"
     ]
    }
   ],
   "source": [
    "thr_1, false_pos_rate = find_roc_threshold_tpr(model_lgbmc_2, X_test, y_test, 0.8)\n",
    "print(f\"Threshold for tpr of {thr_1}\")\n",
    "print(f\"False positive rate: {false_pos_rate}\")"
   ]
  },
  {
   "cell_type": "code",
   "execution_count": 102,
   "metadata": {
    "tags": []
   },
   "outputs": [
    {
     "name": "stdout",
     "output_type": "stream",
     "text": [
      "Threshold for tpr of 0.1561853334964724\n",
      "False positive rate: 0.38689126866254986\n"
     ]
    },
    {
     "data": {
      "text/plain": [
       "0.00026437541308665935"
      ]
     },
     "execution_count": 102,
     "metadata": {},
     "output_type": "execute_result"
    }
   ],
   "source": [
    "fpr, tpr, thr = roc_curve(y_test, model_lgbmc_2.predict_proba(X_test)[:,1])\n",
    "\n",
    "old_diff = 100000000\n",
    "for index, value in enumerate(tpr):\n",
    "    new_diff = abs(0.8 - value)\n",
    "    if new_diff <= old_diff:\n",
    "        false_pos_rate = fpr[index]\n",
    "        threshold = thr[index]\n",
    "        old_diff = new_diff\n",
    "print(f\"Threshold for tpr of {threshold}\")\n",
    "print(f\"False positive rate: {false_pos_rate}\")  \n",
    "old_diff"
   ]
  },
  {
   "cell_type": "code",
   "execution_count": 87,
   "metadata": {
    "tags": []
   },
   "outputs": [
    {
     "data": {
      "text/plain": [
       "array([ 91,  67, 235, 166,   6,   0, 180, 140, 161, 208, 160,  78,  56,\n",
       "        57,  56,  76, 145, 177, 153, 162,  70,  92, 103,  78, 208,  72,\n",
       "         3])"
      ]
     },
     "execution_count": 87,
     "metadata": {},
     "output_type": "execute_result"
    }
   ],
   "source": []
  },
  {
   "cell_type": "code",
   "execution_count": 89,
   "metadata": {
    "tags": []
   },
   "outputs": [
    {
     "name": "stdout",
     "output_type": "stream",
     "text": [
      "Feature: counter_status_min, Importance: 235\n",
      "Feature: agent_remark_std, Importance: 208\n",
      "Feature: gas_min_consumption, Importance: 208\n",
      "Feature: agent_remark_min, Importance: 180\n",
      "Feature: gaz_tarif, Importance: 177\n",
      "Feature: counter_status_max, Importance: 166\n",
      "Feature: elec_min_consumption, Importance: 162\n",
      "Feature: agent_remark_mean, Importance: 161\n",
      "Feature: counter_coefficient_min, Importance: 160\n",
      "Feature: elec_total_consumption, Importance: 153\n",
      "Feature: elec_tarif, Importance: 145\n",
      "Feature: agent_remark_max, Importance: 140\n",
      "Feature: elec_std_consumption, Importance: 103\n",
      "Feature: elec_mean_consumption, Importance: 92\n",
      "Feature: client_catg, Importance: 91\n",
      "Feature: counter_coefficient_max, Importance: 78\n",
      "Feature: gas_total_consumption, Importance: 78\n",
      "Feature: count_gas_transactions, Importance: 76\n",
      "Feature: gas_max_consumption, Importance: 72\n",
      "Feature: elec_max_consumption, Importance: 70\n",
      "Feature: region, Importance: 67\n",
      "Feature: counter_coefficient_std, Importance: 57\n",
      "Feature: counter_coefficient_mean, Importance: 56\n",
      "Feature: count_elec_transactions, Importance: 56\n",
      "Feature: counter_status_mean, Importance: 6\n",
      "Feature: gas_mean_consumption, Importance: 3\n",
      "Feature: counter_status_std, Importance: 0\n"
     ]
    }
   ],
   "source": [
    "# Get the LGBMClassifier step from the pipeline\n",
    "lgbmc_step = model_lgbmc_2.named_steps['lgbmc']\n",
    "\n",
    "# Access feature importances\n",
    "feature_importances = lgbmc_step.feature_importances_\n",
    "\n",
    "feature_names = X_train.columns\n",
    "\n",
    "# Combine feature names and their importances into a dictionary, then sort by importance\n",
    "importances_dict = dict(zip(feature_names, feature_importances))\n",
    "sorted_importances = sorted(importances_dict.items(), key=lambda x: x[1], reverse=True)\n",
    "\n",
    "# Displaying feature importances\n",
    "for feature, importance in sorted_importances:\n",
    "    print(f\"Feature: {feature}, Importance: {importance}\")"
   ]
  },
  {
   "cell_type": "code",
   "execution_count": null,
   "metadata": {},
   "outputs": [],
   "source": []
  },
  {
   "cell_type": "markdown",
   "metadata": {
    "id": "Msm0u0WXdQ2l"
   },
   "source": [
    "## Tips \n",
    "- Thorough EDA and incorporating domain knowledge\n",
    "- Re-grouping categorical features\n",
    "- More feature engineering(try utilizing some date-time features)\n",
    "- Target balancing - oversampling, undersampling, SMOTE, scale_pos_weight\n",
    "- Model ensembling\n",
    "- Train-test split or cross-validation\n"
   ]
  },
  {
   "cell_type": "markdown",
   "metadata": {
    "id": "fgvYxyLXeEuU"
   },
   "source": [
    "# ******************* GOOD LUCK!!! ***************************"
   ]
  }
 ],
 "metadata": {
  "colab": {
   "provenance": []
  },
  "kernelspec": {
   "display_name": "Python 3 (ipykernel)",
   "language": "python",
   "name": "python3"
  },
  "language_info": {
   "codemirror_mode": {
    "name": "ipython",
    "version": 3
   },
   "file_extension": ".py",
   "mimetype": "text/x-python",
   "name": "python",
   "nbconvert_exporter": "python",
   "pygments_lexer": "ipython3",
   "version": "3.11.3"
  }
 },
 "nbformat": 4,
 "nbformat_minor": 4
}
